{
 "cells": [
  {
   "cell_type": "markdown",
   "metadata": {
    "id": "SsK70HKKtGEk"
   },
   "source": [
    "## Welcome to Week 0!\n",
    "\n",
    "Live sessions during this course will be oriented primarily around:\n",
    "\n",
    "1.   Lecture\n",
    "2.   Programming in [Jupyter notebooks](https://jupyter.org/) like the one you're in now.\n",
    "\n",
    "We will release notebooks on Mondays. Before lecture, you should download the .ipynb file, and open it either locally on your own machine or in Google Colab. It's a good idea to skim the notebook to get a sense for what it covers, but **don't start working on it before lecture**--the idea is for you to starting working on these **in class** (with the instructors and, more importantly, with your classmates).\n",
    "\n",
    "---\n",
    "\n",
    "This week we have some warm-up excercises to go through so that we can all practice using notebooks and some other tools that will be used throughout the course.\n",
    "\n",
    "*   Google Colab is a tool for editing and running Jupyter notebooks using Google's infrastructure. For most of you, using Colab to edit and run notebooks will make your life easier, especially after week 5 of the course.\n",
    "*   We're asking you to do Week 0's assignment (this one) in Colab, but after today you **aren't required to use it**.\n"
   ]
  },
  {
   "cell_type": "markdown",
   "metadata": {
    "id": "EEmebwjevCxD"
   },
   "source": [
    "### Task 1 -- Open File in Google Colab\n",
    "\n",
    "1. Download the .ipynb file released in Canvas.\n",
    "2. Make a folder in Google Drive where you can put content for the course and upload the .ipynb file to your Google Drive folder\n",
    "3. Install Google Colaboratory:\n",
    "    * Right click on the .ipynb file and go to \"Connect more apps\" (you can skip this if you already see \"Google Colaboratory\"\n",
    "    * Search for \"Colaboratory\" and click Install.\n",
    "4. Now if you click on the file it should open in Google colab."
   ]
  },
  {
   "cell_type": "markdown",
   "metadata": {
    "id": "8zoACTydJwZ1"
   },
   "source": [
    "### Task 2 -- Open csv File in Google Colab\n",
    "\n",
    "There are [several ways to do this](https://colab.research.google.com/notebooks/io.ipynb#scrollTo=c2W5A2px3doP), but just follow along below.\n",
    "\n",
    "> *Note: If you run this file locally rather than in Google Colab, you can just load in the data as follows:*\n",
    "> \n",
    "> ```\n",
    "> import pandas as pd\n",
    "> data = pd.read_csv('time_series_covid_19_confirmed.csv')\n",
    "> ```\n",
    "\n",
    "1. Download the data file from Canvas (this week the data is `time_series_covid_19_confirmed.csv`)."
   ]
  },
  {
   "cell_type": "markdown",
   "metadata": {
    "id": "3wy5VMcvJwZ2"
   },
   "source": [
    "2. Import pandas, which we'll be using to wrangle .csv files."
   ]
  },
  {
   "cell_type": "code",
   "execution_count": 3,
   "metadata": {
    "id": "0y-Hy-cPL-pH"
   },
   "outputs": [],
   "source": [
    "import pandas as pd"
   ]
  },
  {
   "cell_type": "markdown",
   "metadata": {
    "id": "rmBPUvjoLDg3"
   },
   "source": [
    "3. Upload the time_series_covid_19_confirmed.csv file to Google drive."
   ]
  },
  {
   "cell_type": "markdown",
   "metadata": {
    "id": "MTY8AqyVJwZ4"
   },
   "source": [
    "4. We will be using the google colab package for managing the drive. Run the following line and grant the permissions requested."
   ]
  },
  {
   "cell_type": "code",
   "execution_count": 4,
   "metadata": {
    "id": "YGSmXXALJwZ5"
   },
   "outputs": [],
   "source": [
    "#from google.colab import drive"
   ]
  },
  {
   "cell_type": "markdown",
   "metadata": {
    "id": "tRiXIlu4JwZ7"
   },
   "source": [
    "5. Run the following code to mount your Google Drive at the location */content/drive* on the virtual machine running this notebook. You will have access to all the files in your Google Drive."
   ]
  },
  {
   "cell_type": "code",
   "execution_count": 5,
   "metadata": {
    "id": "Mqah54vN8CVB",
    "colab": {
     "base_uri": "https://localhost:8080/"
    },
    "outputId": "884ce7ab-a5a1-4baa-e8ae-7104bccf568e"
   },
   "outputs": [],
   "source": [
    "#drive.mount('/content/drive')"
   ]
  },
  {
   "cell_type": "markdown",
   "metadata": {
    "id": "r_nFd-8lJwZ8"
   },
   "source": [
    "6. Edit filepath to be the path to the csv file. In my case, it's located in Google Drive in a folder called fourthbrain.\n",
    "7. Run the following line to load the data into a Pandas DataFrame."
   ]
  },
  {
   "cell_type": "code",
   "execution_count": 6,
   "metadata": {
    "id": "sRi98Qrk97eR"
   },
   "outputs": [],
   "source": [
    "#filepath = '/content/drive/MyDrive/Colab Notebooks/Week0/time_series_covid_19_confirmed.csv'\n",
    "data = pd.read_csv('time_series_covid_19_confirmed.csv')"
   ]
  },
  {
   "cell_type": "markdown",
   "metadata": {
    "id": "ijhzFI68JwZ9"
   },
   "source": [
    "8. Verify that the data is loaded in correctly by running data.head() to see the first few rows of the DataFrame."
   ]
  },
  {
   "cell_type": "code",
   "execution_count": 7,
   "metadata": {
    "id": "uozIqWfbJwZ9",
    "colab": {
     "base_uri": "https://localhost:8080/",
     "height": 297
    },
    "outputId": "63d3aad3-7561-47fd-ac32-c8a6295274c0"
   },
   "outputs": [
    {
     "data": {
      "text/plain": "  Province/State Country/Region       Lat       Long  1/22/20  1/23/20  \\\n0            NaN    Afghanistan  33.93911  67.709953        0        0   \n1            NaN        Albania  41.15330  20.168300        0        0   \n2            NaN        Algeria  28.03390   1.659600        0        0   \n3            NaN        Andorra  42.50630   1.521800        0        0   \n4            NaN         Angola -11.20270  17.873900        0        0   \n\n   1/24/20  1/25/20  1/26/20  1/27/20  ...  8/20/20  8/21/20  8/22/20  \\\n0        0        0        0        0  ...    37856    37894    37953   \n1        0        0        0        0  ...     7967     8119     8275   \n2        0        0        0        0  ...    40258    40667    41068   \n3        0        0        0        0  ...     1024     1045     1045   \n4        0        0        0        0  ...     2044     2068     2134   \n\n   8/23/20  8/24/20  8/25/20  8/26/20  8/27/20  8/28/20  8/29/20  \n0    37999    38054    38070    38113    38129    38140    38143  \n1     8427     8605     8759     8927     9083     9195     9279  \n2    41460    41858    42228    42619    43016    43403    43781  \n3     1045     1060     1060     1098     1098     1124     1124  \n4     2171     2222     2283     2332     2415     2471     2551  \n\n[5 rows x 225 columns]",
      "text/html": "<div>\n<style scoped>\n    .dataframe tbody tr th:only-of-type {\n        vertical-align: middle;\n    }\n\n    .dataframe tbody tr th {\n        vertical-align: top;\n    }\n\n    .dataframe thead th {\n        text-align: right;\n    }\n</style>\n<table border=\"1\" class=\"dataframe\">\n  <thead>\n    <tr style=\"text-align: right;\">\n      <th></th>\n      <th>Province/State</th>\n      <th>Country/Region</th>\n      <th>Lat</th>\n      <th>Long</th>\n      <th>1/22/20</th>\n      <th>1/23/20</th>\n      <th>1/24/20</th>\n      <th>1/25/20</th>\n      <th>1/26/20</th>\n      <th>1/27/20</th>\n      <th>...</th>\n      <th>8/20/20</th>\n      <th>8/21/20</th>\n      <th>8/22/20</th>\n      <th>8/23/20</th>\n      <th>8/24/20</th>\n      <th>8/25/20</th>\n      <th>8/26/20</th>\n      <th>8/27/20</th>\n      <th>8/28/20</th>\n      <th>8/29/20</th>\n    </tr>\n  </thead>\n  <tbody>\n    <tr>\n      <th>0</th>\n      <td>NaN</td>\n      <td>Afghanistan</td>\n      <td>33.93911</td>\n      <td>67.709953</td>\n      <td>0</td>\n      <td>0</td>\n      <td>0</td>\n      <td>0</td>\n      <td>0</td>\n      <td>0</td>\n      <td>...</td>\n      <td>37856</td>\n      <td>37894</td>\n      <td>37953</td>\n      <td>37999</td>\n      <td>38054</td>\n      <td>38070</td>\n      <td>38113</td>\n      <td>38129</td>\n      <td>38140</td>\n      <td>38143</td>\n    </tr>\n    <tr>\n      <th>1</th>\n      <td>NaN</td>\n      <td>Albania</td>\n      <td>41.15330</td>\n      <td>20.168300</td>\n      <td>0</td>\n      <td>0</td>\n      <td>0</td>\n      <td>0</td>\n      <td>0</td>\n      <td>0</td>\n      <td>...</td>\n      <td>7967</td>\n      <td>8119</td>\n      <td>8275</td>\n      <td>8427</td>\n      <td>8605</td>\n      <td>8759</td>\n      <td>8927</td>\n      <td>9083</td>\n      <td>9195</td>\n      <td>9279</td>\n    </tr>\n    <tr>\n      <th>2</th>\n      <td>NaN</td>\n      <td>Algeria</td>\n      <td>28.03390</td>\n      <td>1.659600</td>\n      <td>0</td>\n      <td>0</td>\n      <td>0</td>\n      <td>0</td>\n      <td>0</td>\n      <td>0</td>\n      <td>...</td>\n      <td>40258</td>\n      <td>40667</td>\n      <td>41068</td>\n      <td>41460</td>\n      <td>41858</td>\n      <td>42228</td>\n      <td>42619</td>\n      <td>43016</td>\n      <td>43403</td>\n      <td>43781</td>\n    </tr>\n    <tr>\n      <th>3</th>\n      <td>NaN</td>\n      <td>Andorra</td>\n      <td>42.50630</td>\n      <td>1.521800</td>\n      <td>0</td>\n      <td>0</td>\n      <td>0</td>\n      <td>0</td>\n      <td>0</td>\n      <td>0</td>\n      <td>...</td>\n      <td>1024</td>\n      <td>1045</td>\n      <td>1045</td>\n      <td>1045</td>\n      <td>1060</td>\n      <td>1060</td>\n      <td>1098</td>\n      <td>1098</td>\n      <td>1124</td>\n      <td>1124</td>\n    </tr>\n    <tr>\n      <th>4</th>\n      <td>NaN</td>\n      <td>Angola</td>\n      <td>-11.20270</td>\n      <td>17.873900</td>\n      <td>0</td>\n      <td>0</td>\n      <td>0</td>\n      <td>0</td>\n      <td>0</td>\n      <td>0</td>\n      <td>...</td>\n      <td>2044</td>\n      <td>2068</td>\n      <td>2134</td>\n      <td>2171</td>\n      <td>2222</td>\n      <td>2283</td>\n      <td>2332</td>\n      <td>2415</td>\n      <td>2471</td>\n      <td>2551</td>\n    </tr>\n  </tbody>\n</table>\n<p>5 rows × 225 columns</p>\n</div>"
     },
     "execution_count": 7,
     "metadata": {},
     "output_type": "execute_result"
    }
   ],
   "source": [
    "data.head()"
   ]
  },
  {
   "cell_type": "code",
   "source": [
    "data.shape"
   ],
   "metadata": {
    "colab": {
     "base_uri": "https://localhost:8080/"
    },
    "id": "3cqt_1VbcczT",
    "outputId": "f5f6791e-4609-492a-f1c4-b41f2881aa2e"
   },
   "execution_count": 8,
   "outputs": [
    {
     "data": {
      "text/plain": "(266, 225)"
     },
     "execution_count": 8,
     "metadata": {},
     "output_type": "execute_result"
    }
   ]
  },
  {
   "cell_type": "markdown",
   "metadata": {
    "id": "KuKdLYyKPaEf"
   },
   "source": [
    "### Task 3 -- Get familiar with the data"
   ]
  },
  {
   "cell_type": "markdown",
   "metadata": {
    "id": "oHk1Yre-JwZ-"
   },
   "source": [
    "1. We will be using matplotlib, so start by importing it."
   ]
  },
  {
   "cell_type": "code",
   "execution_count": 9,
   "metadata": {
    "id": "GsmBMe9c5tjm"
   },
   "outputs": [],
   "source": [
    "from matplotlib import pyplot as plt"
   ]
  },
  {
   "cell_type": "markdown",
   "metadata": {
    "id": "F0BdG5NfJwZ_"
   },
   "source": [
    "2. Look at the first 5 rows of the DataFrame with `data.head()`"
   ]
  },
  {
   "cell_type": "code",
   "execution_count": 10,
   "metadata": {
    "id": "qSqsKMSJQDDN",
    "colab": {
     "base_uri": "https://localhost:8080/",
     "height": 297
    },
    "outputId": "5c5c1a25-54b0-4a56-e32d-aad6764b1ad4"
   },
   "outputs": [
    {
     "data": {
      "text/plain": "  Province/State Country/Region       Lat       Long  1/22/20  1/23/20  \\\n0            NaN    Afghanistan  33.93911  67.709953        0        0   \n1            NaN        Albania  41.15330  20.168300        0        0   \n2            NaN        Algeria  28.03390   1.659600        0        0   \n3            NaN        Andorra  42.50630   1.521800        0        0   \n4            NaN         Angola -11.20270  17.873900        0        0   \n\n   1/24/20  1/25/20  1/26/20  1/27/20  ...  8/20/20  8/21/20  8/22/20  \\\n0        0        0        0        0  ...    37856    37894    37953   \n1        0        0        0        0  ...     7967     8119     8275   \n2        0        0        0        0  ...    40258    40667    41068   \n3        0        0        0        0  ...     1024     1045     1045   \n4        0        0        0        0  ...     2044     2068     2134   \n\n   8/23/20  8/24/20  8/25/20  8/26/20  8/27/20  8/28/20  8/29/20  \n0    37999    38054    38070    38113    38129    38140    38143  \n1     8427     8605     8759     8927     9083     9195     9279  \n2    41460    41858    42228    42619    43016    43403    43781  \n3     1045     1060     1060     1098     1098     1124     1124  \n4     2171     2222     2283     2332     2415     2471     2551  \n\n[5 rows x 225 columns]",
      "text/html": "<div>\n<style scoped>\n    .dataframe tbody tr th:only-of-type {\n        vertical-align: middle;\n    }\n\n    .dataframe tbody tr th {\n        vertical-align: top;\n    }\n\n    .dataframe thead th {\n        text-align: right;\n    }\n</style>\n<table border=\"1\" class=\"dataframe\">\n  <thead>\n    <tr style=\"text-align: right;\">\n      <th></th>\n      <th>Province/State</th>\n      <th>Country/Region</th>\n      <th>Lat</th>\n      <th>Long</th>\n      <th>1/22/20</th>\n      <th>1/23/20</th>\n      <th>1/24/20</th>\n      <th>1/25/20</th>\n      <th>1/26/20</th>\n      <th>1/27/20</th>\n      <th>...</th>\n      <th>8/20/20</th>\n      <th>8/21/20</th>\n      <th>8/22/20</th>\n      <th>8/23/20</th>\n      <th>8/24/20</th>\n      <th>8/25/20</th>\n      <th>8/26/20</th>\n      <th>8/27/20</th>\n      <th>8/28/20</th>\n      <th>8/29/20</th>\n    </tr>\n  </thead>\n  <tbody>\n    <tr>\n      <th>0</th>\n      <td>NaN</td>\n      <td>Afghanistan</td>\n      <td>33.93911</td>\n      <td>67.709953</td>\n      <td>0</td>\n      <td>0</td>\n      <td>0</td>\n      <td>0</td>\n      <td>0</td>\n      <td>0</td>\n      <td>...</td>\n      <td>37856</td>\n      <td>37894</td>\n      <td>37953</td>\n      <td>37999</td>\n      <td>38054</td>\n      <td>38070</td>\n      <td>38113</td>\n      <td>38129</td>\n      <td>38140</td>\n      <td>38143</td>\n    </tr>\n    <tr>\n      <th>1</th>\n      <td>NaN</td>\n      <td>Albania</td>\n      <td>41.15330</td>\n      <td>20.168300</td>\n      <td>0</td>\n      <td>0</td>\n      <td>0</td>\n      <td>0</td>\n      <td>0</td>\n      <td>0</td>\n      <td>...</td>\n      <td>7967</td>\n      <td>8119</td>\n      <td>8275</td>\n      <td>8427</td>\n      <td>8605</td>\n      <td>8759</td>\n      <td>8927</td>\n      <td>9083</td>\n      <td>9195</td>\n      <td>9279</td>\n    </tr>\n    <tr>\n      <th>2</th>\n      <td>NaN</td>\n      <td>Algeria</td>\n      <td>28.03390</td>\n      <td>1.659600</td>\n      <td>0</td>\n      <td>0</td>\n      <td>0</td>\n      <td>0</td>\n      <td>0</td>\n      <td>0</td>\n      <td>...</td>\n      <td>40258</td>\n      <td>40667</td>\n      <td>41068</td>\n      <td>41460</td>\n      <td>41858</td>\n      <td>42228</td>\n      <td>42619</td>\n      <td>43016</td>\n      <td>43403</td>\n      <td>43781</td>\n    </tr>\n    <tr>\n      <th>3</th>\n      <td>NaN</td>\n      <td>Andorra</td>\n      <td>42.50630</td>\n      <td>1.521800</td>\n      <td>0</td>\n      <td>0</td>\n      <td>0</td>\n      <td>0</td>\n      <td>0</td>\n      <td>0</td>\n      <td>...</td>\n      <td>1024</td>\n      <td>1045</td>\n      <td>1045</td>\n      <td>1045</td>\n      <td>1060</td>\n      <td>1060</td>\n      <td>1098</td>\n      <td>1098</td>\n      <td>1124</td>\n      <td>1124</td>\n    </tr>\n    <tr>\n      <th>4</th>\n      <td>NaN</td>\n      <td>Angola</td>\n      <td>-11.20270</td>\n      <td>17.873900</td>\n      <td>0</td>\n      <td>0</td>\n      <td>0</td>\n      <td>0</td>\n      <td>0</td>\n      <td>0</td>\n      <td>...</td>\n      <td>2044</td>\n      <td>2068</td>\n      <td>2134</td>\n      <td>2171</td>\n      <td>2222</td>\n      <td>2283</td>\n      <td>2332</td>\n      <td>2415</td>\n      <td>2471</td>\n      <td>2551</td>\n    </tr>\n  </tbody>\n</table>\n<p>5 rows × 225 columns</p>\n</div>"
     },
     "execution_count": 10,
     "metadata": {},
     "output_type": "execute_result"
    }
   ],
   "source": [
    "data.head(5)"
   ]
  },
  {
   "cell_type": "markdown",
   "metadata": {
    "id": "W_5ZRPZ2JwZ_"
   },
   "source": [
    "3. Look at the data to get an idea of what it is and then write a few sentences describing what you notice about the data."
   ]
  },
  {
   "cell_type": "markdown",
   "metadata": {
    "id": "h457TEMXJwZ_"
   },
   "source": [
    "***Answer***\n",
    "\n",
    "1. Most of the data in the province/State column is empty or with NaN values.\n",
    "2. The file has number of covid cases between january and august 2020\n",
    "3. We can transform the data grouping the information by date and counting by number of cases "
   ]
  },
  {
   "cell_type": "markdown",
   "metadata": {
    "id": "MSnM-cLkJwaA"
   },
   "source": [
    "4. Notice that the data includes country level data as well as province/state level data. Let's only include rows that don't have provinces or states. Use the `.isna()` method on the `Province/State` column to determine these rows and subset to only include the rows without a Province/State.\n",
    "\n",
    "  Verify that the result of the `head()` method is what's expected."
   ]
  },
  {
   "cell_type": "code",
   "execution_count": 11,
   "metadata": {
    "id": "FHh4u4HIJwaA",
    "colab": {
     "base_uri": "https://localhost:8080/",
     "height": 297
    },
    "outputId": "68d8bfea-4705-4f94-eacc-c8827e84b78b"
   },
   "outputs": [
    {
     "data": {
      "text/plain": "  Province/State Country/Region       Lat       Long  1/22/20  1/23/20  \\\n0            NaN    Afghanistan  33.93911  67.709953        0        0   \n1            NaN        Albania  41.15330  20.168300        0        0   \n2            NaN        Algeria  28.03390   1.659600        0        0   \n3            NaN        Andorra  42.50630   1.521800        0        0   \n4            NaN         Angola -11.20270  17.873900        0        0   \n\n   1/24/20  1/25/20  1/26/20  1/27/20  ...  8/20/20  8/21/20  8/22/20  \\\n0        0        0        0        0  ...    37856    37894    37953   \n1        0        0        0        0  ...     7967     8119     8275   \n2        0        0        0        0  ...    40258    40667    41068   \n3        0        0        0        0  ...     1024     1045     1045   \n4        0        0        0        0  ...     2044     2068     2134   \n\n   8/23/20  8/24/20  8/25/20  8/26/20  8/27/20  8/28/20  8/29/20  \n0    37999    38054    38070    38113    38129    38140    38143  \n1     8427     8605     8759     8927     9083     9195     9279  \n2    41460    41858    42228    42619    43016    43403    43781  \n3     1045     1060     1060     1098     1098     1124     1124  \n4     2171     2222     2283     2332     2415     2471     2551  \n\n[5 rows x 225 columns]",
      "text/html": "<div>\n<style scoped>\n    .dataframe tbody tr th:only-of-type {\n        vertical-align: middle;\n    }\n\n    .dataframe tbody tr th {\n        vertical-align: top;\n    }\n\n    .dataframe thead th {\n        text-align: right;\n    }\n</style>\n<table border=\"1\" class=\"dataframe\">\n  <thead>\n    <tr style=\"text-align: right;\">\n      <th></th>\n      <th>Province/State</th>\n      <th>Country/Region</th>\n      <th>Lat</th>\n      <th>Long</th>\n      <th>1/22/20</th>\n      <th>1/23/20</th>\n      <th>1/24/20</th>\n      <th>1/25/20</th>\n      <th>1/26/20</th>\n      <th>1/27/20</th>\n      <th>...</th>\n      <th>8/20/20</th>\n      <th>8/21/20</th>\n      <th>8/22/20</th>\n      <th>8/23/20</th>\n      <th>8/24/20</th>\n      <th>8/25/20</th>\n      <th>8/26/20</th>\n      <th>8/27/20</th>\n      <th>8/28/20</th>\n      <th>8/29/20</th>\n    </tr>\n  </thead>\n  <tbody>\n    <tr>\n      <th>0</th>\n      <td>NaN</td>\n      <td>Afghanistan</td>\n      <td>33.93911</td>\n      <td>67.709953</td>\n      <td>0</td>\n      <td>0</td>\n      <td>0</td>\n      <td>0</td>\n      <td>0</td>\n      <td>0</td>\n      <td>...</td>\n      <td>37856</td>\n      <td>37894</td>\n      <td>37953</td>\n      <td>37999</td>\n      <td>38054</td>\n      <td>38070</td>\n      <td>38113</td>\n      <td>38129</td>\n      <td>38140</td>\n      <td>38143</td>\n    </tr>\n    <tr>\n      <th>1</th>\n      <td>NaN</td>\n      <td>Albania</td>\n      <td>41.15330</td>\n      <td>20.168300</td>\n      <td>0</td>\n      <td>0</td>\n      <td>0</td>\n      <td>0</td>\n      <td>0</td>\n      <td>0</td>\n      <td>...</td>\n      <td>7967</td>\n      <td>8119</td>\n      <td>8275</td>\n      <td>8427</td>\n      <td>8605</td>\n      <td>8759</td>\n      <td>8927</td>\n      <td>9083</td>\n      <td>9195</td>\n      <td>9279</td>\n    </tr>\n    <tr>\n      <th>2</th>\n      <td>NaN</td>\n      <td>Algeria</td>\n      <td>28.03390</td>\n      <td>1.659600</td>\n      <td>0</td>\n      <td>0</td>\n      <td>0</td>\n      <td>0</td>\n      <td>0</td>\n      <td>0</td>\n      <td>...</td>\n      <td>40258</td>\n      <td>40667</td>\n      <td>41068</td>\n      <td>41460</td>\n      <td>41858</td>\n      <td>42228</td>\n      <td>42619</td>\n      <td>43016</td>\n      <td>43403</td>\n      <td>43781</td>\n    </tr>\n    <tr>\n      <th>3</th>\n      <td>NaN</td>\n      <td>Andorra</td>\n      <td>42.50630</td>\n      <td>1.521800</td>\n      <td>0</td>\n      <td>0</td>\n      <td>0</td>\n      <td>0</td>\n      <td>0</td>\n      <td>0</td>\n      <td>...</td>\n      <td>1024</td>\n      <td>1045</td>\n      <td>1045</td>\n      <td>1045</td>\n      <td>1060</td>\n      <td>1060</td>\n      <td>1098</td>\n      <td>1098</td>\n      <td>1124</td>\n      <td>1124</td>\n    </tr>\n    <tr>\n      <th>4</th>\n      <td>NaN</td>\n      <td>Angola</td>\n      <td>-11.20270</td>\n      <td>17.873900</td>\n      <td>0</td>\n      <td>0</td>\n      <td>0</td>\n      <td>0</td>\n      <td>0</td>\n      <td>0</td>\n      <td>...</td>\n      <td>2044</td>\n      <td>2068</td>\n      <td>2134</td>\n      <td>2171</td>\n      <td>2222</td>\n      <td>2283</td>\n      <td>2332</td>\n      <td>2415</td>\n      <td>2471</td>\n      <td>2551</td>\n    </tr>\n  </tbody>\n</table>\n<p>5 rows × 225 columns</p>\n</div>"
     },
     "execution_count": 11,
     "metadata": {},
     "output_type": "execute_result"
    }
   ],
   "source": [
    "data_countries = data[data['Province/State'].isna()]\n",
    "data_countries.head()\n"
   ]
  },
  {
   "cell_type": "code",
   "source": [
    "data_countries.shape"
   ],
   "metadata": {
    "colab": {
     "base_uri": "https://localhost:8080/"
    },
    "id": "rDUJ5xoHciAk",
    "outputId": "0e6b30e2-680a-461f-efb8-169ed4db22e7"
   },
   "execution_count": 12,
   "outputs": [
    {
     "data": {
      "text/plain": "(185, 225)"
     },
     "execution_count": 12,
     "metadata": {},
     "output_type": "execute_result"
    }
   ]
  },
  {
   "cell_type": "markdown",
   "metadata": {
    "id": "4xGg2DvOJwaA"
   },
   "source": [
    "5. Use the `.set_index()` method to set the index to be the `Country/Region` column. This will make acccessing the data by country easier. Use the `inplace=True` attribute to modify the existing DataFrame rather than creating a new one.\n",
    "\n",
    "  Verify that the result of the `head()` method is what's expected."
   ]
  },
  {
   "cell_type": "code",
   "execution_count": 13,
   "metadata": {
    "id": "3PiJaSZrJwaA",
    "colab": {
     "base_uri": "https://localhost:8080/",
     "height": 328
    },
    "outputId": "99b0c483-3eb1-43df-c981-c3a51ef294da"
   },
   "outputs": [
    {
     "data": {
      "text/plain": "               Province/State       Lat       Long  1/22/20  1/23/20  1/24/20  \\\nCountry/Region                                                                  \nAfghanistan               NaN  33.93911  67.709953        0        0        0   \nAlbania                   NaN  41.15330  20.168300        0        0        0   \nAlgeria                   NaN  28.03390   1.659600        0        0        0   \nAndorra                   NaN  42.50630   1.521800        0        0        0   \nAngola                    NaN -11.20270  17.873900        0        0        0   \n\n                1/25/20  1/26/20  1/27/20  1/28/20  ...  8/20/20  8/21/20  \\\nCountry/Region                                      ...                     \nAfghanistan           0        0        0        0  ...    37856    37894   \nAlbania               0        0        0        0  ...     7967     8119   \nAlgeria               0        0        0        0  ...    40258    40667   \nAndorra               0        0        0        0  ...     1024     1045   \nAngola                0        0        0        0  ...     2044     2068   \n\n                8/22/20  8/23/20  8/24/20  8/25/20  8/26/20  8/27/20  8/28/20  \\\nCountry/Region                                                                  \nAfghanistan       37953    37999    38054    38070    38113    38129    38140   \nAlbania            8275     8427     8605     8759     8927     9083     9195   \nAlgeria           41068    41460    41858    42228    42619    43016    43403   \nAndorra            1045     1045     1060     1060     1098     1098     1124   \nAngola             2134     2171     2222     2283     2332     2415     2471   \n\n                8/29/20  \nCountry/Region           \nAfghanistan       38143  \nAlbania            9279  \nAlgeria           43781  \nAndorra            1124  \nAngola             2551  \n\n[5 rows x 224 columns]",
      "text/html": "<div>\n<style scoped>\n    .dataframe tbody tr th:only-of-type {\n        vertical-align: middle;\n    }\n\n    .dataframe tbody tr th {\n        vertical-align: top;\n    }\n\n    .dataframe thead th {\n        text-align: right;\n    }\n</style>\n<table border=\"1\" class=\"dataframe\">\n  <thead>\n    <tr style=\"text-align: right;\">\n      <th></th>\n      <th>Province/State</th>\n      <th>Lat</th>\n      <th>Long</th>\n      <th>1/22/20</th>\n      <th>1/23/20</th>\n      <th>1/24/20</th>\n      <th>1/25/20</th>\n      <th>1/26/20</th>\n      <th>1/27/20</th>\n      <th>1/28/20</th>\n      <th>...</th>\n      <th>8/20/20</th>\n      <th>8/21/20</th>\n      <th>8/22/20</th>\n      <th>8/23/20</th>\n      <th>8/24/20</th>\n      <th>8/25/20</th>\n      <th>8/26/20</th>\n      <th>8/27/20</th>\n      <th>8/28/20</th>\n      <th>8/29/20</th>\n    </tr>\n    <tr>\n      <th>Country/Region</th>\n      <th></th>\n      <th></th>\n      <th></th>\n      <th></th>\n      <th></th>\n      <th></th>\n      <th></th>\n      <th></th>\n      <th></th>\n      <th></th>\n      <th></th>\n      <th></th>\n      <th></th>\n      <th></th>\n      <th></th>\n      <th></th>\n      <th></th>\n      <th></th>\n      <th></th>\n      <th></th>\n      <th></th>\n    </tr>\n  </thead>\n  <tbody>\n    <tr>\n      <th>Afghanistan</th>\n      <td>NaN</td>\n      <td>33.93911</td>\n      <td>67.709953</td>\n      <td>0</td>\n      <td>0</td>\n      <td>0</td>\n      <td>0</td>\n      <td>0</td>\n      <td>0</td>\n      <td>0</td>\n      <td>...</td>\n      <td>37856</td>\n      <td>37894</td>\n      <td>37953</td>\n      <td>37999</td>\n      <td>38054</td>\n      <td>38070</td>\n      <td>38113</td>\n      <td>38129</td>\n      <td>38140</td>\n      <td>38143</td>\n    </tr>\n    <tr>\n      <th>Albania</th>\n      <td>NaN</td>\n      <td>41.15330</td>\n      <td>20.168300</td>\n      <td>0</td>\n      <td>0</td>\n      <td>0</td>\n      <td>0</td>\n      <td>0</td>\n      <td>0</td>\n      <td>0</td>\n      <td>...</td>\n      <td>7967</td>\n      <td>8119</td>\n      <td>8275</td>\n      <td>8427</td>\n      <td>8605</td>\n      <td>8759</td>\n      <td>8927</td>\n      <td>9083</td>\n      <td>9195</td>\n      <td>9279</td>\n    </tr>\n    <tr>\n      <th>Algeria</th>\n      <td>NaN</td>\n      <td>28.03390</td>\n      <td>1.659600</td>\n      <td>0</td>\n      <td>0</td>\n      <td>0</td>\n      <td>0</td>\n      <td>0</td>\n      <td>0</td>\n      <td>0</td>\n      <td>...</td>\n      <td>40258</td>\n      <td>40667</td>\n      <td>41068</td>\n      <td>41460</td>\n      <td>41858</td>\n      <td>42228</td>\n      <td>42619</td>\n      <td>43016</td>\n      <td>43403</td>\n      <td>43781</td>\n    </tr>\n    <tr>\n      <th>Andorra</th>\n      <td>NaN</td>\n      <td>42.50630</td>\n      <td>1.521800</td>\n      <td>0</td>\n      <td>0</td>\n      <td>0</td>\n      <td>0</td>\n      <td>0</td>\n      <td>0</td>\n      <td>0</td>\n      <td>...</td>\n      <td>1024</td>\n      <td>1045</td>\n      <td>1045</td>\n      <td>1045</td>\n      <td>1060</td>\n      <td>1060</td>\n      <td>1098</td>\n      <td>1098</td>\n      <td>1124</td>\n      <td>1124</td>\n    </tr>\n    <tr>\n      <th>Angola</th>\n      <td>NaN</td>\n      <td>-11.20270</td>\n      <td>17.873900</td>\n      <td>0</td>\n      <td>0</td>\n      <td>0</td>\n      <td>0</td>\n      <td>0</td>\n      <td>0</td>\n      <td>0</td>\n      <td>...</td>\n      <td>2044</td>\n      <td>2068</td>\n      <td>2134</td>\n      <td>2171</td>\n      <td>2222</td>\n      <td>2283</td>\n      <td>2332</td>\n      <td>2415</td>\n      <td>2471</td>\n      <td>2551</td>\n    </tr>\n  </tbody>\n</table>\n<p>5 rows × 224 columns</p>\n</div>"
     },
     "execution_count": 13,
     "metadata": {},
     "output_type": "execute_result"
    }
   ],
   "source": [
    "data_countries.set_index('Country/Region', inplace=True)\n",
    "data_countries.head()"
   ]
  },
  {
   "cell_type": "markdown",
   "metadata": {
    "id": "GQ0HMQcHuTLk"
   },
   "source": [
    "6. Subsample the data so that it only includes the first 100 days. Hint: Use `iloc`\n",
    "\n",
    "  Verify that the result of the `head()` method is what's expected."
   ]
  },
  {
   "cell_type": "code",
   "execution_count": 14,
   "metadata": {
    "id": "wIgLJC0eUtyI",
    "colab": {
     "base_uri": "https://localhost:8080/",
     "height": 328
    },
    "outputId": "d7f390ad-eaee-457d-fa2c-6d2e56483d45"
   },
   "outputs": [
    {
     "data": {
      "text/plain": "               Province/State       Lat       Long  1/22/20  1/23/20  1/24/20  \\\nCountry/Region                                                                  \nAfghanistan               NaN  33.93911  67.709953        0        0        0   \nAlbania                   NaN  41.15330  20.168300        0        0        0   \nAlgeria                   NaN  28.03390   1.659600        0        0        0   \nAndorra                   NaN  42.50630   1.521800        0        0        0   \nAngola                    NaN -11.20270  17.873900        0        0        0   \n\n                1/25/20  1/26/20  1/27/20  1/28/20  ...  4/21/20  4/22/20  \\\nCountry/Region                                      ...                     \nAfghanistan           0        0        0        0  ...     1092     1176   \nAlbania               0        0        0        0  ...      609      634   \nAlgeria               0        0        0        0  ...     2811     2910   \nAndorra               0        0        0        0  ...      717      723   \nAngola                0        0        0        0  ...       24       25   \n\n                4/23/20  4/24/20  4/25/20  4/26/20  4/27/20  4/28/20  4/29/20  \\\nCountry/Region                                                                  \nAfghanistan        1279     1351     1463     1531     1703     1828     1939   \nAlbania             663      678      712      726      736      750      766   \nAlgeria            3007     3127     3256     3382     3517     3649     3848   \nAndorra             723      731      738      738      743      743      743   \nAngola               25       25       25       26       27       27       27   \n\n                4/30/20  \nCountry/Region           \nAfghanistan        2171  \nAlbania             773  \nAlgeria            4006  \nAndorra             745  \nAngola               27  \n\n[5 rows x 103 columns]",
      "text/html": "<div>\n<style scoped>\n    .dataframe tbody tr th:only-of-type {\n        vertical-align: middle;\n    }\n\n    .dataframe tbody tr th {\n        vertical-align: top;\n    }\n\n    .dataframe thead th {\n        text-align: right;\n    }\n</style>\n<table border=\"1\" class=\"dataframe\">\n  <thead>\n    <tr style=\"text-align: right;\">\n      <th></th>\n      <th>Province/State</th>\n      <th>Lat</th>\n      <th>Long</th>\n      <th>1/22/20</th>\n      <th>1/23/20</th>\n      <th>1/24/20</th>\n      <th>1/25/20</th>\n      <th>1/26/20</th>\n      <th>1/27/20</th>\n      <th>1/28/20</th>\n      <th>...</th>\n      <th>4/21/20</th>\n      <th>4/22/20</th>\n      <th>4/23/20</th>\n      <th>4/24/20</th>\n      <th>4/25/20</th>\n      <th>4/26/20</th>\n      <th>4/27/20</th>\n      <th>4/28/20</th>\n      <th>4/29/20</th>\n      <th>4/30/20</th>\n    </tr>\n    <tr>\n      <th>Country/Region</th>\n      <th></th>\n      <th></th>\n      <th></th>\n      <th></th>\n      <th></th>\n      <th></th>\n      <th></th>\n      <th></th>\n      <th></th>\n      <th></th>\n      <th></th>\n      <th></th>\n      <th></th>\n      <th></th>\n      <th></th>\n      <th></th>\n      <th></th>\n      <th></th>\n      <th></th>\n      <th></th>\n      <th></th>\n    </tr>\n  </thead>\n  <tbody>\n    <tr>\n      <th>Afghanistan</th>\n      <td>NaN</td>\n      <td>33.93911</td>\n      <td>67.709953</td>\n      <td>0</td>\n      <td>0</td>\n      <td>0</td>\n      <td>0</td>\n      <td>0</td>\n      <td>0</td>\n      <td>0</td>\n      <td>...</td>\n      <td>1092</td>\n      <td>1176</td>\n      <td>1279</td>\n      <td>1351</td>\n      <td>1463</td>\n      <td>1531</td>\n      <td>1703</td>\n      <td>1828</td>\n      <td>1939</td>\n      <td>2171</td>\n    </tr>\n    <tr>\n      <th>Albania</th>\n      <td>NaN</td>\n      <td>41.15330</td>\n      <td>20.168300</td>\n      <td>0</td>\n      <td>0</td>\n      <td>0</td>\n      <td>0</td>\n      <td>0</td>\n      <td>0</td>\n      <td>0</td>\n      <td>...</td>\n      <td>609</td>\n      <td>634</td>\n      <td>663</td>\n      <td>678</td>\n      <td>712</td>\n      <td>726</td>\n      <td>736</td>\n      <td>750</td>\n      <td>766</td>\n      <td>773</td>\n    </tr>\n    <tr>\n      <th>Algeria</th>\n      <td>NaN</td>\n      <td>28.03390</td>\n      <td>1.659600</td>\n      <td>0</td>\n      <td>0</td>\n      <td>0</td>\n      <td>0</td>\n      <td>0</td>\n      <td>0</td>\n      <td>0</td>\n      <td>...</td>\n      <td>2811</td>\n      <td>2910</td>\n      <td>3007</td>\n      <td>3127</td>\n      <td>3256</td>\n      <td>3382</td>\n      <td>3517</td>\n      <td>3649</td>\n      <td>3848</td>\n      <td>4006</td>\n    </tr>\n    <tr>\n      <th>Andorra</th>\n      <td>NaN</td>\n      <td>42.50630</td>\n      <td>1.521800</td>\n      <td>0</td>\n      <td>0</td>\n      <td>0</td>\n      <td>0</td>\n      <td>0</td>\n      <td>0</td>\n      <td>0</td>\n      <td>...</td>\n      <td>717</td>\n      <td>723</td>\n      <td>723</td>\n      <td>731</td>\n      <td>738</td>\n      <td>738</td>\n      <td>743</td>\n      <td>743</td>\n      <td>743</td>\n      <td>745</td>\n    </tr>\n    <tr>\n      <th>Angola</th>\n      <td>NaN</td>\n      <td>-11.20270</td>\n      <td>17.873900</td>\n      <td>0</td>\n      <td>0</td>\n      <td>0</td>\n      <td>0</td>\n      <td>0</td>\n      <td>0</td>\n      <td>0</td>\n      <td>...</td>\n      <td>24</td>\n      <td>25</td>\n      <td>25</td>\n      <td>25</td>\n      <td>25</td>\n      <td>26</td>\n      <td>27</td>\n      <td>27</td>\n      <td>27</td>\n      <td>27</td>\n    </tr>\n  </tbody>\n</table>\n<p>5 rows × 103 columns</p>\n</div>"
     },
     "execution_count": 14,
     "metadata": {},
     "output_type": "execute_result"
    }
   ],
   "source": [
    "data_subsampled = data_countries.iloc[:, 0:103]\n",
    "data_subsampled.head()"
   ]
  },
  {
   "cell_type": "code",
   "source": [
    "data.shape"
   ],
   "metadata": {
    "colab": {
     "base_uri": "https://localhost:8080/"
    },
    "id": "eTQ7CX5Ycy_C",
    "outputId": "b98a4de1-ccd4-46d5-ff7f-acddd0b4819a"
   },
   "execution_count": 15,
   "outputs": [
    {
     "data": {
      "text/plain": "(266, 225)"
     },
     "execution_count": 15,
     "metadata": {},
     "output_type": "execute_result"
    }
   ]
  },
  {
   "cell_type": "markdown",
   "metadata": {
    "id": "guuejIPnJwaB"
   },
   "source": [
    "7. We can drop the `Province/State` column since we are no longer using it.\n",
    "\n",
    "  Here, `axis=1` is referring to dropping a column rather than dropping a row.\n",
    "  \n",
    "  Look at the result of the `head()` method to verify that it's what's expected."
   ]
  },
  {
   "cell_type": "code",
   "execution_count": 16,
   "metadata": {
    "id": "nq43q_-EJwaB",
    "colab": {
     "base_uri": "https://localhost:8080/",
     "height": 328
    },
    "outputId": "c9d21244-80f4-4f6a-95be-f131736e5b98"
   },
   "outputs": [
    {
     "data": {
      "text/plain": "                     Lat       Long  1/22/20  1/23/20  1/24/20  1/25/20  \\\nCountry/Region                                                            \nAfghanistan     33.93911  67.709953        0        0        0        0   \nAlbania         41.15330  20.168300        0        0        0        0   \nAlgeria         28.03390   1.659600        0        0        0        0   \nAndorra         42.50630   1.521800        0        0        0        0   \nAngola         -11.20270  17.873900        0        0        0        0   \n\n                1/26/20  1/27/20  1/28/20  1/29/20  ...  4/21/20  4/22/20  \\\nCountry/Region                                      ...                     \nAfghanistan           0        0        0        0  ...     1092     1176   \nAlbania               0        0        0        0  ...      609      634   \nAlgeria               0        0        0        0  ...     2811     2910   \nAndorra               0        0        0        0  ...      717      723   \nAngola                0        0        0        0  ...       24       25   \n\n                4/23/20  4/24/20  4/25/20  4/26/20  4/27/20  4/28/20  4/29/20  \\\nCountry/Region                                                                  \nAfghanistan        1279     1351     1463     1531     1703     1828     1939   \nAlbania             663      678      712      726      736      750      766   \nAlgeria            3007     3127     3256     3382     3517     3649     3848   \nAndorra             723      731      738      738      743      743      743   \nAngola               25       25       25       26       27       27       27   \n\n                4/30/20  \nCountry/Region           \nAfghanistan        2171  \nAlbania             773  \nAlgeria            4006  \nAndorra             745  \nAngola               27  \n\n[5 rows x 102 columns]",
      "text/html": "<div>\n<style scoped>\n    .dataframe tbody tr th:only-of-type {\n        vertical-align: middle;\n    }\n\n    .dataframe tbody tr th {\n        vertical-align: top;\n    }\n\n    .dataframe thead th {\n        text-align: right;\n    }\n</style>\n<table border=\"1\" class=\"dataframe\">\n  <thead>\n    <tr style=\"text-align: right;\">\n      <th></th>\n      <th>Lat</th>\n      <th>Long</th>\n      <th>1/22/20</th>\n      <th>1/23/20</th>\n      <th>1/24/20</th>\n      <th>1/25/20</th>\n      <th>1/26/20</th>\n      <th>1/27/20</th>\n      <th>1/28/20</th>\n      <th>1/29/20</th>\n      <th>...</th>\n      <th>4/21/20</th>\n      <th>4/22/20</th>\n      <th>4/23/20</th>\n      <th>4/24/20</th>\n      <th>4/25/20</th>\n      <th>4/26/20</th>\n      <th>4/27/20</th>\n      <th>4/28/20</th>\n      <th>4/29/20</th>\n      <th>4/30/20</th>\n    </tr>\n    <tr>\n      <th>Country/Region</th>\n      <th></th>\n      <th></th>\n      <th></th>\n      <th></th>\n      <th></th>\n      <th></th>\n      <th></th>\n      <th></th>\n      <th></th>\n      <th></th>\n      <th></th>\n      <th></th>\n      <th></th>\n      <th></th>\n      <th></th>\n      <th></th>\n      <th></th>\n      <th></th>\n      <th></th>\n      <th></th>\n      <th></th>\n    </tr>\n  </thead>\n  <tbody>\n    <tr>\n      <th>Afghanistan</th>\n      <td>33.93911</td>\n      <td>67.709953</td>\n      <td>0</td>\n      <td>0</td>\n      <td>0</td>\n      <td>0</td>\n      <td>0</td>\n      <td>0</td>\n      <td>0</td>\n      <td>0</td>\n      <td>...</td>\n      <td>1092</td>\n      <td>1176</td>\n      <td>1279</td>\n      <td>1351</td>\n      <td>1463</td>\n      <td>1531</td>\n      <td>1703</td>\n      <td>1828</td>\n      <td>1939</td>\n      <td>2171</td>\n    </tr>\n    <tr>\n      <th>Albania</th>\n      <td>41.15330</td>\n      <td>20.168300</td>\n      <td>0</td>\n      <td>0</td>\n      <td>0</td>\n      <td>0</td>\n      <td>0</td>\n      <td>0</td>\n      <td>0</td>\n      <td>0</td>\n      <td>...</td>\n      <td>609</td>\n      <td>634</td>\n      <td>663</td>\n      <td>678</td>\n      <td>712</td>\n      <td>726</td>\n      <td>736</td>\n      <td>750</td>\n      <td>766</td>\n      <td>773</td>\n    </tr>\n    <tr>\n      <th>Algeria</th>\n      <td>28.03390</td>\n      <td>1.659600</td>\n      <td>0</td>\n      <td>0</td>\n      <td>0</td>\n      <td>0</td>\n      <td>0</td>\n      <td>0</td>\n      <td>0</td>\n      <td>0</td>\n      <td>...</td>\n      <td>2811</td>\n      <td>2910</td>\n      <td>3007</td>\n      <td>3127</td>\n      <td>3256</td>\n      <td>3382</td>\n      <td>3517</td>\n      <td>3649</td>\n      <td>3848</td>\n      <td>4006</td>\n    </tr>\n    <tr>\n      <th>Andorra</th>\n      <td>42.50630</td>\n      <td>1.521800</td>\n      <td>0</td>\n      <td>0</td>\n      <td>0</td>\n      <td>0</td>\n      <td>0</td>\n      <td>0</td>\n      <td>0</td>\n      <td>0</td>\n      <td>...</td>\n      <td>717</td>\n      <td>723</td>\n      <td>723</td>\n      <td>731</td>\n      <td>738</td>\n      <td>738</td>\n      <td>743</td>\n      <td>743</td>\n      <td>743</td>\n      <td>745</td>\n    </tr>\n    <tr>\n      <th>Angola</th>\n      <td>-11.20270</td>\n      <td>17.873900</td>\n      <td>0</td>\n      <td>0</td>\n      <td>0</td>\n      <td>0</td>\n      <td>0</td>\n      <td>0</td>\n      <td>0</td>\n      <td>0</td>\n      <td>...</td>\n      <td>24</td>\n      <td>25</td>\n      <td>25</td>\n      <td>25</td>\n      <td>25</td>\n      <td>26</td>\n      <td>27</td>\n      <td>27</td>\n      <td>27</td>\n      <td>27</td>\n    </tr>\n  </tbody>\n</table>\n<p>5 rows × 102 columns</p>\n</div>"
     },
     "execution_count": 16,
     "metadata": {},
     "output_type": "execute_result"
    }
   ],
   "source": [
    "data_subsampled.drop([\"Province/State\"], axis=1, inplace=True)\n",
    "data_subsampled.head()"
   ]
  },
  {
   "cell_type": "markdown",
   "metadata": {
    "id": "cA8uf1WYJwaB"
   },
   "source": [
    "8. What is the size of your subsampled dataset? (Use `shape`)"
   ]
  },
  {
   "cell_type": "code",
   "execution_count": 17,
   "metadata": {
    "id": "PXH8SCEAJwaB",
    "colab": {
     "base_uri": "https://localhost:8080/"
    },
    "outputId": "e86fc76a-1e29-466b-9366-bcbc6c00e34f"
   },
   "outputs": [
    {
     "data": {
      "text/plain": "(185, 102)"
     },
     "execution_count": 17,
     "metadata": {},
     "output_type": "execute_result"
    }
   ],
   "source": [
    "data_subsampled.shape"
   ]
  },
  {
   "cell_type": "markdown",
   "metadata": {
    "id": "WF3qSqfazYwj"
   },
   "source": [
    "9. Choose 5 countries and plot infections vs the number of days after January 22, 2020.\n",
    "\n",
    "  To get the row of a country by name, do `data_subsampled.loc['Angola']`."
   ]
  },
  {
   "cell_type": "code",
   "execution_count": 18,
   "metadata": {
    "id": "3PdoAfP7UxiD",
    "colab": {
     "base_uri": "https://localhost:8080/",
     "height": 293
    },
    "outputId": "3d67a6f0-124c-406a-ef64-28c116c66cf0"
   },
   "outputs": [
    {
     "data": {
      "text/plain": "<AxesSubplot:>"
     },
     "execution_count": 18,
     "metadata": {},
     "output_type": "execute_result"
    },
    {
     "data": {
      "text/plain": "<Figure size 432x288 with 1 Axes>",
      "image/png": "[encoded data removed]"
     },
     "metadata": {
      "needs_background": "light"
     },
     "output_type": "display_data"
    }
   ],
   "source": [
    "data_subsampled.loc['Colombia'][2:].plot()\n",
    "data_subsampled.loc['Spain'][2:].plot()\n",
    "data_subsampled.loc['US'][2:].plot()\n",
    "data_subsampled.loc['France'][2:].plot()\n",
    "data_subsampled.loc['Germany'][2:].plot()"
   ]
  },
  {
   "cell_type": "markdown",
   "metadata": {
    "id": "Qgfa8HxD3xxw"
   },
   "source": [
    "### Task 4 -- Set up a regression problem based on latitude, longitude, and date\n",
    "\n",
    "Now we're going to see if the combination of latitude, longitude, and date can be used to accurately predict the number of infections in this dataset.\n",
    "\n",
    "1. We will be creating two matrices $\\mathbf{X}$ and $\\mathbf{Y}$, where $\\mathbf{X}$ holds the `[lat, long, date]` data and $\\mathbf{Y}$ holds the `infection` data. $\\mathbf{X}$ will have shape $k \\times 3$ and $\\mathbf{Y}$ should have shape $k \\times 1$. What is the value $k$, based on the size of the subsample from the full dataset that we've taken?\n"
   ]
  },
  {
   "cell_type": "markdown",
   "metadata": {
    "id": "OxrDIMsfVL2h"
   },
   "source": [
    "*k = 185*"
   ]
  },
  {
   "cell_type": "markdown",
   "metadata": {
    "id": "rqhXwmgVJwaC"
   },
   "source": [
    "2. It will be easier to work with the data if we do a transformation using the `.melt()` method."
   ]
  },
  {
   "cell_type": "code",
   "execution_count": 19,
   "metadata": {
    "id": "t431xwxqJwaC",
    "colab": {
     "base_uri": "https://localhost:8080/",
     "height": 204
    },
    "outputId": "2461bf40-0114-4139-f10f-6b61bca3ecad"
   },
   "outputs": [
    {
     "data": {
      "text/plain": "        Lat       Long     Date  Covid Cases\n0  33.93911  67.709953  1/22/20            0\n1  41.15330  20.168300  1/22/20            0\n2  28.03390   1.659600  1/22/20            0\n3  42.50630   1.521800  1/22/20            0\n4 -11.20270  17.873900  1/22/20            0",
      "text/html": "<div>\n<style scoped>\n    .dataframe tbody tr th:only-of-type {\n        vertical-align: middle;\n    }\n\n    .dataframe tbody tr th {\n        vertical-align: top;\n    }\n\n    .dataframe thead th {\n        text-align: right;\n    }\n</style>\n<table border=\"1\" class=\"dataframe\">\n  <thead>\n    <tr style=\"text-align: right;\">\n      <th></th>\n      <th>Lat</th>\n      <th>Long</th>\n      <th>Date</th>\n      <th>Covid Cases</th>\n    </tr>\n  </thead>\n  <tbody>\n    <tr>\n      <th>0</th>\n      <td>33.93911</td>\n      <td>67.709953</td>\n      <td>1/22/20</td>\n      <td>0</td>\n    </tr>\n    <tr>\n      <th>1</th>\n      <td>41.15330</td>\n      <td>20.168300</td>\n      <td>1/22/20</td>\n      <td>0</td>\n    </tr>\n    <tr>\n      <th>2</th>\n      <td>28.03390</td>\n      <td>1.659600</td>\n      <td>1/22/20</td>\n      <td>0</td>\n    </tr>\n    <tr>\n      <th>3</th>\n      <td>42.50630</td>\n      <td>1.521800</td>\n      <td>1/22/20</td>\n      <td>0</td>\n    </tr>\n    <tr>\n      <th>4</th>\n      <td>-11.20270</td>\n      <td>17.873900</td>\n      <td>1/22/20</td>\n      <td>0</td>\n    </tr>\n  </tbody>\n</table>\n</div>"
     },
     "execution_count": 19,
     "metadata": {},
     "output_type": "execute_result"
    }
   ],
   "source": [
    "data_transformed = data_subsampled.melt(id_vars=[\"Lat\", \"Long\"], var_name='Date', value_name=\"Covid Cases\")\n",
    "data_transformed.head()\n"
   ]
  },
  {
   "cell_type": "markdown",
   "metadata": {
    "id": "cY79Epr_JwaD"
   },
   "source": [
    "3. Looking at the result of `data_transformed.head()`, what did the `.melt()` transformation do?"
   ]
  },
  {
   "cell_type": "markdown",
   "source": [
    "***Answer***\n",
    "\n",
    "This function is useful to massage a DataFrame into a format where one or more columns are identifier variables (id_vars), while all other columns, considered measured variables (value_vars), are “unpivoted” to the row axis, leaving just two non-identifier columns, ‘variable’ and ‘value’.\n",
    "\n",
    "In this case,  this method is transposing the dataframe, where Lat and Lon are the identifier columns. The function is counting the number of cases where the Lat and lon is the same for a specific date. "
   ],
   "metadata": {
    "id": "r7JFU5Ffd0QL"
   }
  },
  {
   "cell_type": "markdown",
   "metadata": {
    "id": "Dq6qjM9AJwaD"
   },
   "source": [
    "4. Instead of the data, we will want to work with `Days since January 22, 2020`, so let's add that column. Pandas has some slick ways of working dates, so we're taking advantage of that to get what we want."
   ]
  },
  {
   "cell_type": "code",
   "execution_count": 20,
   "metadata": {
    "id": "QOWpAvuTJwaD",
    "colab": {
     "base_uri": "https://localhost:8080/",
     "height": 204
    },
    "outputId": "c8afc832-00e8-4288-8605-088ec3465b73"
   },
   "outputs": [
    {
     "data": {
      "text/plain": "        Lat       Long     Date  Covid Cases  Num Days\n0  33.93911  67.709953  1/22/20            0         0\n1  41.15330  20.168300  1/22/20            0         0\n2  28.03390   1.659600  1/22/20            0         0\n3  42.50630   1.521800  1/22/20            0         0\n4 -11.20270  17.873900  1/22/20            0         0",
      "text/html": "<div>\n<style scoped>\n    .dataframe tbody tr th:only-of-type {\n        vertical-align: middle;\n    }\n\n    .dataframe tbody tr th {\n        vertical-align: top;\n    }\n\n    .dataframe thead th {\n        text-align: right;\n    }\n</style>\n<table border=\"1\" class=\"dataframe\">\n  <thead>\n    <tr style=\"text-align: right;\">\n      <th></th>\n      <th>Lat</th>\n      <th>Long</th>\n      <th>Date</th>\n      <th>Covid Cases</th>\n      <th>Num Days</th>\n    </tr>\n  </thead>\n  <tbody>\n    <tr>\n      <th>0</th>\n      <td>33.93911</td>\n      <td>67.709953</td>\n      <td>1/22/20</td>\n      <td>0</td>\n      <td>0</td>\n    </tr>\n    <tr>\n      <th>1</th>\n      <td>41.15330</td>\n      <td>20.168300</td>\n      <td>1/22/20</td>\n      <td>0</td>\n      <td>0</td>\n    </tr>\n    <tr>\n      <th>2</th>\n      <td>28.03390</td>\n      <td>1.659600</td>\n      <td>1/22/20</td>\n      <td>0</td>\n      <td>0</td>\n    </tr>\n    <tr>\n      <th>3</th>\n      <td>42.50630</td>\n      <td>1.521800</td>\n      <td>1/22/20</td>\n      <td>0</td>\n      <td>0</td>\n    </tr>\n    <tr>\n      <th>4</th>\n      <td>-11.20270</td>\n      <td>17.873900</td>\n      <td>1/22/20</td>\n      <td>0</td>\n      <td>0</td>\n    </tr>\n  </tbody>\n</table>\n</div>"
     },
     "execution_count": 20,
     "metadata": {},
     "output_type": "execute_result"
    }
   ],
   "source": [
    "from datetime import datetime\n",
    "date_series = pd.to_datetime(data_transformed['Date'])\n",
    "data_transformed['Num Days'] = (date_series - date_series[0]).dt.days\n",
    "data_transformed.head()"
   ]
  },
  {
   "cell_type": "code",
   "source": [
    "data_transformed.shape"
   ],
   "metadata": {
    "colab": {
     "base_uri": "https://localhost:8080/"
    },
    "id": "CzE313BgfF4V",
    "outputId": "65215621-6682-479d-b905-f0d11bb0119d"
   },
   "execution_count": 21,
   "outputs": [
    {
     "data": {
      "text/plain": "(18500, 5)"
     },
     "execution_count": 21,
     "metadata": {},
     "output_type": "execute_result"
    }
   ]
  },
  {
   "cell_type": "markdown",
   "metadata": {
    "id": "9BY1rMHeVRUd"
   },
   "source": [
    "5. Now we're ready to create the matrices $\\mathbf{X}$ and $\\mathbf{Y}$ below by selecting the appropriate data from the `data_transformed` DataFrame.\n",
    "\n",
    "  Make sure to do `.values` to convert the data to numpy arrays rather than Pandas objects."
   ]
  },
  {
   "cell_type": "code",
   "execution_count": 22,
   "metadata": {
    "id": "GRmAGoFsVafv",
    "colab": {
     "base_uri": "https://localhost:8080/"
    },
    "outputId": "e9ff20b5-872b-4cee-ef88-bc51ab806bb8"
   },
   "outputs": [
    {
     "name": "stdout",
     "output_type": "stream",
     "text": [
      "[[ 33.93911   67.709953   0.      ]\n",
      " [ 41.1533    20.1683     0.      ]\n",
      " [ 28.0339     1.6596     0.      ]\n",
      " ...\n",
      " [ 15.552727  48.516388  99.      ]\n",
      " [-13.133897  27.849332  99.      ]\n",
      " [-19.015438  29.154857  99.      ]]\n",
      "[[  0]\n",
      " [  0]\n",
      " [  0]\n",
      " ...\n",
      " [  6]\n",
      " [106]\n",
      " [ 40]]\n"
     ]
    }
   ],
   "source": [
    "X = data_transformed[['Lat','Long','Num Days']]\n",
    "X = X.values\n",
    "print(X)\n",
    "\n",
    "Y = data_transformed[['Covid Cases']]\n",
    "Y = Y.values\n",
    "print(Y)"
   ]
  },
  {
   "cell_type": "markdown",
   "metadata": {
    "id": "qVL18ajK9iZd"
   },
   "source": [
    "6. The following code will make a plot for each of the 3 independent variables (latitude, longitude, and date). Each plot shoes the variable on the x axis and the number of infections on the y axis."
   ]
  },
  {
   "cell_type": "code",
   "execution_count": 23,
   "metadata": {
    "id": "e_eW0gHA-NEN",
    "colab": {
     "base_uri": "https://localhost:8080/",
     "height": 313
    },
    "outputId": "4df282bf-c173-4133-fd7e-b7686a01fbc1"
   },
   "outputs": [
    {
     "data": {
      "text/plain": "<Figure size 1200x400 with 3 Axes>",
      "image/png": "[encoded data removed]"
     },
     "metadata": {
      "needs_background": "light"
     },
     "output_type": "display_data"
    }
   ],
   "source": [
    "plt.figure(figsize=(12, 4), dpi=100)\n",
    "for i, variable in enumerate(['Latitude', 'Longitude', 'Days since January 22, 2020']):\n",
    "  ax = plt.subplot(1, 3, i + 1)\n",
    "  ax.scatter(X[:, i], Y, s=10)\n",
    "  ax.set_xlabel(variable)\n",
    "  ax.set_ylabel('Number of infections')\n",
    "plt.tight_layout(w_pad=3)"
   ]
  },
  {
   "cell_type": "markdown",
   "metadata": {
    "id": "A7ffGAgn__nd"
   },
   "source": [
    "7. Discuss with your classmates in your breakout room what you notice about this data. Are there other ways you might try to visualize it to uncover some structure? Does this data look like a good candidate for fitting a linear model?"
   ]
  },
  {
   "cell_type": "markdown",
   "source": [
    "***Answer***\n",
    "\n",
    "1. Create a graph by latitude and longitude makes no sense or it's not providing any valuable data, since latitude and longitue should be used together (lat and lon is a geographic representation).\n",
    "\n",
    "2. In the third graph, it looks like we have a lot of dependency between variables. It is possible that we can have a negative intercept in this regression or a negative correlation between variables"
   ],
   "metadata": {
    "id": "19sg_jQffqIs"
   }
  },
  {
   "cell_type": "markdown",
   "metadata": {
    "id": "0HQMSndiBCQA"
   },
   "source": [
    "8. Now split the data randomly into training and test sets. Make the training set 70% of the data and the test set the remaining 30%. You could do this manually, but we'll use the `train_test_split` function from the machine learning library [scikit-learn](https://scikit-learn.org/stable/). We use a random state so that every time you run the code you'll get the same result which makes it easier to test our code.\n",
    "\n",
    "    The line should look like:\n",
    "    ```\n",
    "    X_train, X_test, Y_train, Y_test = train_test_split(<FILL IN HERE>, random_state=10)\n",
    "    ```\n",
    "    \n",
    "    Read the [documentation](https://scikit-learn.org/stable/modules/generated/sklearn.model_selection.train_test_split.html) to determine what parameters to pass `train_test_split`."
   ]
  },
  {
   "cell_type": "code",
   "execution_count": 24,
   "metadata": {
    "id": "1d9l2gD4Bwlp"
   },
   "outputs": [],
   "source": [
    "from sklearn.model_selection import train_test_split\n",
    "\n",
    "X_train, X_test, Y_train, Y_test = train_test_split(X, Y, test_size=0.3, random_state=10)"
   ]
  },
  {
   "cell_type": "code",
   "source": [
    "print(X_train.shape)\n",
    "print(X_test.shape)\n",
    "print(Y_train.shape)\n",
    "print(Y_test.shape)"
   ],
   "metadata": {
    "colab": {
     "base_uri": "https://localhost:8080/"
    },
    "id": "Kij04xekgby4",
    "outputId": "32076b39-47fe-49d3-c51f-a9ef4e73a672"
   },
   "execution_count": 25,
   "outputs": [
    {
     "name": "stdout",
     "output_type": "stream",
     "text": [
      "(12950, 3)\n",
      "(5550, 3)\n",
      "(12950, 1)\n",
      "(5550, 1)\n"
     ]
    }
   ]
  },
  {
   "cell_type": "markdown",
   "metadata": {
    "id": "b2MhYn0HJwaH"
   },
   "source": [
    "### Task 5 -- Apply a linear regression model to the data\n",
    "\n",
    "We'll be using scikit-learn's `LinearRegression` module. In the week's material, you'll learn how to do a linear regression manually, but for now let's use scikit-learn's implementation."
   ]
  },
  {
   "cell_type": "markdown",
   "metadata": {
    "id": "R0Go8-_LJwaH"
   },
   "source": [
    "1. Import the `LinearRegression` module."
   ]
  },
  {
   "cell_type": "code",
   "execution_count": 26,
   "metadata": {
    "id": "3krHLg7dJwaH"
   },
   "outputs": [],
   "source": [
    "from sklearn.linear_model import LinearRegression"
   ]
  },
  {
   "cell_type": "markdown",
   "metadata": {
    "id": "vkXcgUmDJwaH"
   },
   "source": [
    "2. Build a `LinearRegression` model for our data. You will need run the `lin_regression.fit()` method passing it the training set (`X_train` and `Y_train`). Take a look at the scikit-learn documentation for [LinearRegression](https://scikit-learn.org/stable/modules/generated/sklearn.linear_model.LinearRegression.html) for more details."
   ]
  },
  {
   "cell_type": "code",
   "execution_count": 27,
   "metadata": {
    "id": "v3XUccakJwaH",
    "colab": {
     "base_uri": "https://localhost:8080/"
    },
    "outputId": "bf009520-d46f-445f-962c-79a430b95178"
   },
   "outputs": [
    {
     "name": "stdout",
     "output_type": "stream",
     "text": [
      "The regression coefficients are:  [[146.88808287 -52.03302752 161.1905594 ]]\n",
      "The intercept is [-6271.35334669]\n"
     ]
    }
   ],
   "source": [
    "lin_regression = LinearRegression()\n",
    "lin_regression.fit(X_train, Y_train)\n",
    "print(\"The regression coefficients are: \", lin_regression.coef_)\n",
    "print(\"The intercept is\", lin_regression.intercept_)"
   ]
  },
  {
   "cell_type": "markdown",
   "metadata": {
    "id": "kwqv9nxtJwaH"
   },
   "source": [
    "3. Use the `.predict()` method of the `lin_regression` object to generate predictions of the test data."
   ]
  },
  {
   "cell_type": "code",
   "execution_count": 28,
   "metadata": {
    "id": "Y8bQ24-RJwaH"
   },
   "outputs": [],
   "source": [
    "Y_pred = lin_regression.predict(X_test)"
   ]
  },
  {
   "cell_type": "markdown",
   "metadata": {
    "id": "P26cbmAiJwaI"
   },
   "source": [
    "4. What is the MSE? Use scikit-learn's `mean_squared_error` function to find out. You'll need to compare the `Y_pred` with `Y_test`."
   ]
  },
  {
   "cell_type": "code",
   "execution_count": 29,
   "metadata": {
    "id": "jqL09QroJwaI",
    "colab": {
     "base_uri": "https://localhost:8080/"
    },
    "outputId": "b7f134d7-4419-4c64-d454-4c31f65d9398"
   },
   "outputs": [
    {
     "name": "stdout",
     "output_type": "stream",
     "text": [
      "659627623.0450557\n"
     ]
    }
   ],
   "source": [
    "from sklearn.metrics import mean_squared_error as mse\n",
    "print(mse(Y_test, Y_pred))"
   ]
  },
  {
   "cell_type": "markdown",
   "metadata": {
    "id": "1RXrrcCAJwaI"
   },
   "source": [
    "5. You can also calculate the R^2 value by using the `score()` method of `lin_regression`. Make sure to pass it the test arrays (and not the train ones!)"
   ]
  },
  {
   "cell_type": "code",
   "execution_count": 30,
   "metadata": {
    "id": "LnVcGJVvJwaI",
    "colab": {
     "base_uri": "https://localhost:8080/"
    },
    "outputId": "6659fadc-df63-4012-9194-2873e8174e65"
   },
   "outputs": [
    {
     "name": "stdout",
     "output_type": "stream",
     "text": [
      "0.03260569121454682\n"
     ]
    }
   ],
   "source": [
    "print(lin_regression.score(X_test,Y_test))"
   ]
  },
  {
   "cell_type": "markdown",
   "metadata": {
    "id": "qH5SZjxBDnR-"
   },
   "source": [
    "### Task 6 -- Apply a polynomial regression of degree 2 to this data"
   ]
  },
  {
   "cell_type": "markdown",
   "metadata": {
    "id": "1tZq9YwSEKY2"
   },
   "source": [
    "To see if we can improve on the accuracy, we're going to try adding polynomial features. We can do this with the `PolynomialFeatures` module.\n",
    "\n",
    "1. Import the module we'll be using."
   ]
  },
  {
   "cell_type": "code",
   "execution_count": 31,
   "metadata": {
    "id": "C2OvjhEsEGzT"
   },
   "outputs": [],
   "source": [
    "from sklearn.preprocessing import PolynomialFeatures"
   ]
  },
  {
   "cell_type": "markdown",
   "metadata": {
    "id": "3kTQyEgkJwaI"
   },
   "source": [
    "2. We'll use `degree=2` which means we'll include new features that are our old features squared as well as the combinations of the features (e.g. $ab$). How many new features will this add?\n",
    "\n",
    "  Note: it will also include an additional constant feature."
   ]
  },
  {
   "cell_type": "markdown",
   "metadata": {
    "id": "BHn-AlKVJwaJ"
   },
   "source": [
    "***Answer*** \n",
    "\n",
    "It will add ***five*** addtional features."
   ]
  },
  {
   "cell_type": "markdown",
   "metadata": {
    "id": "TxX7VFc0JwaJ"
   },
   "source": [
    "3. We use the `PolynomialFeatures` module to add the new features. See the result of the shape of the new test set. Is it what you expected? If not, go back and see which features you missed."
   ]
  },
  {
   "cell_type": "code",
   "execution_count": 32,
   "metadata": {
    "id": "mGr3ZKRiJwaK",
    "colab": {
     "base_uri": "https://localhost:8080/"
    },
    "outputId": "9448553c-faea-4cc4-d060-7f87a91f7f60"
   },
   "outputs": [
    {
     "name": "stdout",
     "output_type": "stream",
     "text": [
      "New shape of test data= (5550, 10)\n"
     ]
    }
   ],
   "source": [
    "poly_features = PolynomialFeatures(degree=2)\n",
    "X_train_poly = poly_features.fit_transform(X_train)\n",
    "X_test_poly = poly_features.transform(X_test)\n",
    "print(\"New shape of test data=\", X_test_poly.shape)"
   ]
  },
  {
   "cell_type": "markdown",
   "metadata": {
    "id": "Kk77L19nJwaL"
   },
   "source": [
    "4. Use the new `X_train_poly` and `Y_train_poly` build a linear regression model and get the MSE and R^2 values like you did above."
   ]
  },
  {
   "cell_type": "code",
   "execution_count": 33,
   "metadata": {
    "id": "U1IEL9X1Fd26",
    "colab": {
     "base_uri": "https://localhost:8080/"
    },
    "outputId": "c62f5ee3-2646-4959-99b0-74d0b9770581"
   },
   "outputs": [
    {
     "name": "stdout",
     "output_type": "stream",
     "text": [
      "Linear Regression Coefficients are= [[   0.         -141.36920917   68.37680467 -309.92220693    2.38314455\n",
      "    -2.96247011    6.27915679    0.60289186   -2.35856042    3.88998221]]\n",
      "constant coefficient= [674.46789337]\n",
      "634880065.2295289\n",
      "0.06889987561598498\n"
     ]
    }
   ],
   "source": [
    "linear_regression = LinearRegression()\n",
    "# Fit the model on train data only\n",
    "linear_regression.fit(X_train_poly, Y_train)\n",
    "print(\"Linear Regression Coefficients are=\",linear_regression.coef_)\n",
    "print(\"constant coefficient=\",linear_regression.intercept_)\n",
    "\n",
    "Y_pred_poly = linear_regression.predict(X_test_poly)\n",
    "print(mse(Y_test, Y_pred_poly))\n",
    "print(linear_regression.score(X_test_poly,Y_test))"
   ]
  },
  {
   "cell_type": "markdown",
   "metadata": {
    "id": "XwAPJKIiJwaL"
   },
   "source": [
    "5. How does the score of this model that uses polynomial features compare to the linear model above?"
   ]
  },
  {
   "cell_type": "markdown",
   "metadata": {
    "id": "0OpP1MbCJwaL"
   },
   "source": [
    "***Answer***\n",
    "\n",
    "1. This polynomial features with degree 2 perform similar to the linear model. The score for the linear model is 3% and for this polynomial model is 6%\n"
   ]
  },
  {
   "cell_type": "markdown",
   "metadata": {
    "id": "bsXZU4MbJGWe"
   },
   "source": [
    "### Task 7 -- Run an experiment identifying the degree of the best-fitting polynomial regression\n",
    "\n",
    "1. Your job is now to repeat the fitting and prediction steps above, but for polyomials of all orders from 1 to 20. For each fit, compute and save the mean squared error of the predictions."
   ]
  },
  {
   "cell_type": "code",
   "execution_count": 34,
   "metadata": {
    "id": "SivORAMXKM40",
    "colab": {
     "base_uri": "https://localhost:8080/"
    },
    "outputId": "55173bd5-39d9-4b0b-8264-4f753c409960"
   },
   "outputs": [
    {
     "name": "stdout",
     "output_type": "stream",
     "text": [
      "Degree:1\n",
      "MSE: 659627623.045056\n",
      "Score: 0.032605691214546484\n",
      "Degree:2\n",
      "MSE: 634880065.2295289\n",
      "Score: 0.06889987561598498\n",
      "Degree:3\n",
      "MSE: 596934127.3093456\n",
      "Score: 0.12455049287796716\n",
      "Degree:4\n",
      "MSE: 510824595.59969544\n",
      "Score: 0.25083670042571593\n",
      "Degree:5\n",
      "MSE: 367979914.13022584\n",
      "Score: 0.4603293400091206\n",
      "Degree:6\n",
      "MSE: 244763488.97137013\n",
      "Score: 0.6410356419940269\n",
      "Degree:7\n",
      "MSE: 180552148.02511016\n",
      "Score: 0.7352064796313877\n",
      "Degree:8\n",
      "MSE: 155155985.2423928\n",
      "Score: 0.7724518927746022\n",
      "Degree:9\n",
      "MSE: 144892949.20587918\n",
      "Score: 0.7875034192809522\n",
      "Degree:10\n",
      "MSE: 137400318.1451361\n",
      "Score: 0.798491935214429\n",
      "Degree:11\n",
      "MSE: 131276966.25898145\n",
      "Score: 0.8074722986170575\n",
      "Degree:12\n",
      "MSE: 134088075.79897764\n",
      "Score: 0.8033495916906694\n",
      "Degree:13\n",
      "MSE: 119792827.28628375\n",
      "Score: 0.8243146658790637\n",
      "Degree:14\n",
      "MSE: 118221967.09845446\n",
      "Score: 0.8266184523678535\n",
      "Degree:15\n",
      "MSE: 116181688.28088665\n",
      "Score: 0.8296106771436127\n",
      "Degree:16\n",
      "MSE: 114358899.66304177\n",
      "Score: 0.8322839359238952\n",
      "Degree:17\n",
      "MSE: 130673406.23481587\n",
      "Score: 0.8083574655081783\n",
      "Degree:18\n",
      "MSE: 126088779.22459832\n",
      "Score: 0.8150811713122417\n",
      "Degree:19\n",
      "MSE: 144716945.37720954\n",
      "Score: 0.7877615423434666\n",
      "Degree:20\n",
      "MSE: 114092769.79923578\n",
      "Score: 0.832674235703118\n"
     ]
    }
   ],
   "source": [
    "import numpy as np\n",
    "\n",
    "mses = []\n",
    "degrees = np.arange(1, 21)\n",
    "minimum_mse, minimum_degree = 1e10, 0\n",
    "\n",
    "for degree in degrees:\n",
    "  poly_features = PolynomialFeatures(degree=degree)\n",
    "  X_train_poly = poly_features.fit_transform(X_train)\n",
    "  X_test_poly = poly_features.transform(X_test)\n",
    "  \n",
    "  linear_regression = LinearRegression()\n",
    "  # Fit the model on train data only\n",
    "  linear_regression.fit(X_train_poly, Y_train)\n",
    "  Y_pred_poly = linear_regression.predict(X_test_poly)\n",
    "  mse_poly = mse(Y_test, Y_pred_poly)\n",
    "  score_poly = linear_regression.score(X_test_poly,Y_test)\n",
    "  mses.append(mse_poly) \n",
    "\n",
    "  print(\"Degree:\" + str(degree))\n",
    "  print(\"MSE: \" + str(mse_poly))\n",
    "  print(\"Score: \" + str(score_poly))\n",
    "  # Validation of degrees \n",
    "  if minimum_mse > mse_poly:\n",
    "    minimum_mse = mse_poly\n",
    "    minimum_deg = degree "
   ]
  },
  {
   "cell_type": "markdown",
   "metadata": {
    "id": "8oEn4sGXLFbC"
   },
   "source": [
    "2. Report the polynomial order that resulted in the best fit. Does this number make sense? Do you think the regression has produced a good model for the data? Discuss with your classmates."
   ]
  },
  {
   "cell_type": "code",
   "source": [
    "# Plot results\n",
    "print('The degree {} with MSE {} is the best'.format(minimum_deg, minimum_mse))\n",
    "        \n",
    "figure = plt.figure()\n",
    "ax = figure.add_subplot(111)\n",
    "ax.plot(degrees, mses)\n",
    "ax.set_xlabel('Degree')\n",
    "ax.set_ylabel('MSE')"
   ],
   "metadata": {
    "colab": {
     "base_uri": "https://localhost:8080/",
     "height": 324
    },
    "id": "UijT2VLum11Y",
    "outputId": "22de365a-5c80-435b-d965-f7e75342d5b3"
   },
   "execution_count": 35,
   "outputs": [
    {
     "name": "stdout",
     "output_type": "stream",
     "text": [
      "The degree 20 with MSE 114092769.79923578 is the best\n"
     ]
    },
    {
     "data": {
      "text/plain": "Text(0, 0.5, 'MSE')"
     },
     "execution_count": 35,
     "metadata": {},
     "output_type": "execute_result"
    },
    {
     "data": {
      "text/plain": "<Figure size 432x288 with 1 Axes>",
      "image/png": "[encoded data removed]"
     },
     "metadata": {
      "needs_background": "light"
     },
     "output_type": "display_data"
    }
   ]
  }
 ],
 "metadata": {
  "colab": {
   "collapsed_sections": [],
   "name": "covid-predictions",
   "provenance": [],
   "toc_visible": true
  },
  "kernelspec": {
   "display_name": "Python 3",
   "language": "python",
   "name": "python3"
  },
  "language_info": {
   "codemirror_mode": {
    "name": "ipython",
    "version": 3
   },
   "file_extension": ".py",
   "mimetype": "text/x-python",
   "name": "python",
   "nbconvert_exporter": "python",
   "pygments_lexer": "ipython3",
   "version": "3.8.8"
  }
 },
 "nbformat": 4,
 "nbformat_minor": 0
}