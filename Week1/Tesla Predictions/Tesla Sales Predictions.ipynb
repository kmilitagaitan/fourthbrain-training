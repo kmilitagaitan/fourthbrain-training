{
 "cells": [
  {
   "cell_type": "markdown",
   "metadata": {
    "id": "lNnTTMT9dnM4"
   },
   "source": [
    "# Today you are a Data Scientist at Tesla! \n",
    "\n",
    "You have been assigned a new project to look at car sales from Quarters 1-2 in California for 2019 to make predictions as to which cars will be sold more than the others in Q3 and Q4, to ensure enough inventory to meet demands!"
   ]
  },
  {
   "cell_type": "markdown",
   "metadata": {
    "id": "AQqh5DMaq9QW"
   },
   "source": [
    "### If running this notebook in Google Colab, run the following cell first to mount your Google Drive\n",
    "\n",
    "This mounts your Google Drive at the location `/content/drive` on the virtual machine running this notebook."
   ]
  },
  {
   "cell_type": "code",
   "execution_count": 1,
   "metadata": {
    "colab": {
     "base_uri": "https://localhost:8080/"
    },
    "executionInfo": {
     "elapsed": 3915,
     "status": "ok",
     "timestamp": 1644216760568,
     "user": {
      "displayName": "Camila Gaitan Mosquera",
      "photoUrl": "https://lh3.googleusercontent.com/a-/AOh14GgZylf07mJhhnEsZkN6MAaKI9VOB8Qo62G2cqitnQ=s64",
      "userId": "14701739022845084298"
     },
     "user_tz": -60
    },
    "id": "Mqah54vN8CVB",
    "outputId": "9e8992b5-8498-4fbf-c328-d2f297de140a"
   },
   "outputs": [],
   "source": [
    "#from google.colab import drive\n",
    "#drive.mount('/content/drive')"
   ]
  },
  {
   "cell_type": "markdown",
   "metadata": {
    "id": "v-eh9IKUfTdQ"
   },
   "source": [
    "## Task 1: Load the data"
   ]
  },
  {
   "cell_type": "markdown",
   "metadata": {
    "id": "OI6NP0JBdnM5"
   },
   "source": [
    "### Import the modules\n",
    "\n",
    "1. We'll be using numpy, pandas and matplotlib, so we start by importing them."
   ]
  },
  {
   "cell_type": "code",
   "execution_count": 2,
   "metadata": {
    "id": "WdNx3CHEdnM5",
    "executionInfo": {
     "status": "ok",
     "timestamp": 1644216760569,
     "user_tz": -60,
     "elapsed": 7,
     "user": {
      "displayName": "Camila Gaitan Mosquera",
      "photoUrl": "https://lh3.googleusercontent.com/a-/AOh14GgZylf07mJhhnEsZkN6MAaKI9VOB8Qo62G2cqitnQ=s64",
      "userId": "14701739022845084298"
     }
    }
   },
   "outputs": [],
   "source": [
    "import numpy as np\n",
    "import pandas as pd\n",
    "import matplotlib.pyplot as plt"
   ]
  },
  {
   "cell_type": "markdown",
   "metadata": {
    "id": "dM4fGT-ldnM8"
   },
   "source": [
    "### Read in the data\n",
    "\n",
    "2. Use pandas to read in the CSV file containing the sales data for Quarters 1 and 2. The file is called `sales_Q12_2019.csv`.\n",
    "\n",
    "    Note: Update `filepath` below to be where you saved the `sales_Q12_2019.csv` file (either on your computer if you're running the notebook locally, or in Google Drive if you're using Google Colab)."
   ]
  },
  {
   "cell_type": "code",
   "execution_count": 3,
   "metadata": {
    "id": "-s13HIEBdtGd",
    "colab": {
     "base_uri": "https://localhost:8080/",
     "height": 353
    },
    "executionInfo": {
     "status": "ok",
     "timestamp": 1644216761476,
     "user_tz": -60,
     "elapsed": 911,
     "user": {
      "displayName": "Camila Gaitan Mosquera",
      "photoUrl": "https://lh3.googleusercontent.com/a-/AOh14GgZylf07mJhhnEsZkN6MAaKI9VOB8Qo62G2cqitnQ=s64",
      "userId": "14701739022845084298"
     }
    },
    "outputId": "f39e0ed7-65b3-452b-c870-0524d6e30b99"
   },
   "outputs": [
    {
     "data": {
      "text/plain": "   main_S60_1  main_S60_2  main_type_SP100D  main_type_S60D_1  \\\n0           0           0                 0                 0   \n1           0           0                 0                 0   \n2           0           0                 0                 0   \n3           0           0                 0                 0   \n4           0           0                 0                 0   \n\n   main_type_S60D_2  main_type_S70  main_type_S70D  main_type_S75  \\\n0                 0              1               0              0   \n1                 0              0               0              0   \n2                 0              0               0              0   \n3                 0              0               0              0   \n4                 0              0               0              0   \n\n   main_type_S75D  main_type_S80  ...  sales_24  sales_25  sales_26  sales_27  \\\n0               0              0  ...         0         0         0         0   \n1               0              0  ...         0         0         0         0   \n2               0              0  ...         0         0         0         0   \n3               0              0  ...         0         0         0         0   \n4               0              0  ...         0         0         0         0   \n\n   sales_28  sales_29  sales_30   MSRP  dealer_state        date  \n0         0         0         0  44610    California  2019-04-28  \n1         0         0         0  41505    California  2019-03-14  \n2         0         0         0  58890    California  2019-06-12  \n3         0         0         0  51055    California  2019-03-04  \n4         0         0         0  70830    California  2019-01-23  \n\n[5 rows x 76 columns]",
      "text/html": "<div>\n<style scoped>\n    .dataframe tbody tr th:only-of-type {\n        vertical-align: middle;\n    }\n\n    .dataframe tbody tr th {\n        vertical-align: top;\n    }\n\n    .dataframe thead th {\n        text-align: right;\n    }\n</style>\n<table border=\"1\" class=\"dataframe\">\n  <thead>\n    <tr style=\"text-align: right;\">\n      <th></th>\n      <th>main_S60_1</th>\n      <th>main_S60_2</th>\n      <th>main_type_SP100D</th>\n      <th>main_type_S60D_1</th>\n      <th>main_type_S60D_2</th>\n      <th>main_type_S70</th>\n      <th>main_type_S70D</th>\n      <th>main_type_S75</th>\n      <th>main_type_S75D</th>\n      <th>main_type_S80</th>\n      <th>...</th>\n      <th>sales_24</th>\n      <th>sales_25</th>\n      <th>sales_26</th>\n      <th>sales_27</th>\n      <th>sales_28</th>\n      <th>sales_29</th>\n      <th>sales_30</th>\n      <th>MSRP</th>\n      <th>dealer_state</th>\n      <th>date</th>\n    </tr>\n  </thead>\n  <tbody>\n    <tr>\n      <th>0</th>\n      <td>0</td>\n      <td>0</td>\n      <td>0</td>\n      <td>0</td>\n      <td>0</td>\n      <td>1</td>\n      <td>0</td>\n      <td>0</td>\n      <td>0</td>\n      <td>0</td>\n      <td>...</td>\n      <td>0</td>\n      <td>0</td>\n      <td>0</td>\n      <td>0</td>\n      <td>0</td>\n      <td>0</td>\n      <td>0</td>\n      <td>44610</td>\n      <td>California</td>\n      <td>2019-04-28</td>\n    </tr>\n    <tr>\n      <th>1</th>\n      <td>0</td>\n      <td>0</td>\n      <td>0</td>\n      <td>0</td>\n      <td>0</td>\n      <td>0</td>\n      <td>0</td>\n      <td>0</td>\n      <td>0</td>\n      <td>0</td>\n      <td>...</td>\n      <td>0</td>\n      <td>0</td>\n      <td>0</td>\n      <td>0</td>\n      <td>0</td>\n      <td>0</td>\n      <td>0</td>\n      <td>41505</td>\n      <td>California</td>\n      <td>2019-03-14</td>\n    </tr>\n    <tr>\n      <th>2</th>\n      <td>0</td>\n      <td>0</td>\n      <td>0</td>\n      <td>0</td>\n      <td>0</td>\n      <td>0</td>\n      <td>0</td>\n      <td>0</td>\n      <td>0</td>\n      <td>0</td>\n      <td>...</td>\n      <td>0</td>\n      <td>0</td>\n      <td>0</td>\n      <td>0</td>\n      <td>0</td>\n      <td>0</td>\n      <td>0</td>\n      <td>58890</td>\n      <td>California</td>\n      <td>2019-06-12</td>\n    </tr>\n    <tr>\n      <th>3</th>\n      <td>0</td>\n      <td>0</td>\n      <td>0</td>\n      <td>0</td>\n      <td>0</td>\n      <td>0</td>\n      <td>0</td>\n      <td>0</td>\n      <td>0</td>\n      <td>0</td>\n      <td>...</td>\n      <td>0</td>\n      <td>0</td>\n      <td>0</td>\n      <td>0</td>\n      <td>0</td>\n      <td>0</td>\n      <td>0</td>\n      <td>51055</td>\n      <td>California</td>\n      <td>2019-03-04</td>\n    </tr>\n    <tr>\n      <th>4</th>\n      <td>0</td>\n      <td>0</td>\n      <td>0</td>\n      <td>0</td>\n      <td>0</td>\n      <td>0</td>\n      <td>0</td>\n      <td>0</td>\n      <td>0</td>\n      <td>0</td>\n      <td>...</td>\n      <td>0</td>\n      <td>0</td>\n      <td>0</td>\n      <td>0</td>\n      <td>0</td>\n      <td>0</td>\n      <td>0</td>\n      <td>70830</td>\n      <td>California</td>\n      <td>2019-01-23</td>\n    </tr>\n  </tbody>\n</table>\n<p>5 rows × 76 columns</p>\n</div>"
     },
     "execution_count": 3,
     "metadata": {},
     "output_type": "execute_result"
    }
   ],
   "source": [
    "filepath = 'sales_Q12_2019.csv'\n",
    "df_sales =  pd.read_csv(filepath)\n",
    "df_sales.head()"
   ]
  },
  {
   "cell_type": "markdown",
   "metadata": {
    "id": "vx9upxIppA3g"
   },
   "source": [
    "3. Examine the data's shape and first few rows."
   ]
  },
  {
   "cell_type": "code",
   "execution_count": 4,
   "metadata": {
    "id": "HdP5mSNQePPU",
    "colab": {
     "base_uri": "https://localhost:8080/"
    },
    "executionInfo": {
     "status": "ok",
     "timestamp": 1644216761476,
     "user_tz": -60,
     "elapsed": 19,
     "user": {
      "displayName": "Camila Gaitan Mosquera",
      "photoUrl": "https://lh3.googleusercontent.com/a-/AOh14GgZylf07mJhhnEsZkN6MAaKI9VOB8Qo62G2cqitnQ=s64",
      "userId": "14701739022845084298"
     }
    },
    "outputId": "c6024546-d5a2-420e-c565-80dd8438eecf"
   },
   "outputs": [
    {
     "data": {
      "text/plain": "(5837, 76)"
     },
     "execution_count": 4,
     "metadata": {},
     "output_type": "execute_result"
    }
   ],
   "source": [
    "df_sales.shape"
   ]
  },
  {
   "cell_type": "markdown",
   "metadata": {
    "id": "KeAGxWwApA3g"
   },
   "source": [
    "### Clean the data\n",
    "\n",
    "4. Notice that our dataset only contains dealers in California, so we can remove the `dealer_state` column. We also will be removing the `date` column (while we could possibly extract useful information from the date, we won't be using it for this exercise). Use the `.drop()` method to remove the two columns ([docs](https://pandas.pydata.org/docs/reference/api/pandas.DataFrame.drop.html)).\n",
    "\n",
    "    Use the `.head()` method to verify that they were removed correctly. If the DataFrame wasn't modified make sure you included the attribute `inplace=True` in the `.drop()` method."
   ]
  },
  {
   "cell_type": "code",
   "execution_count": 5,
   "metadata": {
    "id": "i-DThsrHdnNA",
    "executionInfo": {
     "status": "ok",
     "timestamp": 1644216761476,
     "user_tz": -60,
     "elapsed": 13,
     "user": {
      "displayName": "Camila Gaitan Mosquera",
      "photoUrl": "https://lh3.googleusercontent.com/a-/AOh14GgZylf07mJhhnEsZkN6MAaKI9VOB8Qo62G2cqitnQ=s64",
      "userId": "14701739022845084298"
     }
    },
    "colab": {
     "base_uri": "https://localhost:8080/",
     "height": 268
    },
    "outputId": "9df261b6-a096-4cd0-e01d-108535f4a32c"
   },
   "outputs": [
    {
     "data": {
      "text/plain": "   main_S60_1  main_S60_2  main_type_SP100D  main_type_S60D_1  \\\n0           0           0                 0                 0   \n1           0           0                 0                 0   \n2           0           0                 0                 0   \n3           0           0                 0                 0   \n4           0           0                 0                 0   \n\n   main_type_S60D_2  main_type_S70  main_type_S70D  main_type_S75  \\\n0                 0              1               0              0   \n1                 0              0               0              0   \n2                 0              0               0              0   \n3                 0              0               0              0   \n4                 0              0               0              0   \n\n   main_type_S75D  main_type_S80  ...  sales_22  sales_23  sales_24  sales_25  \\\n0               0              0  ...         0         0         0         0   \n1               0              0  ...         0         0         0         0   \n2               0              0  ...         0         0         0         0   \n3               0              0  ...         0         0         0         0   \n4               0              0  ...         0         0         0         0   \n\n   sales_26  sales_27  sales_28  sales_29  sales_30   MSRP  \n0         0         0         0         0         0  44610  \n1         0         0         0         0         0  41505  \n2         0         0         0         0         0  58890  \n3         0         0         0         0         0  51055  \n4         0         0         0         0         0  70830  \n\n[5 rows x 74 columns]",
      "text/html": "<div>\n<style scoped>\n    .dataframe tbody tr th:only-of-type {\n        vertical-align: middle;\n    }\n\n    .dataframe tbody tr th {\n        vertical-align: top;\n    }\n\n    .dataframe thead th {\n        text-align: right;\n    }\n</style>\n<table border=\"1\" class=\"dataframe\">\n  <thead>\n    <tr style=\"text-align: right;\">\n      <th></th>\n      <th>main_S60_1</th>\n      <th>main_S60_2</th>\n      <th>main_type_SP100D</th>\n      <th>main_type_S60D_1</th>\n      <th>main_type_S60D_2</th>\n      <th>main_type_S70</th>\n      <th>main_type_S70D</th>\n      <th>main_type_S75</th>\n      <th>main_type_S75D</th>\n      <th>main_type_S80</th>\n      <th>...</th>\n      <th>sales_22</th>\n      <th>sales_23</th>\n      <th>sales_24</th>\n      <th>sales_25</th>\n      <th>sales_26</th>\n      <th>sales_27</th>\n      <th>sales_28</th>\n      <th>sales_29</th>\n      <th>sales_30</th>\n      <th>MSRP</th>\n    </tr>\n  </thead>\n  <tbody>\n    <tr>\n      <th>0</th>\n      <td>0</td>\n      <td>0</td>\n      <td>0</td>\n      <td>0</td>\n      <td>0</td>\n      <td>1</td>\n      <td>0</td>\n      <td>0</td>\n      <td>0</td>\n      <td>0</td>\n      <td>...</td>\n      <td>0</td>\n      <td>0</td>\n      <td>0</td>\n      <td>0</td>\n      <td>0</td>\n      <td>0</td>\n      <td>0</td>\n      <td>0</td>\n      <td>0</td>\n      <td>44610</td>\n    </tr>\n    <tr>\n      <th>1</th>\n      <td>0</td>\n      <td>0</td>\n      <td>0</td>\n      <td>0</td>\n      <td>0</td>\n      <td>0</td>\n      <td>0</td>\n      <td>0</td>\n      <td>0</td>\n      <td>0</td>\n      <td>...</td>\n      <td>0</td>\n      <td>0</td>\n      <td>0</td>\n      <td>0</td>\n      <td>0</td>\n      <td>0</td>\n      <td>0</td>\n      <td>0</td>\n      <td>0</td>\n      <td>41505</td>\n    </tr>\n    <tr>\n      <th>2</th>\n      <td>0</td>\n      <td>0</td>\n      <td>0</td>\n      <td>0</td>\n      <td>0</td>\n      <td>0</td>\n      <td>0</td>\n      <td>0</td>\n      <td>0</td>\n      <td>0</td>\n      <td>...</td>\n      <td>0</td>\n      <td>0</td>\n      <td>0</td>\n      <td>0</td>\n      <td>0</td>\n      <td>0</td>\n      <td>0</td>\n      <td>0</td>\n      <td>0</td>\n      <td>58890</td>\n    </tr>\n    <tr>\n      <th>3</th>\n      <td>0</td>\n      <td>0</td>\n      <td>0</td>\n      <td>0</td>\n      <td>0</td>\n      <td>0</td>\n      <td>0</td>\n      <td>0</td>\n      <td>0</td>\n      <td>0</td>\n      <td>...</td>\n      <td>0</td>\n      <td>0</td>\n      <td>0</td>\n      <td>0</td>\n      <td>0</td>\n      <td>0</td>\n      <td>0</td>\n      <td>0</td>\n      <td>0</td>\n      <td>51055</td>\n    </tr>\n    <tr>\n      <th>4</th>\n      <td>0</td>\n      <td>0</td>\n      <td>0</td>\n      <td>0</td>\n      <td>0</td>\n      <td>0</td>\n      <td>0</td>\n      <td>0</td>\n      <td>0</td>\n      <td>0</td>\n      <td>...</td>\n      <td>0</td>\n      <td>0</td>\n      <td>0</td>\n      <td>0</td>\n      <td>0</td>\n      <td>0</td>\n      <td>0</td>\n      <td>0</td>\n      <td>0</td>\n      <td>70830</td>\n    </tr>\n  </tbody>\n</table>\n<p>5 rows × 74 columns</p>\n</div>"
     },
     "execution_count": 5,
     "metadata": {},
     "output_type": "execute_result"
    }
   ],
   "source": [
    "df_sales = df_sales.drop(columns=['dealer_state', 'date'], axis=1)\n",
    "df_sales.head()"
   ]
  },
  {
   "cell_type": "markdown",
   "metadata": {
    "id": "qqdkmnCodnNC"
   },
   "source": [
    "### Read in the second dataset\n",
    "\n",
    "5. Follow the same syntax as above to read in the `sales_Q34_2019.csv` dataset. Note that this dataset doesn't have the `dealer_state` or `date` column, so we don't need to do the same cleanup.\n",
    "\n",
    "    After you've read in the data, use the `.head()` method to take a look at the first few rows."
   ]
  },
  {
   "cell_type": "code",
   "execution_count": 6,
   "metadata": {
    "id": "bJpTgHxAdnND",
    "colab": {
     "base_uri": "https://localhost:8080/",
     "height": 268
    },
    "executionInfo": {
     "status": "ok",
     "timestamp": 1644216761477,
     "user_tz": -60,
     "elapsed": 12,
     "user": {
      "displayName": "Camila Gaitan Mosquera",
      "photoUrl": "https://lh3.googleusercontent.com/a-/AOh14GgZylf07mJhhnEsZkN6MAaKI9VOB8Qo62G2cqitnQ=s64",
      "userId": "14701739022845084298"
     }
    },
    "outputId": "9b7f8009-dc0e-4f0e-9e1e-f3a42fbc8029"
   },
   "outputs": [
    {
     "data": {
      "text/plain": "   main_S60_1  main_S60_2  main_type_SP100D  main_type_S60D_1  \\\n0           0           0                 0                 0   \n1           0           0                 0                 0   \n2           0           0                 0                 0   \n3           0           0                 0                 0   \n4           0           0                 0                 0   \n\n   main_type_S60D_2  main_type_S70  main_type_S70D  main_type_S75  \\\n0                 0              1               0              0   \n1                 0              0               0              0   \n2                 0              0               0              0   \n3                 0              0               0              0   \n4                 0              0               0              0   \n\n   main_type_S75D  main_type_S80  ...  sales_22  sales_23  sales_24  sales_25  \\\n0               0              0  ...         0         0         1         0   \n1               0              0  ...         0         0         0         0   \n2               0              0  ...         0         0         0         0   \n3               0              0  ...         0         0         0         0   \n4               0              0  ...         0         0         0         0   \n\n   sales_26  sales_27  sales_28  sales_29  sales_30   MSRP  \n0         0         0         0         0         0  51355  \n1         0         0         0         0         0  71580  \n2         0         0         0         0         0  66790  \n3         0         0         0         0         0  72330  \n4         0         0         0         0         0  55370  \n\n[5 rows x 74 columns]",
      "text/html": "<div>\n<style scoped>\n    .dataframe tbody tr th:only-of-type {\n        vertical-align: middle;\n    }\n\n    .dataframe tbody tr th {\n        vertical-align: top;\n    }\n\n    .dataframe thead th {\n        text-align: right;\n    }\n</style>\n<table border=\"1\" class=\"dataframe\">\n  <thead>\n    <tr style=\"text-align: right;\">\n      <th></th>\n      <th>main_S60_1</th>\n      <th>main_S60_2</th>\n      <th>main_type_SP100D</th>\n      <th>main_type_S60D_1</th>\n      <th>main_type_S60D_2</th>\n      <th>main_type_S70</th>\n      <th>main_type_S70D</th>\n      <th>main_type_S75</th>\n      <th>main_type_S75D</th>\n      <th>main_type_S80</th>\n      <th>...</th>\n      <th>sales_22</th>\n      <th>sales_23</th>\n      <th>sales_24</th>\n      <th>sales_25</th>\n      <th>sales_26</th>\n      <th>sales_27</th>\n      <th>sales_28</th>\n      <th>sales_29</th>\n      <th>sales_30</th>\n      <th>MSRP</th>\n    </tr>\n  </thead>\n  <tbody>\n    <tr>\n      <th>0</th>\n      <td>0</td>\n      <td>0</td>\n      <td>0</td>\n      <td>0</td>\n      <td>0</td>\n      <td>1</td>\n      <td>0</td>\n      <td>0</td>\n      <td>0</td>\n      <td>0</td>\n      <td>...</td>\n      <td>0</td>\n      <td>0</td>\n      <td>1</td>\n      <td>0</td>\n      <td>0</td>\n      <td>0</td>\n      <td>0</td>\n      <td>0</td>\n      <td>0</td>\n      <td>51355</td>\n    </tr>\n    <tr>\n      <th>1</th>\n      <td>0</td>\n      <td>0</td>\n      <td>0</td>\n      <td>0</td>\n      <td>0</td>\n      <td>0</td>\n      <td>0</td>\n      <td>0</td>\n      <td>0</td>\n      <td>0</td>\n      <td>...</td>\n      <td>0</td>\n      <td>0</td>\n      <td>0</td>\n      <td>0</td>\n      <td>0</td>\n      <td>0</td>\n      <td>0</td>\n      <td>0</td>\n      <td>0</td>\n      <td>71580</td>\n    </tr>\n    <tr>\n      <th>2</th>\n      <td>0</td>\n      <td>0</td>\n      <td>0</td>\n      <td>0</td>\n      <td>0</td>\n      <td>0</td>\n      <td>0</td>\n      <td>0</td>\n      <td>0</td>\n      <td>0</td>\n      <td>...</td>\n      <td>0</td>\n      <td>0</td>\n      <td>0</td>\n      <td>0</td>\n      <td>0</td>\n      <td>0</td>\n      <td>0</td>\n      <td>0</td>\n      <td>0</td>\n      <td>66790</td>\n    </tr>\n    <tr>\n      <th>3</th>\n      <td>0</td>\n      <td>0</td>\n      <td>0</td>\n      <td>0</td>\n      <td>0</td>\n      <td>0</td>\n      <td>0</td>\n      <td>0</td>\n      <td>0</td>\n      <td>0</td>\n      <td>...</td>\n      <td>0</td>\n      <td>0</td>\n      <td>0</td>\n      <td>0</td>\n      <td>0</td>\n      <td>0</td>\n      <td>0</td>\n      <td>0</td>\n      <td>0</td>\n      <td>72330</td>\n    </tr>\n    <tr>\n      <th>4</th>\n      <td>0</td>\n      <td>0</td>\n      <td>0</td>\n      <td>0</td>\n      <td>0</td>\n      <td>0</td>\n      <td>0</td>\n      <td>0</td>\n      <td>0</td>\n      <td>0</td>\n      <td>...</td>\n      <td>0</td>\n      <td>0</td>\n      <td>0</td>\n      <td>0</td>\n      <td>0</td>\n      <td>0</td>\n      <td>0</td>\n      <td>0</td>\n      <td>0</td>\n      <td>55370</td>\n    </tr>\n  </tbody>\n</table>\n<p>5 rows × 74 columns</p>\n</div>"
     },
     "execution_count": 6,
     "metadata": {},
     "output_type": "execute_result"
    }
   ],
   "source": [
    "\n",
    "filepath = 'sales_Q34_2019.csv'\n",
    "df_pred =  pd.read_csv(filepath)\n",
    "df_pred.head()"
   ]
  },
  {
   "cell_type": "code",
   "source": [
    "df_pred.shape"
   ],
   "metadata": {
    "colab": {
     "base_uri": "https://localhost:8080/"
    },
    "id": "-LMgN-anfjFz",
    "executionInfo": {
     "status": "ok",
     "timestamp": 1644216761477,
     "user_tz": -60,
     "elapsed": 11,
     "user": {
      "displayName": "Camila Gaitan Mosquera",
      "photoUrl": "https://lh3.googleusercontent.com/a-/AOh14GgZylf07mJhhnEsZkN6MAaKI9VOB8Qo62G2cqitnQ=s64",
      "userId": "14701739022845084298"
     }
    },
    "outputId": "c5726d77-d427-40bb-c349-d808de5e4874"
   },
   "execution_count": 7,
   "outputs": [
    {
     "data": {
      "text/plain": "(6666, 74)"
     },
     "execution_count": 7,
     "metadata": {},
     "output_type": "execute_result"
    }
   ]
  },
  {
   "cell_type": "markdown",
   "metadata": {
    "id": "kcmsU-T1dnNF"
   },
   "source": [
    "## Task 2: Set up a regression problem \n",
    "\n",
    "We will be building a model to predict the number of each car type sold.\n",
    "\n",
    "If we look at the columns in the dataset, we'll notice that the first 73 tell us which type of car it is. For example, the row at index 1 has a 1 in these three columns: `main_type_S100D`, `engine_A`, and `sales_8`. Any other rows that have 1's in these same columns refers to the same car. You'll see index 18 is the same.\n",
    "\n",
    "For each of these unique combinations, we will be counting up the number of cars sold. Note that the final column (MSRP) will not be used.\n",
    "\n",
    "We will count up the number of rows for each unique combination of values for the first 73 columns.\n",
    "\n",
    "Since we will be doing this same calculation for both `df_sales` (the training set) and `df_pred` (the test set), we will write a function to avoid duplicating code.\n",
    "\n",
    "1. Write the function `get_features_and_targets` that takes in a quarterly sales DataFrame and produces matrices $\\mathbf{X}$ and $\\mathbf{Y}$, where $\\mathbf{X}$ has a row for each unique car ID and the corresponding row in $\\mathbf{Y}$ has the number of those cars sold in the quarter.\n",
    "\n",
    "    Note: For the `df_sales` dataset, there are 66 types of cars, so $\\mathbf{X}$ should have 66 rows and 73 columns."
   ]
  },
  {
   "cell_type": "code",
   "execution_count": 8,
   "metadata": {
    "id": "Mo5c3VhBkB33",
    "executionInfo": {
     "status": "ok",
     "timestamp": 1644216761477,
     "user_tz": -60,
     "elapsed": 6,
     "user": {
      "displayName": "Camila Gaitan Mosquera",
      "photoUrl": "https://lh3.googleusercontent.com/a-/AOh14GgZylf07mJhhnEsZkN6MAaKI9VOB8Qo62G2cqitnQ=s64",
      "userId": "14701739022845084298"
     }
    }
   },
   "outputs": [],
   "source": [
    "def get_features_and_targets(df):\n",
    "  df = df.drop([\"MSRP\"], axis = 1)\n",
    "  unique_rows = df.value_counts().reset_index()\n",
    "  X = unique_rows.iloc[:, :-1]\n",
    "  '''\n",
    "  I used this fuction np.newaxis to to increase the dimension of the existing array \n",
    "  by one more dimension. Convert from 1D to 2D https://numpy.org/devdocs/reference/constants.html#numpy.newaxis\n",
    "  Also I divided by the len(df) to get values in a range between 0-1\n",
    "  '''\n",
    "  y = unique_rows.iloc[:, -1][:,np.newaxis]/len(df)\n",
    "  return X,y"
   ]
  },
  {
   "cell_type": "markdown",
   "source": [
    ""
   ],
   "metadata": {
    "id": "i3F1PeQ74Yl4"
   }
  },
  {
   "cell_type": "markdown",
   "metadata": {
    "id": "toTX3W89fX2P"
   },
   "source": [
    "2. Use the `get_features_and_targets()` function to create $\\mathbf{X}$, $\\mathbf{Y}$ pairs for both the training data (`df_sales`) and the test data (`df_pred`)."
   ]
  },
  {
   "cell_type": "code",
   "execution_count": 9,
   "metadata": {
    "id": "Rf6Vj0ujhJ77",
    "colab": {
     "base_uri": "https://localhost:8080/"
    },
    "executionInfo": {
     "status": "ok",
     "timestamp": 1644216761988,
     "user_tz": -60,
     "elapsed": 517,
     "user": {
      "displayName": "Camila Gaitan Mosquera",
      "photoUrl": "https://lh3.googleusercontent.com/a-/AOh14GgZylf07mJhhnEsZkN6MAaKI9VOB8Qo62G2cqitnQ=s64",
      "userId": "14701739022845084298"
     }
    },
    "outputId": "1e785f12-e25a-44b4-9f81-7a48ade16ded"
   },
   "outputs": [
    {
     "name": "stderr",
     "output_type": "stream",
     "text": [
      "/var/folders/gd/k530dpdn0b7bp0679ks43_th0000gn/T/ipykernel_45895/3719977062.py:10: FutureWarning: Support for multi-dimensional indexing (e.g. `obj[:, None]`) is deprecated and will be removed in a future version.  Convert to a numpy array before indexing instead.\n",
      "  y = unique_rows.iloc[:, -1][:,np.newaxis]/len(df)\n"
     ]
    }
   ],
   "source": [
    "X_train, y_train = get_features_and_targets(df_sales)\n",
    "X_test, y_test = get_features_and_targets(df_pred)"
   ]
  },
  {
   "cell_type": "markdown",
   "metadata": {
    "id": "QYYLKcucpA3i"
   },
   "source": [
    "3. Verify that the shapes of the four numpy arrays you just created are correct.\n",
    "\n",
    "    The training set should have 66 datapoints and the test set should have 71 rows. Verify this by looking at the number of rows in $\\mathbf{X}$ and number of values in $\\mathbf{Y}$.\n",
    "    \n",
    "    Both $\\mathbf{X}$'s should have 73 columns."
   ]
  },
  {
   "cell_type": "code",
   "execution_count": 10,
   "metadata": {
    "id": "_gzAjo6WpA3i",
    "executionInfo": {
     "status": "ok",
     "timestamp": 1644216761988,
     "user_tz": -60,
     "elapsed": 18,
     "user": {
      "displayName": "Camila Gaitan Mosquera",
      "photoUrl": "https://lh3.googleusercontent.com/a-/AOh14GgZylf07mJhhnEsZkN6MAaKI9VOB8Qo62G2cqitnQ=s64",
      "userId": "14701739022845084298"
     }
    },
    "colab": {
     "base_uri": "https://localhost:8080/"
    },
    "outputId": "ee49c8fb-2d87-4343-9f96-b99ae0eb5340"
   },
   "outputs": [
    {
     "name": "stdout",
     "output_type": "stream",
     "text": [
      "X_train shape:  (66, 73)\n",
      "X_test shape:  (71, 73)\n",
      "y_train shape:  (66, 1)\n",
      "y_test shape:  (71, 1)\n"
     ]
    }
   ],
   "source": [
    "print('X_train shape: ', X_train.shape)\n",
    "print('X_test shape: ', X_test.shape)\n",
    "print('y_train shape: ', y_train.shape)\n",
    "print('y_test shape: ', y_test.shape)"
   ]
  },
  {
   "cell_type": "markdown",
   "metadata": {
    "id": "8d7BSjsQdnNV"
   },
   "source": [
    "Note that the Q12 and Q34 datasets contain differing numbers of distinct cars. Thus some new models were introduced by Q3, but were any discontinued by the beginning of Q3? Let's find out.\n",
    "\n",
    "4. Print the total number of types of cars (e.g. types of cars that were sold in either Q12, Q34, or both). In mathematical notation, if the set of cars sold in Q12 is $\\mathcal{A}$ and the set of cars sold in Q34 is $\\mathcal{B}$, we're asking for the size of the *union* of these two sets $|\\mathcal{A} \\cup \\mathcal{B}|$.\n",
    "\n",
    "    Note: The notation $|\\cdots|$ indicates measurement of the size of a set (the number of distinct items). (Mathematicians usually refer to it as the *cardinality*.)\n",
    "    \n",
    "    Hint: Create a single DataFrame with all the data and use the `get_features_and_targets()` function."
   ]
  },
  {
   "cell_type": "code",
   "execution_count": 11,
   "metadata": {
    "id": "KOEhFSxin_te",
    "executionInfo": {
     "status": "ok",
     "timestamp": 1644216762280,
     "user_tz": -60,
     "elapsed": 300,
     "user": {
      "displayName": "Camila Gaitan Mosquera",
      "photoUrl": "https://lh3.googleusercontent.com/a-/AOh14GgZylf07mJhhnEsZkN6MAaKI9VOB8Qo62G2cqitnQ=s64",
      "userId": "14701739022845084298"
     }
    },
    "colab": {
     "base_uri": "https://localhost:8080/"
    },
    "outputId": "51fff0fd-6f0c-45d5-b075-c2678614eba4"
   },
   "outputs": [
    {
     "data": {
      "text/plain": "(12503, 74)"
     },
     "execution_count": 11,
     "metadata": {},
     "output_type": "execute_result"
    }
   ],
   "source": [
    "allData = pd.concat([df_sales, df_pred], join='inner')\n",
    "allData.shape"
   ]
  },
  {
   "cell_type": "code",
   "source": [
    "\n",
    "Xtemp, ytemp = get_features_and_targets(allData)\n",
    "print(\"Total number of cars sold in Q12 and Q34: \", ytemp.shape[0])"
   ],
   "metadata": {
    "colab": {
     "base_uri": "https://localhost:8080/"
    },
    "id": "1m-Foywsi2vP",
    "executionInfo": {
     "status": "ok",
     "timestamp": 1644216762281,
     "user_tz": -60,
     "elapsed": 6,
     "user": {
      "displayName": "Camila Gaitan Mosquera",
      "photoUrl": "https://lh3.googleusercontent.com/a-/AOh14GgZylf07mJhhnEsZkN6MAaKI9VOB8Qo62G2cqitnQ=s64",
      "userId": "14701739022845084298"
     }
    },
    "outputId": "1dc018cd-e8b2-42ad-ab24-81c1b3490725"
   },
   "execution_count": 12,
   "outputs": [
    {
     "name": "stdout",
     "output_type": "stream",
     "text": [
      "Total number of cars sold in Q12 and Q34:  80\n"
     ]
    },
    {
     "name": "stderr",
     "output_type": "stream",
     "text": [
      "/var/folders/gd/k530dpdn0b7bp0679ks43_th0000gn/T/ipykernel_45895/3719977062.py:10: FutureWarning: Support for multi-dimensional indexing (e.g. `obj[:, None]`) is deprecated and will be removed in a future version.  Convert to a numpy array before indexing instead.\n",
      "  y = unique_rows.iloc[:, -1][:,np.newaxis]/len(df)\n"
     ]
    }
   ]
  },
  {
   "cell_type": "markdown",
   "metadata": {
    "id": "8KgAprxHqcv2"
   },
   "source": [
    "5. A handy little fact from set theory is that $|\\mathcal{A} \\cup \\mathcal{B}| = |\\mathcal{A}| + |\\mathcal{B}| - |\\mathcal{A} \\cap \\mathcal{B}|$, where $\\cap$ is the *intersection* of $\\mathcal{A}$ and $\\mathcal{B}$, things that are in **both** $\\mathcal{A}$ and $\\mathcal{B}$. Use this fact, and what you've computed above, to print the number of models that were sold in both Q12 and Q34."
   ]
  },
  {
   "cell_type": "code",
   "execution_count": 13,
   "metadata": {
    "id": "56A3357NswMG",
    "executionInfo": {
     "status": "ok",
     "timestamp": 1644216762599,
     "user_tz": -60,
     "elapsed": 321,
     "user": {
      "displayName": "Camila Gaitan Mosquera",
      "photoUrl": "https://lh3.googleusercontent.com/a-/AOh14GgZylf07mJhhnEsZkN6MAaKI9VOB8Qo62G2cqitnQ=s64",
      "userId": "14701739022845084298"
     }
    },
    "colab": {
     "base_uri": "https://localhost:8080/"
    },
    "outputId": "d6303c25-2f6f-4a95-cc3c-5935f2678a37"
   },
   "outputs": [
    {
     "name": "stdout",
     "output_type": "stream",
     "text": [
      "Number of cars that were sold in both quarters:  57\n"
     ]
    }
   ],
   "source": [
    "bothQuarters = y_train.shape[0] + y_test.shape[0] - ytemp.shape[0]\n",
    "print(\"Number of cars that were sold in both quarters: \", bothQuarters)"
   ]
  },
  {
   "cell_type": "markdown",
   "metadata": {
    "id": "clPi1NVCunoy"
   },
   "source": [
    "6. How many cars that were sold in Q12 were not sold in Q34?"
   ]
  },
  {
   "cell_type": "code",
   "execution_count": 14,
   "metadata": {
    "executionInfo": {
     "elapsed": 17,
     "status": "ok",
     "timestamp": 1644216762599,
     "user": {
      "displayName": "Camila Gaitan Mosquera",
      "photoUrl": "https://lh3.googleusercontent.com/a-/AOh14GgZylf07mJhhnEsZkN6MAaKI9VOB8Qo62G2cqitnQ=s64",
      "userId": "14701739022845084298"
     },
     "user_tz": -60
    },
    "id": "VmMdZNuzu5Z-",
    "colab": {
     "base_uri": "https://localhost:8080/"
    },
    "outputId": "c906f723-23ce-43f9-f4a2-531ab9b47c0e"
   },
   "outputs": [
    {
     "name": "stdout",
     "output_type": "stream",
     "text": [
      "Number of cars that were sold in Q12 but not in Q34:  9\n"
     ]
    }
   ],
   "source": [
    "Q12only = y_train.shape[0] - bothQuarters\n",
    "print(\"Number of cars that were sold in Q12 but not in Q34: \", Q12only)"
   ]
  },
  {
   "cell_type": "markdown",
   "metadata": {
    "id": "04zz5QOkvtij"
   },
   "source": [
    "7. How many cars were sold in Q34 but not in Q12?"
   ]
  },
  {
   "cell_type": "code",
   "execution_count": 15,
   "metadata": {
    "id": "stRzG8THvyeA",
    "executionInfo": {
     "status": "ok",
     "timestamp": 1644216762600,
     "user_tz": -60,
     "elapsed": 11,
     "user": {
      "displayName": "Camila Gaitan Mosquera",
      "photoUrl": "https://lh3.googleusercontent.com/a-/AOh14GgZylf07mJhhnEsZkN6MAaKI9VOB8Qo62G2cqitnQ=s64",
      "userId": "14701739022845084298"
     }
    },
    "colab": {
     "base_uri": "https://localhost:8080/"
    },
    "outputId": "38eded2d-177a-4455-98b1-9905f8b94486"
   },
   "outputs": [
    {
     "name": "stdout",
     "output_type": "stream",
     "text": [
      "Number of cars that were sold in Q34 but not in Q12:  14\n"
     ]
    }
   ],
   "source": [
    "Q34only = y_test.shape[0] - bothQuarters\n",
    "print(\"Number of cars that were sold in Q34 but not in Q12: \", Q34only)"
   ]
  },
  {
   "cell_type": "markdown",
   "metadata": {
    "id": "3qn6SNBNdnNb"
   },
   "source": [
    "## Task 3: Visualize the training and test targets"
   ]
  },
  {
   "cell_type": "markdown",
   "metadata": {
    "id": "OzsF0PfoyoyS"
   },
   "source": [
    "This is open-ended and we're not expecting a particular visualization, just show us what comes comes to your mind!"
   ]
  },
  {
   "cell_type": "code",
   "execution_count": 16,
   "metadata": {
    "id": "oFVGTPYV2jrF",
    "executionInfo": {
     "status": "ok",
     "timestamp": 1644216764052,
     "user_tz": -60,
     "elapsed": 1459,
     "user": {
      "displayName": "Camila Gaitan Mosquera",
      "photoUrl": "https://lh3.googleusercontent.com/a-/AOh14GgZylf07mJhhnEsZkN6MAaKI9VOB8Qo62G2cqitnQ=s64",
      "userId": "14701739022845084298"
     }
    },
    "colab": {
     "base_uri": "https://localhost:8080/",
     "height": 282
    },
    "outputId": "78482a9e-21cd-40b8-9a96-d11f28c11fbe"
   },
   "outputs": [
    {
     "data": {
      "text/plain": "<matplotlib.collections.PathCollection at 0x7ff1115af460>"
     },
     "execution_count": 16,
     "metadata": {},
     "output_type": "execute_result"
    },
    {
     "data": {
      "text/plain": "<Figure size 432x288 with 1 Axes>",
      "image/png": "[encoded data removed]"
     },
     "metadata": {
      "needs_background": "light"
     },
     "output_type": "display_data"
    }
   ],
   "source": [
    "plt.scatter(range(len(X_train)), y_train,  color='black')\n",
    "plt.scatter(range(len(X_test)), y_test,  color='red')"
   ]
  },
  {
   "cell_type": "markdown",
   "metadata": {
    "id": "9g-2fwgydnNh"
   },
   "source": [
    "## Task 4: Fit a linear model with gradient descent"
   ]
  },
  {
   "cell_type": "markdown",
   "metadata": {
    "id": "oriL0PcVOlw-"
   },
   "source": [
    "1. Set hyperparameters for learning rate and maximum number of iterations through the training data."
   ]
  },
  {
   "cell_type": "code",
   "execution_count": 17,
   "metadata": {
    "id": "QKIv3936OfVk",
    "executionInfo": {
     "status": "ok",
     "timestamp": 1644216764052,
     "user_tz": -60,
     "elapsed": 11,
     "user": {
      "displayName": "Camila Gaitan Mosquera",
      "photoUrl": "https://lh3.googleusercontent.com/a-/AOh14GgZylf07mJhhnEsZkN6MAaKI9VOB8Qo62G2cqitnQ=s64",
      "userId": "14701739022845084298"
     }
    }
   },
   "outputs": [],
   "source": [
    "# these are good starting values, though you can play around with them\n",
    "s_learning_rate = 0.001\n",
    "s_max_iteration = 1000"
   ]
  },
  {
   "cell_type": "markdown",
   "metadata": {
    "id": "Lx-wS125dnNk"
   },
   "source": [
    "### Hypothesis Function\n",
    "\n",
    "2. Define your hypothesis function $h(\\cdot)$ (which you use to make predictions $\\hat{\\mathbf{Y}}$ as the matrix product of your feature data $\\mathbf{X}$ and parameters $\\boldsymbol{\\theta}$. $\\boldsymbol{\\theta}$, which you'll initialize in the training loop (below) is a column vector with a value for each feature in the training data, plus one for bias.\n",
    "\n",
    "    Note: We'll deal with adding the column of 1's to $\\mathbf{X}$ below in the gradient descent function, so don't worry about it now."
   ]
  },
  {
   "cell_type": "code",
   "execution_count": 18,
   "metadata": {
    "id": "SI8oTUQsdnNk",
    "executionInfo": {
     "status": "ok",
     "timestamp": 1644216764053,
     "user_tz": -60,
     "elapsed": 9,
     "user": {
      "displayName": "Camila Gaitan Mosquera",
      "photoUrl": "https://lh3.googleusercontent.com/a-/AOh14GgZylf07mJhhnEsZkN6MAaKI9VOB8Qo62G2cqitnQ=s64",
      "userId": "14701739022845084298"
     }
    }
   },
   "outputs": [],
   "source": [
    "def h(theta, X):\n",
    "    return np.dot(X, theta)"
   ]
  },
  {
   "cell_type": "markdown",
   "metadata": {
    "id": "7LW5F5uhdnNm"
   },
   "source": [
    "3. Define your loss function as the MSE (mean squared error) between your actual and predicted $\\mathbf{Y}$ values. \n",
    "\n",
    "    Recall that the predicted $\\mathbf{Y}$ values, $\\hat{\\mathbf{Y}}$, are a function of $\\boldsymbol{\\theta}$ and $\\mathbf{X}$.\n"
   ]
  },
  {
   "cell_type": "code",
   "execution_count": 19,
   "metadata": {
    "id": "KzRpZec4dnNm",
    "executionInfo": {
     "status": "ok",
     "timestamp": 1644216764053,
     "user_tz": -60,
     "elapsed": 9,
     "user": {
      "displayName": "Camila Gaitan Mosquera",
      "photoUrl": "https://lh3.googleusercontent.com/a-/AOh14GgZylf07mJhhnEsZkN6MAaKI9VOB8Qo62G2cqitnQ=s64",
      "userId": "14701739022845084298"
     }
    }
   },
   "outputs": [],
   "source": [
    "def loss(theta, X, y):\n",
    "  m = np.shape(X)[0] \n",
    "  error = (y - h(theta,X))\n",
    "  cost = np.sum(np.power(error,2))/m\n",
    "  return cost"
   ]
  },
  {
   "cell_type": "markdown",
   "metadata": {
    "id": "PCLgRXivdnNp"
   },
   "source": [
    "### Gradient of Hypothesis Function\n",
    "\n",
    "One can verify through straightforward (if somewhat tedious) multivariable calculus that the gradient of the loss function $J$ with respect to the parameters $\\theta$ is \n",
    "\n",
    "$$ \\frac{\\partial J}{\\partial \\boldsymbol{\\theta}} = - \\frac{1}{m} X^T \\cdot (Y - \\hat{Y})$$\n",
    "\n",
    "Where $m$ is the number of data samples, the number of rows in $\\mathbf{X}$ and $\\mathbf{Y}$.\n",
    "\n",
    "Note that the $\\mathbf{X}$ here is the one that has been augmented with a bias column. \n",
    "\n",
    "4. Write the `gradient()` function to compute this gradient."
   ]
  },
  {
   "cell_type": "code",
   "execution_count": 20,
   "metadata": {
    "id": "3zYnvBa1dnNp",
    "executionInfo": {
     "status": "ok",
     "timestamp": 1644216764053,
     "user_tz": -60,
     "elapsed": 8,
     "user": {
      "displayName": "Camila Gaitan Mosquera",
      "photoUrl": "https://lh3.googleusercontent.com/a-/AOh14GgZylf07mJhhnEsZkN6MAaKI9VOB8Qo62G2cqitnQ=s64",
      "userId": "14701739022845084298"
     }
    }
   },
   "outputs": [],
   "source": [
    "def gradient(theta, X, y):\n",
    "    d_theta = - np.dot(X.T, (y - h(theta, X))) / X.shape[0]\n",
    "    return d_theta"
   ]
  },
  {
   "cell_type": "markdown",
   "metadata": {
    "id": "fo-NxmSLdnNr"
   },
   "source": [
    "### Gradient Descent\n",
    "\n",
    "5. Complete the `stochastic_gradient_descent()` function to train your linear regression model with gradient descent, i.e. calculate $\\frac{\\partial J}{\\partial \\theta}$ and update $\\theta$. Recall that the general gradient descent update formula is $\\theta := \\theta - \\alpha \\frac{\\partial J}{\\partial \\theta}$, with $\\alpha$ the stepsize. We've provided the skeleton of a stochastic gradient descent function, but you're welcome to experiment with batch and/or minibatch gradient descent. Also recall that the aforementioned gradient descent methods differ in how frequently they calculate $\\frac{\\partial J}{\\partial \\theta}$ and update $\\theta$. Notice in the first step we initialize $\\boldsymbol{\\theta}$ to all zeros and we temporarily prepend a column of $1$'s to the features, which corresponds to the bias parameter.\n",
    "\n",
    "    Hint: Be mindful of the shapes of the arrays that you pass into the `gradient()` function. It should be two 2D arrays."
   ]
  },
  {
   "cell_type": "code",
   "execution_count": 21,
   "metadata": {
    "id": "g6hbmDgkdnNs",
    "executionInfo": {
     "status": "ok",
     "timestamp": 1644216764053,
     "user_tz": -60,
     "elapsed": 8,
     "user": {
      "displayName": "Camila Gaitan Mosquera",
      "photoUrl": "https://lh3.googleusercontent.com/a-/AOh14GgZylf07mJhhnEsZkN6MAaKI9VOB8Qo62G2cqitnQ=s64",
      "userId": "14701739022845084298"
     }
    }
   },
   "outputs": [],
   "source": [
    "def stochastic_gradient_descent(X, y, learning_rate, max_iteration, gap):\n",
    "    cost = np.zeros(max_iteration)\n",
    "    theta = np.zeros((X.shape[1] + 1, 1))\n",
    "    X = np.hstack([np.ones([X.shape[0], 1]), X])\n",
    "    for i in range(max_iteration) :\n",
    "        for j in range(X.shape[0]):\n",
    "            d_theta = gradient (theta, X[j,:].reshape(1, X.shape[1]), y[j,:].reshape(1, 1))\n",
    "            theta = theta - learning_rate * d_theta\n",
    "        cost[i] = loss(theta, X, y)\n",
    "        if i % gap == 0 :\n",
    "          print ('iteration : ', i, ' loss : ', loss(theta, X, y)) \n",
    "    return theta, cost\n",
    "\n",
    "  "
   ]
  },
  {
   "cell_type": "markdown",
   "metadata": {
    "id": "sy6ycQoFpA3n"
   },
   "source": [
    "6. Now we can run the `stochastic_gradient_descent()` function to find the optimal theta."
   ]
  },
  {
   "cell_type": "code",
   "execution_count": 22,
   "metadata": {
    "id": "O084UJ8UdnNt",
    "executionInfo": {
     "status": "ok",
     "timestamp": 1644216765287,
     "user_tz": -60,
     "elapsed": 1241,
     "user": {
      "displayName": "Camila Gaitan Mosquera",
      "photoUrl": "https://lh3.googleusercontent.com/a-/AOh14GgZylf07mJhhnEsZkN6MAaKI9VOB8Qo62G2cqitnQ=s64",
      "userId": "14701739022845084298"
     }
    },
    "colab": {
     "base_uri": "https://localhost:8080/"
    },
    "outputId": "38a6c27a-348d-4dd8-a64d-2c24ac09250e"
   },
   "outputs": [
    {
     "name": "stdout",
     "output_type": "stream",
     "text": [
      "iteration :  0  loss :  0.0008425110343683178\n",
      "iteration :  100  loss :  0.0004242278199831259\n",
      "iteration :  200  loss :  0.00035594683699588406\n",
      "iteration :  300  loss :  0.00032615719930104516\n",
      "iteration :  400  loss :  0.000310668522428677\n",
      "iteration :  500  loss :  0.00030174412334139\n",
      "iteration :  600  loss :  0.00029619110495172993\n",
      "iteration :  700  loss :  0.0002924939411493654\n",
      "iteration :  800  loss :  0.0002898726589923145\n",
      "iteration :  900  loss :  0.00028790422225543136\n"
     ]
    }
   ],
   "source": [
    "s_theta, s_cost = stochastic_gradient_descent(X_train, y_train, s_learning_rate, s_max_iteration, 100)"
   ]
  },
  {
   "cell_type": "code",
   "execution_count": 23,
   "metadata": {
    "id": "aoRR-pP8P2C2",
    "executionInfo": {
     "status": "ok",
     "timestamp": 1644216766874,
     "user_tz": -60,
     "elapsed": 1591,
     "user": {
      "displayName": "Camila Gaitan Mosquera",
      "photoUrl": "https://lh3.googleusercontent.com/a-/AOh14GgZylf07mJhhnEsZkN6MAaKI9VOB8Qo62G2cqitnQ=s64",
      "userId": "14701739022845084298"
     }
    },
    "colab": {
     "base_uri": "https://localhost:8080/",
     "height": 336
    },
    "outputId": "b8ac2663-52a6-492c-eeea-c4fd127489e0"
   },
   "outputs": [
    {
     "data": {
      "text/plain": "<StemContainer object of 3 artists>"
     },
     "execution_count": 23,
     "metadata": {},
     "output_type": "execute_result"
    },
    {
     "data": {
      "text/plain": "<Figure size 432x288 with 1 Axes>",
      "image/png": "[encoded data removed]"
     },
     "metadata": {
      "needs_background": "light"
     },
     "output_type": "display_data"
    }
   ],
   "source": [
    "plt.stem(np.squeeze(s_theta))"
   ]
  },
  {
   "cell_type": "markdown",
   "metadata": {
    "id": "B6D2kqejdnNv"
   },
   "source": [
    "### Generate Predictions from Test Data\n",
    "\n",
    "7. Use `s_theta` to make predictions on the test set (`X_test`).\n",
    "\n",
    "    Hint: Make sure to prepend the column of 1's onto `X_test` (just like it's done in the `stochastic_gradient_descent()` function)."
   ]
  },
  {
   "cell_type": "code",
   "execution_count": 24,
   "metadata": {
    "id": "m-u3iTbNdnNw",
    "executionInfo": {
     "status": "ok",
     "timestamp": 1644216766874,
     "user_tz": -60,
     "elapsed": 29,
     "user": {
      "displayName": "Camila Gaitan Mosquera",
      "photoUrl": "https://lh3.googleusercontent.com/a-/AOh14GgZylf07mJhhnEsZkN6MAaKI9VOB8Qo62G2cqitnQ=s64",
      "userId": "14701739022845084298"
     }
    }
   },
   "outputs": [],
   "source": [
    "y_pred_GD = h(s_theta, np.hstack([np.ones([X_test.shape[0], 1]), X_test]))\n",
    "# Since our target is non-negative, we set any negative predictions to 0.\n",
    "y_pred_GD[y_pred_GD < 0] = 0"
   ]
  },
  {
   "cell_type": "markdown",
   "metadata": {
    "id": "qa_Nyl5cpA3o"
   },
   "source": [
    "8. Calculate the MSE and R^2 score."
   ]
  },
  {
   "cell_type": "code",
   "execution_count": 25,
   "metadata": {
    "id": "Ljk24gJ4dnNy",
    "executionInfo": {
     "status": "ok",
     "timestamp": 1644216766874,
     "user_tz": -60,
     "elapsed": 26,
     "user": {
      "displayName": "Camila Gaitan Mosquera",
      "photoUrl": "https://lh3.googleusercontent.com/a-/AOh14GgZylf07mJhhnEsZkN6MAaKI9VOB8Qo62G2cqitnQ=s64",
      "userId": "14701739022845084298"
     }
    },
    "colab": {
     "base_uri": "https://localhost:8080/"
    },
    "outputId": "a4152547-9faa-45db-af36-b3bcd628ec72"
   },
   "outputs": [
    {
     "name": "stdout",
     "output_type": "stream",
     "text": [
      "MSE 0.00014124439384100335\n",
      "RMSE 0.011884628468782832\n",
      "R2 Score 0.5927712487057941\n"
     ]
    }
   ],
   "source": [
    "from sklearn.metrics import mean_squared_error as MSE\n",
    "from sklearn.metrics import r2_score\n",
    "import math\n",
    "\n",
    "gradient_MSE = MSE(y_test, y_pred_GD)\n",
    "gradient_RMSE =  math.sqrt(MSE(y_test, y_pred_GD))\n",
    "gradient_R2 = r2_score(y_test, y_pred_GD)\n",
    "print(\"MSE\", gradient_MSE )\n",
    "print(\"RMSE\", gradient_RMSE )\n",
    "print (\"R2 Score\", gradient_R2)"
   ]
  },
  {
   "cell_type": "markdown",
   "metadata": {
    "id": "2ImYOho6dnNy"
   },
   "source": [
    "### Visualize the predicted and actual test labels\n",
    "\n",
    "9. Make a plot showing both the true values (`y_test`) and the predicted values (`y_pred_GD`)."
   ]
  },
  {
   "cell_type": "code",
   "execution_count": 26,
   "metadata": {
    "id": "o3t83fxcr6dd",
    "executionInfo": {
     "status": "ok",
     "timestamp": 1644216766875,
     "user_tz": -60,
     "elapsed": 25,
     "user": {
      "displayName": "Camila Gaitan Mosquera",
      "photoUrl": "https://lh3.googleusercontent.com/a-/AOh14GgZylf07mJhhnEsZkN6MAaKI9VOB8Qo62G2cqitnQ=s64",
      "userId": "14701739022845084298"
     }
    },
    "colab": {
     "base_uri": "https://localhost:8080/",
     "height": 282
    },
    "outputId": "11586de5-25ba-427f-cf71-351f2be9616d"
   },
   "outputs": [
    {
     "data": {
      "text/plain": "<matplotlib.collections.PathCollection at 0x7ff0e0dc1e50>"
     },
     "execution_count": 26,
     "metadata": {},
     "output_type": "execute_result"
    },
    {
     "data": {
      "text/plain": "<Figure size 432x288 with 1 Axes>",
      "image/png": "[encoded data removed]"
     },
     "metadata": {
      "needs_background": "light"
     },
     "output_type": "display_data"
    }
   ],
   "source": [
    "plt.scatter(range(len(y_test)), y_test,  color='green')\n",
    "plt.scatter(range(len(y_pred_GD)), y_pred_GD, color='red', linewidth=3)"
   ]
  },
  {
   "cell_type": "markdown",
   "metadata": {
    "id": "QNFkAA7gdnN0"
   },
   "source": [
    "## Task 5: Normal Equations\n",
    "\n",
    "Gradient Descent is an iterative method for converging on the solution, though we can also compute the solution directly using the normal equation. Gradient Descent is generally preferred because it can converge quickly even with a large dataset, but since our training dataset isn't very large, we can use the normal equation.\n",
    "\n",
    "$$\\boldsymbol{\\theta} = (X^T \\cdot X)^{-1} \\cdot X^T \\cdot Y$$ \n",
    "$$\\hat{Y} = X \\cdot \\boldsymbol{\\theta}$$\n",
    "\n",
    "We'll compare our predictions with the ones we obtained using gradient descent.\n",
    "\n",
    "Remember we still have a bias term, so $\\boldsymbol{\\theta}$ is of size 74x1 (73 for the unique ID features, 1 for the bias).\n",
    "\n",
    "1. Complete the `normal_equations_solution()` function below.\n",
    "\n",
    "    Hint: numpy's `linalg.pinv` efficiently computes the matrix $(X^T \\cdot X)^{-1} \\cdot X^T$."
   ]
  },
  {
   "cell_type": "code",
   "execution_count": 27,
   "metadata": {
    "id": "ez7XC2qQdnN1",
    "executionInfo": {
     "status": "ok",
     "timestamp": 1644216766875,
     "user_tz": -60,
     "elapsed": 16,
     "user": {
      "displayName": "Camila Gaitan Mosquera",
      "photoUrl": "https://lh3.googleusercontent.com/a-/AOh14GgZylf07mJhhnEsZkN6MAaKI9VOB8Qo62G2cqitnQ=s64",
      "userId": "14701739022845084298"
     }
    }
   },
   "outputs": [],
   "source": [
    "def normal_equations_solution(X, y):\n",
    "    X_with_ones = np.hstack([np.ones([X.shape[0], 1]), X])\n",
    "    return np.dot(np.linalg.pinv(X_with_ones), y)"
   ]
  },
  {
   "cell_type": "markdown",
   "metadata": {
    "id": "lOGQDxVIpA3p"
   },
   "source": [
    "2. Use the `normal_equations_solution()` function to compute `y_pred_NE`.\n",
    "\n",
    "    The code should be the same as above, just use `n_theta` instead of `s_theta`."
   ]
  },
  {
   "cell_type": "code",
   "execution_count": 28,
   "metadata": {
    "id": "cAhtVznMZGtB",
    "executionInfo": {
     "status": "ok",
     "timestamp": 1644216766875,
     "user_tz": -60,
     "elapsed": 15,
     "user": {
      "displayName": "Camila Gaitan Mosquera",
      "photoUrl": "https://lh3.googleusercontent.com/a-/AOh14GgZylf07mJhhnEsZkN6MAaKI9VOB8Qo62G2cqitnQ=s64",
      "userId": "14701739022845084298"
     }
    }
   },
   "outputs": [],
   "source": [
    "n_theta = normal_equations_solution(X_train, y_train)\n",
    "y_pred_NE = np.dot(np.hstack([np.ones([X_test.shape[0], 1]), X_test]), n_theta)\n",
    "# Set any negative predictions to 0\n",
    "y_pred_NE[y_pred_NE < 0] = 0"
   ]
  },
  {
   "cell_type": "markdown",
   "metadata": {
    "id": "cjhCBmR0pA3p"
   },
   "source": [
    "3. Calculate the MSE and R^2 score."
   ]
  },
  {
   "cell_type": "code",
   "execution_count": 29,
   "metadata": {
    "id": "8786yEGTpA3p",
    "executionInfo": {
     "status": "ok",
     "timestamp": 1644216766875,
     "user_tz": -60,
     "elapsed": 14,
     "user": {
      "displayName": "Camila Gaitan Mosquera",
      "photoUrl": "https://lh3.googleusercontent.com/a-/AOh14GgZylf07mJhhnEsZkN6MAaKI9VOB8Qo62G2cqitnQ=s64",
      "userId": "14701739022845084298"
     }
    },
    "colab": {
     "base_uri": "https://localhost:8080/"
    },
    "outputId": "5174db03-2bc8-463f-a24f-172399be6c2e"
   },
   "outputs": [
    {
     "name": "stdout",
     "output_type": "stream",
     "text": [
      "MSE 0.00015900598697865995\n",
      "RMSE 0.012609757609829776\n",
      "R2 Score 0.541561914319144\n"
     ]
    }
   ],
   "source": [
    "normal_equations_MSE  = MSE(y_test, y_pred_NE)\n",
    "normal_equations_RMSE = math.sqrt(MSE(y_test, y_pred_NE))\n",
    "normal_equations_R2 = r2_score(y_test, y_pred_NE)\n",
    "\n",
    "print(\"MSE\",  normal_equations_MSE )\n",
    "print(\"RMSE\", normal_equations_RMSE)\n",
    "print (\"R2 Score\", normal_equations_R2 )"
   ]
  },
  {
   "cell_type": "markdown",
   "metadata": {
    "id": "ubl84dRIpA3p"
   },
   "source": [
    "4. Make a plot showing both the true values (`y_test`) and the predicted values (`y_pred_NE`)."
   ]
  },
  {
   "cell_type": "code",
   "execution_count": 30,
   "metadata": {
    "id": "VKAnZJT-pA3p",
    "executionInfo": {
     "status": "ok",
     "timestamp": 1644216767255,
     "user_tz": -60,
     "elapsed": 388,
     "user": {
      "displayName": "Camila Gaitan Mosquera",
      "photoUrl": "https://lh3.googleusercontent.com/a-/AOh14GgZylf07mJhhnEsZkN6MAaKI9VOB8Qo62G2cqitnQ=s64",
      "userId": "14701739022845084298"
     }
    },
    "colab": {
     "base_uri": "https://localhost:8080/",
     "height": 282
    },
    "outputId": "de7cc012-26e4-4365-bc7d-47fe14db79f9"
   },
   "outputs": [
    {
     "data": {
      "text/plain": "<matplotlib.collections.PathCollection at 0x7ff1118335e0>"
     },
     "execution_count": 30,
     "metadata": {},
     "output_type": "execute_result"
    },
    {
     "data": {
      "text/plain": "<Figure size 432x288 with 1 Axes>",
      "image/png": "[encoded data removed]"
     },
     "metadata": {
      "needs_background": "light"
     },
     "output_type": "display_data"
    }
   ],
   "source": [
    "plt.scatter(range(len(y_test)), y_test,  color='green')\n",
    "plt.scatter(range(len(y_pred_NE)), y_pred_NE, color='red', linewidth=3)"
   ]
  },
  {
   "cell_type": "markdown",
   "metadata": {
    "id": "i3ofJxdUdnN6"
   },
   "source": [
    "### Regularized Normal Equations\n",
    "\n",
    "Recall that our training features array `X_train` has 66 rows and 73 columns, thus wider than it is tall. This suggests the regularized normal equations might perform better.\n",
    "\n",
    "$$\\boldsymbol{\\theta} = (X^T \\cdot X + \\lambda m I)^{-1} \\cdot X^T \\cdot Y$$\n",
    "\n",
    "Here, $\\lambda$ is the regularization parameter and $m$ is the number of rows in $X$.\n",
    "\n",
    "5. Complete the `regularized_normal_equations_solution()` equation."
   ]
  },
  {
   "cell_type": "code",
   "execution_count": 31,
   "metadata": {
    "id": "nFY5YO-IZ2e7",
    "executionInfo": {
     "status": "ok",
     "timestamp": 1644216767255,
     "user_tz": -60,
     "elapsed": 11,
     "user": {
      "displayName": "Camila Gaitan Mosquera",
      "photoUrl": "https://lh3.googleusercontent.com/a-/AOh14GgZylf07mJhhnEsZkN6MAaKI9VOB8Qo62G2cqitnQ=s64",
      "userId": "14701739022845084298"
     }
    }
   },
   "outputs": [],
   "source": [
    "def regularized_normal_equations_solution(X, y, regularization_param):\n",
    "    X_with_ones = np.hstack([np.ones([X.shape[0], 1]), X])\n",
    "    return np.dot(\n",
    "      np.linalg.inv(np.dot(X_with_ones.T, X_with_ones) + regularization_param * len(X) * np.identity(X_with_ones.shape[1])),\n",
    "      np.dot(X_with_ones.T, y)\n",
    "  )"
   ]
  },
  {
   "cell_type": "markdown",
   "metadata": {
    "id": "gcxWBHY7pA3q"
   },
   "source": [
    "6. Complete the code snippet below to calculate the MSE and R^2 values for each of the potential regularization parameters to determine the optimal.\n",
    "\n",
    "    Does it outperform the standard normal equation?"
   ]
  },
  {
   "cell_type": "code",
   "execution_count": 32,
   "metadata": {
    "id": "bIrbJkOydnN9",
    "executionInfo": {
     "status": "ok",
     "timestamp": 1644216767256,
     "user_tz": -60,
     "elapsed": 11,
     "user": {
      "displayName": "Camila Gaitan Mosquera",
      "photoUrl": "https://lh3.googleusercontent.com/a-/AOh14GgZylf07mJhhnEsZkN6MAaKI9VOB8Qo62G2cqitnQ=s64",
      "userId": "14701739022845084298"
     }
    },
    "colab": {
     "base_uri": "https://localhost:8080/"
    },
    "outputId": "07d9ed9e-6876-4455-efb7-b89d66fe348d"
   },
   "outputs": [
    {
     "name": "stdout",
     "output_type": "stream",
     "text": [
      "For regularization parameter 0.001\n",
      "R2=  0.5690995797394551\n",
      "MSE =  0.0001494547437333662\n",
      "RMSE = 0.012225168454191795\n",
      "-----\n",
      "For regularization parameter 0.002\n",
      "R2=  0.583846140494432\n",
      "MSE =  0.00014434000409757988\n",
      "RMSE = 0.012014158484787017\n",
      "-----\n",
      "For regularization parameter 0.003\n",
      "R2=  0.5934312890358185\n",
      "MSE =  0.000141015463550525\n",
      "RMSE = 0.011874993202125423\n",
      "-----\n",
      "For regularization parameter 0.004\n",
      "R2=  0.599414941101759\n",
      "MSE =  0.0001389400764214894\n",
      "RMSE = 0.011787284522802078\n",
      "-----\n",
      "For regularization parameter 0.005\n",
      "R2=  0.6031044186344527\n",
      "MSE =  0.0001376604073999894\n",
      "RMSE = 0.011732877200413775\n",
      "-----\n",
      "For regularization parameter 0.006\n",
      "R2=  0.6054385526570705\n",
      "MSE =  0.00013685082962798647\n",
      "RMSE = 0.011698325932713043\n",
      "-----\n",
      "For regularization parameter 0.007\n",
      "R2=  0.6069381966245939\n",
      "MSE =  0.00013633068879191586\n",
      "RMSE = 0.011676073346460095\n",
      "-----\n",
      "For regularization parameter 0.008\n",
      "R2=  0.6079192686781267\n",
      "MSE =  0.00013599041093315662\n",
      "RMSE = 0.011661492654594291\n",
      "-----\n",
      "For regularization parameter 0.009000000000000001\n",
      "R2=  0.6084618096277015\n",
      "MSE =  0.00013580223446645805\n",
      "RMSE = 0.011653421577650834\n",
      "-----\n",
      "For regularization parameter 0.01\n",
      "R2=  0.6086788431585044\n",
      "MSE =  0.0001357269579310857\n",
      "RMSE = 0.011650191325943351\n",
      "-----\n"
     ]
    }
   ],
   "source": [
    "regularization_params = np.linspace(0.001, 0.01, 10)\n",
    "\n",
    "for regularization_param in regularization_params:\n",
    "    theta_temp = regularized_normal_equations_solution(X_train, y_train, regularization_param)\n",
    "    y_pred_N_reg = np.dot(np.hstack([np.ones([X_test.shape[0], 1]), X_test]), theta_temp)\n",
    "    y_pred_N_reg[np.where(y_pred_N_reg<0)]=0\n",
    "\n",
    "    print('For regularization parameter', regularization_param)\n",
    "    regularized_RMSE = math.sqrt(MSE(y_test, y_pred_N_reg))\n",
    "    regularized_MSE = MSE(y_test, y_pred_N_reg) \n",
    "    regularized_R2 = r2_score(y_test, y_pred_N_reg)\n",
    "\n",
    "\n",
    "    print(\"R2= \",regularized_R2 )\n",
    "    print (\"MSE = \", regularized_MSE)\n",
    "    print (\"RMSE =\", regularized_RMSE )\n",
    "\n",
    "    print('-----')\n"
   ]
  },
  {
   "cell_type": "markdown",
   "metadata": {
    "id": "o5uD0DVidnN_"
   },
   "source": [
    "## Task 6: Non-linear Regression Models (GLM, DT) "
   ]
  },
  {
   "cell_type": "markdown",
   "metadata": {
    "id": "Yk0Be7SQdnN_"
   },
   "source": [
    "### Generalized Linear Models\n",
    "\n",
    "Statsmodels has a `GLM` class for Generalized Linear Models. Here we import and build the model.\n",
    "\n",
    "The `GLM` class takes the training labels, training features, and family, which is the family of distributions to which we assume our prediciton errors belong. Some potentially good choices for family include Gaussian, Gamma, and Logit.\n",
    "\n",
    "1. Run the code below and review the results."
   ]
  },
  {
   "cell_type": "code",
   "execution_count": 33,
   "metadata": {
    "id": "cxUdD_LhdnN_",
    "executionInfo": {
     "status": "ok",
     "timestamp": 1644216767834,
     "user_tz": -60,
     "elapsed": 583,
     "user": {
      "displayName": "Camila Gaitan Mosquera",
      "photoUrl": "https://lh3.googleusercontent.com/a-/AOh14GgZylf07mJhhnEsZkN6MAaKI9VOB8Qo62G2cqitnQ=s64",
      "userId": "14701739022845084298"
     }
    },
    "colab": {
     "base_uri": "https://localhost:8080/"
    },
    "outputId": "7b23c28b-0f5e-4542-fb4b-6a2da7f1a272"
   },
   "outputs": [
    {
     "name": "stdout",
     "output_type": "stream",
     "text": [
      "                 Generalized Linear Model Regression Results                  \n",
      "==============================================================================\n",
      "Dep. Variable:                      y   No. Observations:                   66\n",
      "Model:                            GLM   Df Residuals:                       35\n",
      "Model Family:                Gaussian   Df Model:                           30\n",
      "Link Function:               identity   Scale:                      0.00059680\n",
      "Method:                          IRLS   Log-Likelihood:                 177.58\n",
      "Date:                Thu, 10 Feb 2022   Deviance:                     0.017784\n",
      "Time:                        11:53:35   Pearson chi2:                   0.0178\n",
      "No. Iterations:                     4   Pseudo R-squ. (CS):             0.5920\n",
      "Covariance Type:            nonrobust                                         \n",
      "====================================================================================\n",
      "                       coef    std err          z      P>|z|      [0.025      0.975]\n",
      "------------------------------------------------------------------------------------\n",
      "const                0.0147      0.009      1.588      0.112      -0.003       0.033\n",
      "main_S60_1       -1.373e-16   9.17e-17     -1.497      0.134   -3.17e-16    4.24e-17\n",
      "main_S60_2        1.835e-18   3.28e-17      0.056      0.955   -6.24e-17    6.61e-17\n",
      "main_type_SP100D     0.0012      0.035      0.035      0.972      -0.067       0.069\n",
      "main_type_S60D_1     0.0012      0.049      0.025      0.980      -0.095       0.097\n",
      "main_type_S60D_2    -0.0033      0.015     -0.223      0.823      -0.032       0.026\n",
      "main_type_S70        0.0170      0.010      1.647      0.099      -0.003       0.037\n",
      "main_type_S70D      -0.0054      0.012     -0.448      0.654      -0.029       0.018\n",
      "main_type_S75    -4.459e-17    3.3e-17     -1.351      0.177   -1.09e-16    2.01e-17\n",
      "main_type_S75D      -0.0097      0.025     -0.397      0.691      -0.058       0.038\n",
      "main_type_S80       -0.0028      0.013     -0.216      0.829      -0.028       0.023\n",
      "main_type_S80D      -0.0012      0.017     -0.070      0.944      -0.034       0.032\n",
      "main_type_S85        0.0007      0.014      0.054      0.957      -0.026       0.027\n",
      "main_type_S85P       0.0266      0.010      2.718      0.007       0.007       0.046\n",
      "main_type_P85D      -0.0014      0.022     -0.064      0.949      -0.045       0.042\n",
      "main_type_S90     2.741e-17   3.14e-17      0.874      0.382   -3.41e-17    8.89e-17\n",
      "main_type_S90D    2.301e-17    2.1e-17      1.099      0.272    -1.8e-17    6.41e-17\n",
      "main_type_S100D      0.0153      0.008      1.960      0.050    2.13e-07       0.031\n",
      "engine_A             0.0280      0.011      2.617      0.009       0.007       0.049\n",
      "engine_B         -7.819e-18   3.69e-17     -0.212      0.832      -8e-17    6.44e-17\n",
      "engine_C         -5.105e-18   1.64e-17     -0.311      0.755   -3.72e-17     2.7e-17\n",
      "engine_D          4.039e-18    3.2e-17      0.126      0.899   -5.86e-17    6.67e-17\n",
      "engine_E            -0.0093      0.014     -0.660      0.510      -0.037       0.018\n",
      "engine_F          7.804e-18   1.27e-17      0.613      0.540   -1.72e-17    3.28e-17\n",
      "engine_G            -0.0078      0.019     -0.416      0.677      -0.045       0.029\n",
      "engine_H         -3.149e-18   1.42e-17     -0.221      0.825   -3.11e-17    2.48e-17\n",
      "engine_I          2.859e-18   1.86e-18      1.541      0.123   -7.78e-19     6.5e-18\n",
      "engine_J         -1.875e-18   1.34e-18     -1.400      0.162    -4.5e-18    7.51e-19\n",
      "engine_K          1.755e-18   4.33e-18      0.406      0.685   -6.73e-18    1.02e-17\n",
      "engine_L          5.709e-21   1.11e-18      0.005      0.996   -2.18e-18    2.19e-18\n",
      "engine_M          8.108e-20   5.93e-19      0.137      0.891   -1.08e-18    1.24e-18\n",
      "engine_N             0.0012      0.028      0.043      0.966      -0.054       0.057\n",
      "engine_O            -0.0072      0.022     -0.326      0.744      -0.050       0.036\n",
      "engine_P            -0.0072      0.011     -0.679      0.497      -0.028       0.014\n",
      "engine_Q            -0.0013      0.009     -0.150      0.881      -0.019       0.016\n",
      "engine_R                  0          0        nan        nan           0           0\n",
      "engine_S                  0          0        nan        nan           0           0\n",
      "engine_T                  0          0        nan        nan           0           0\n",
      "engine_U            -0.0128      0.011     -1.191      0.234      -0.034       0.008\n",
      "engine_V                  0          0        nan        nan           0           0\n",
      "engine_W                  0          0        nan        nan           0           0\n",
      "engine_X            -0.0076      0.029     -0.264      0.792      -0.064       0.049\n",
      "engine_Y                  0          0        nan        nan           0           0\n",
      "engine_Z            -0.0254      0.011     -2.367      0.018      -0.047      -0.004\n",
      "sales_1             -0.0192      0.019     -1.015      0.310      -0.056       0.018\n",
      "sales_2                   0          0        nan        nan           0           0\n",
      "sales_3             -0.0014      0.019     -0.074      0.941      -0.038       0.035\n",
      "sales_4             -0.0019      0.019     -0.101      0.919      -0.039       0.035\n",
      "sales_5             -0.0060      0.025     -0.240      0.810      -0.055       0.043\n",
      "sales_6                   0          0        nan        nan           0           0\n",
      "sales_7             -0.0142      0.019     -0.752      0.452      -0.051       0.023\n",
      "sales_8             -0.0034      0.011     -0.304      0.761      -0.025       0.019\n",
      "sales_9             -0.0073      0.011     -0.687      0.492      -0.028       0.014\n",
      "sales_10             0.0530      0.024      2.252      0.024       0.007       0.099\n",
      "sales_11             0.0642      0.026      2.487      0.013       0.014       0.115\n",
      "sales_12                  0          0        nan        nan           0           0\n",
      "sales_13                  0          0        nan        nan           0           0\n",
      "sales_14                  0          0        nan        nan           0           0\n",
      "sales_15                  0          0        nan        nan           0           0\n",
      "sales_16                  0          0        nan        nan           0           0\n",
      "sales_17            -0.0108      0.029     -0.373      0.709      -0.067       0.046\n",
      "sales_18                  0          0        nan        nan           0           0\n",
      "sales_19                  0          0        nan        nan           0           0\n",
      "sales_20                  0          0        nan        nan           0           0\n",
      "sales_21            -0.0072      0.011     -0.679      0.497      -0.028       0.014\n",
      "sales_22                  0          0        nan        nan           0           0\n",
      "sales_23                  0          0        nan        nan           0           0\n",
      "sales_24            -0.0124      0.010     -1.233      0.217      -0.032       0.007\n",
      "sales_25             0.0137      0.024      0.584      0.559      -0.032       0.060\n",
      "sales_26            -0.0078      0.019     -0.416      0.677      -0.045       0.029\n",
      "sales_27                  0          0        nan        nan           0           0\n",
      "sales_28            -0.0246      0.019     -1.306      0.192      -0.062       0.012\n",
      "sales_29                  0          0        nan        nan           0           0\n",
      "sales_30                  0          0        nan        nan           0           0\n",
      "====================================================================================\n"
     ]
    }
   ],
   "source": [
    "import statsmodels.api as sm\n",
    "X_train_with_ones = sm.add_constant(X_train)\n",
    "glm = sm.GLM(y_train, X_train_with_ones, family=sm.families.Gaussian())\n",
    "glm_results = glm.fit()\n",
    "print(glm_results.summary())"
   ]
  },
  {
   "cell_type": "markdown",
   "metadata": {
    "id": "7IAchWHodnOB"
   },
   "source": [
    "2. Use the model created above to generate predictions."
   ]
  },
  {
   "cell_type": "code",
   "execution_count": 34,
   "metadata": {
    "id": "XLTsITX7dnOC",
    "executionInfo": {
     "status": "ok",
     "timestamp": 1644216767834,
     "user_tz": -60,
     "elapsed": 25,
     "user": {
      "displayName": "Camila Gaitan Mosquera",
      "photoUrl": "https://lh3.googleusercontent.com/a-/AOh14GgZylf07mJhhnEsZkN6MAaKI9VOB8Qo62G2cqitnQ=s64",
      "userId": "14701739022845084298"
     }
    },
    "colab": {
     "base_uri": "https://localhost:8080/"
    },
    "outputId": "4576a7f3-1f1e-4389-d8de-025d1389fd89"
   },
   "outputs": [],
   "source": [
    "# I have used this link to better understand GLM model and how to do the prediction http://www.science.smith.edu/~jcrouser/SDS293/labs/lab4-py.html\n",
    "test_X_glm = sm.add_constant(X_test)\n",
    "y_pred_GLM = glm_results.predict(test_X_glm)\n",
    "y_pred_GLM[y_pred_GLM < 0] = 0"
   ]
  },
  {
   "cell_type": "markdown",
   "metadata": {
    "id": "qaOOzUFHpA3q"
   },
   "source": [
    "3. Calculate the MSE and R^2 score."
   ]
  },
  {
   "cell_type": "code",
   "execution_count": 35,
   "metadata": {
    "id": "rfI9vW29pA3q",
    "executionInfo": {
     "status": "ok",
     "timestamp": 1644216767834,
     "user_tz": -60,
     "elapsed": 9,
     "user": {
      "displayName": "Camila Gaitan Mosquera",
      "photoUrl": "https://lh3.googleusercontent.com/a-/AOh14GgZylf07mJhhnEsZkN6MAaKI9VOB8Qo62G2cqitnQ=s64",
      "userId": "14701739022845084298"
     }
    },
    "colab": {
     "base_uri": "https://localhost:8080/"
    },
    "outputId": "2f9e5cdc-38fa-4942-8d71-203a11e1c15a"
   },
   "outputs": [
    {
     "name": "stdout",
     "output_type": "stream",
     "text": [
      "MSE 0.00015900598697865995\n",
      "RMSE 0.012609757609829776\n",
      "R2 Score 0.541561914319144\n"
     ]
    }
   ],
   "source": [
    "GLM_MSE = MSE(y_test, y_pred_GLM)\n",
    "GLM_RMSE = math.sqrt(MSE(y_test,y_pred_GLM))\n",
    "GLM_R2 = r2_score(y_test, y_pred_GLM)\n",
    "\n",
    "print(\"MSE\", GLM_MSE)\n",
    "print(\"RMSE\", GLM_RMSE)\n",
    "print (\"R2 Score\", GLM_R2)"
   ]
  },
  {
   "cell_type": "markdown",
   "metadata": {
    "id": "17FDuCPlpA3q"
   },
   "source": [
    "4. Make a plot showing both the true values (`y_test`) and the predicted values (`y_pred_GLM`)."
   ]
  },
  {
   "cell_type": "code",
   "execution_count": 36,
   "metadata": {
    "id": "D3reoVrfpA3q",
    "executionInfo": {
     "status": "ok",
     "timestamp": 1644216768151,
     "user_tz": -60,
     "elapsed": 320,
     "user": {
      "displayName": "Camila Gaitan Mosquera",
      "photoUrl": "https://lh3.googleusercontent.com/a-/AOh14GgZylf07mJhhnEsZkN6MAaKI9VOB8Qo62G2cqitnQ=s64",
      "userId": "14701739022845084298"
     }
    },
    "colab": {
     "base_uri": "https://localhost:8080/",
     "height": 282
    },
    "outputId": "4d06fa41-12db-4782-a589-1775642d0fa5"
   },
   "outputs": [
    {
     "data": {
      "text/plain": "<matplotlib.collections.PathCollection at 0x7ff133191cd0>"
     },
     "execution_count": 36,
     "metadata": {},
     "output_type": "execute_result"
    },
    {
     "data": {
      "text/plain": "<Figure size 432x288 with 1 Axes>",
      "image/png": "[encoded data removed]"
     },
     "metadata": {
      "needs_background": "light"
     },
     "output_type": "display_data"
    }
   ],
   "source": [
    "plt.scatter(range(len(y_test)), y_test,  color='green')\n",
    "plt.scatter(range(len(y_pred_GLM)), y_pred_GLM, color='red', linewidth=3)"
   ]
  },
  {
   "cell_type": "markdown",
   "metadata": {
    "id": "Vld0rNUcdnOG"
   },
   "source": [
    "### Random Forest Regression\n",
    "\n",
    "5. Use the `RandomForestRegressor` from scikit-learn to train a model.\n",
    "\n",
    "    The relevant parameters are the `max_depth` of the trees and the `random_state` (used so your code will always yield the same results).\n",
    "    \n",
    "    Note: we don't need to add a column of ones for non-linear models like Random Forests."
   ]
  },
  {
   "cell_type": "code",
   "execution_count": 37,
   "metadata": {
    "id": "EbxRUm3UdnOG",
    "executionInfo": {
     "status": "ok",
     "timestamp": 1644216768385,
     "user_tz": -60,
     "elapsed": 238,
     "user": {
      "displayName": "Camila Gaitan Mosquera",
      "photoUrl": "https://lh3.googleusercontent.com/a-/AOh14GgZylf07mJhhnEsZkN6MAaKI9VOB8Qo62G2cqitnQ=s64",
      "userId": "14701739022845084298"
     }
    },
    "colab": {
     "base_uri": "https://localhost:8080/"
    },
    "outputId": "cc908e88-1908-41eb-a431-267d9e7fe0f2"
   },
   "outputs": [
    {
     "name": "stderr",
     "output_type": "stream",
     "text": [
      "/var/folders/gd/k530dpdn0b7bp0679ks43_th0000gn/T/ipykernel_45895/3548843908.py:3: DataConversionWarning: A column-vector y was passed when a 1d array was expected. Please change the shape of y to (n_samples,), for example using ravel().\n",
      "  regr.fit(X_train, y_train)\n"
     ]
    },
    {
     "data": {
      "text/plain": "RandomForestRegressor(max_depth=5, random_state=0)"
     },
     "execution_count": 37,
     "metadata": {},
     "output_type": "execute_result"
    }
   ],
   "source": [
    "from sklearn.ensemble import RandomForestRegressor\n",
    "regr = RandomForestRegressor(max_depth=5, random_state=0)\n",
    "regr.fit(X_train, y_train)"
   ]
  },
  {
   "cell_type": "markdown",
   "metadata": {
    "id": "qt2pdO8epA3r"
   },
   "source": [
    "6. Use the model created above to generate predictions."
   ]
  },
  {
   "cell_type": "code",
   "execution_count": 38,
   "metadata": {
    "id": "IBvJm5jLpA3r",
    "executionInfo": {
     "status": "ok",
     "timestamp": 1644216768385,
     "user_tz": -60,
     "elapsed": 11,
     "user": {
      "displayName": "Camila Gaitan Mosquera",
      "photoUrl": "https://lh3.googleusercontent.com/a-/AOh14GgZylf07mJhhnEsZkN6MAaKI9VOB8Qo62G2cqitnQ=s64",
      "userId": "14701739022845084298"
     }
    }
   },
   "outputs": [],
   "source": [
    "y_pred_RF = regr.predict(X_test)\n",
    "y_pred_RF[y_pred_RF < 0] = 0"
   ]
  },
  {
   "cell_type": "markdown",
   "metadata": {
    "id": "ahR9G63gpA3r"
   },
   "source": [
    "7. Calculate the MSE and R^2 score."
   ]
  },
  {
   "cell_type": "code",
   "execution_count": 39,
   "metadata": {
    "id": "oEXm5BI6pA3r",
    "executionInfo": {
     "status": "ok",
     "timestamp": 1644216768385,
     "user_tz": -60,
     "elapsed": 10,
     "user": {
      "displayName": "Camila Gaitan Mosquera",
      "photoUrl": "https://lh3.googleusercontent.com/a-/AOh14GgZylf07mJhhnEsZkN6MAaKI9VOB8Qo62G2cqitnQ=s64",
      "userId": "14701739022845084298"
     }
    },
    "colab": {
     "base_uri": "https://localhost:8080/"
    },
    "outputId": "b733e374-d3bb-4016-cee9-2f7c0aa99121"
   },
   "outputs": [
    {
     "name": "stdout",
     "output_type": "stream",
     "text": [
      "MSE 0.00010586219144226917\n",
      "RMSE 0.010288935389158062\n",
      "R2 Score 0.6947834398381019\n"
     ]
    }
   ],
   "source": [
    "random_forest_MSE = MSE(y_test, y_pred_RF)\n",
    "random_forest_RMSE = math.sqrt(random_forest_MSE)\n",
    "random_forest_R2 = r2_score(y_test, y_pred_RF)\n",
    "\n",
    "print(\"MSE\", random_forest_MSE )\n",
    "print(\"RMSE\", random_forest_RMSE)\n",
    "print (\"R2 Score\", random_forest_R2)"
   ]
  },
  {
   "cell_type": "markdown",
   "metadata": {
    "id": "kWsH33repA3r"
   },
   "source": [
    "8. Make a plot showing both the true values (`y_test`) and the predicted values (`y_pred_GLM`)."
   ]
  },
  {
   "cell_type": "code",
   "execution_count": 40,
   "metadata": {
    "id": "40b35WTCpA3r",
    "executionInfo": {
     "status": "ok",
     "timestamp": 1644216768948,
     "user_tz": -60,
     "elapsed": 311,
     "user": {
      "displayName": "Camila Gaitan Mosquera",
      "photoUrl": "https://lh3.googleusercontent.com/a-/AOh14GgZylf07mJhhnEsZkN6MAaKI9VOB8Qo62G2cqitnQ=s64",
      "userId": "14701739022845084298"
     }
    },
    "colab": {
     "base_uri": "https://localhost:8080/",
     "height": 282
    },
    "outputId": "f84b5546-e8d5-4e07-f376-a68469e7690c"
   },
   "outputs": [
    {
     "data": {
      "text/plain": "<matplotlib.collections.PathCollection at 0x7ff111eb85e0>"
     },
     "execution_count": 40,
     "metadata": {},
     "output_type": "execute_result"
    },
    {
     "data": {
      "text/plain": "<Figure size 432x288 with 1 Axes>",
      "image/png": "[encoded data removed]"
     },
     "metadata": {
      "needs_background": "light"
     },
     "output_type": "display_data"
    }
   ],
   "source": [
    "plt.scatter(range(len(y_test)), y_test,  color='green')\n",
    "plt.scatter(range(len(y_pred_GLM)), y_pred_GLM, color='red', linewidth=3)"
   ]
  },
  {
   "cell_type": "markdown",
   "metadata": {
    "id": "bxx1JrikdnON"
   },
   "source": [
    "\n",
    "## Task 7: Compare the Models\n",
    "\n",
    "1. Populate the table below with the results of your experiments above. Which models performed best?"
   ]
  },
  {
   "cell_type": "code",
   "source": [
    "data = [[\"Gradient Descent\",gradient_RMSE, gradient_MSE, gradient_R2],\n",
    "        [\"Normal Equations\",normal_equations_RMSE, normal_equations_MSE, normal_equations_R2],\n",
    "        [\"Regularized Normal Equations\",regularized_RMSE, regularized_MSE, regularized_R2],\n",
    "        [\"Generalized Linear Model\",GLM_RMSE, GLM_MSE, GLM_R2],\n",
    "        [\"Random Forest\",random_forest_RMSE, random_forest_MSE, random_forest_R2]]\n",
    "dataframe = pd.DataFrame(data, columns=[\"Method\", \"RMSE\", \"MSE\", \"R2\"])\n",
    "dataframe.sort_values(by='MSE', ascending=True)"
   ],
   "metadata": {
    "colab": {
     "base_uri": "https://localhost:8080/",
     "height": 204
    },
    "id": "f7GcLezWaZ0s",
    "executionInfo": {
     "status": "ok",
     "timestamp": 1644216768948,
     "user_tz": -60,
     "elapsed": 5,
     "user": {
      "displayName": "Camila Gaitan Mosquera",
      "photoUrl": "https://lh3.googleusercontent.com/a-/AOh14GgZylf07mJhhnEsZkN6MAaKI9VOB8Qo62G2cqitnQ=s64",
      "userId": "14701739022845084298"
     }
    },
    "outputId": "525ef828-f402-47fb-83b6-de3f1087b278"
   },
   "execution_count": 41,
   "outputs": [
    {
     "data": {
      "text/plain": "                         Method      RMSE       MSE        R2\n4                 Random Forest  0.010289  0.000106  0.694783\n2  Regularized Normal Equations  0.011650  0.000136  0.608679\n0              Gradient Descent  0.011885  0.000141  0.592771\n1              Normal Equations  0.012610  0.000159  0.541562\n3      Generalized Linear Model  0.012610  0.000159  0.541562",
      "text/html": "<div>\n<style scoped>\n    .dataframe tbody tr th:only-of-type {\n        vertical-align: middle;\n    }\n\n    .dataframe tbody tr th {\n        vertical-align: top;\n    }\n\n    .dataframe thead th {\n        text-align: right;\n    }\n</style>\n<table border=\"1\" class=\"dataframe\">\n  <thead>\n    <tr style=\"text-align: right;\">\n      <th></th>\n      <th>Method</th>\n      <th>RMSE</th>\n      <th>MSE</th>\n      <th>R2</th>\n    </tr>\n  </thead>\n  <tbody>\n    <tr>\n      <th>4</th>\n      <td>Random Forest</td>\n      <td>0.010289</td>\n      <td>0.000106</td>\n      <td>0.694783</td>\n    </tr>\n    <tr>\n      <th>2</th>\n      <td>Regularized Normal Equations</td>\n      <td>0.011650</td>\n      <td>0.000136</td>\n      <td>0.608679</td>\n    </tr>\n    <tr>\n      <th>0</th>\n      <td>Gradient Descent</td>\n      <td>0.011885</td>\n      <td>0.000141</td>\n      <td>0.592771</td>\n    </tr>\n    <tr>\n      <th>1</th>\n      <td>Normal Equations</td>\n      <td>0.012610</td>\n      <td>0.000159</td>\n      <td>0.541562</td>\n    </tr>\n    <tr>\n      <th>3</th>\n      <td>Generalized Linear Model</td>\n      <td>0.012610</td>\n      <td>0.000159</td>\n      <td>0.541562</td>\n    </tr>\n  </tbody>\n</table>\n</div>"
     },
     "execution_count": 41,
     "metadata": {},
     "output_type": "execute_result"
    }
   ]
  }
 ],
 "metadata": {
  "colab": {
   "collapsed_sections": [],
   "name": "Tesla Sales Predictions.ipynb",
   "provenance": [
    {
     "file_id": "1A5aKkAXYKm5ju0TNG-1yU44-hnWEhh__",
     "timestamp": 1603344980309
    }
   ],
   "toc_visible": true
  },
  "kernelspec": {
   "display_name": "Python 3",
   "language": "python",
   "name": "python3"
  },
  "language_info": {
   "codemirror_mode": {
    "name": "ipython",
    "version": 3
   },
   "file_extension": ".py",
   "mimetype": "text/x-python",
   "name": "python",
   "nbconvert_exporter": "python",
   "pygments_lexer": "ipython3",
   "version": "3.8.5"
  }
 },
 "nbformat": 4,
 "nbformat_minor": 0
}