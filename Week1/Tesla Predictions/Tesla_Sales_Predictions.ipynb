{
  "cells": [
    {
      "cell_type": "markdown",
      "metadata": {
        "id": "lNnTTMT9dnM4"
      },
      "source": [
        "# Today you are a Data Scientist at Tesla! \n",
        "\n",
        "You have been assigned a new project to look at car sales from Quarters 1-2 in California for 2019 to make predictions as to which cars will be sold more than the others in Q3 and Q4, to ensure enough inventory to meet demands!"
      ]
    },
    {
      "cell_type": "markdown",
      "metadata": {
        "id": "AQqh5DMaq9QW"
      },
      "source": [
        "### If running this notebook in Google Colab, run the following cell first to mount your Google Drive\n",
        "\n",
        "This mounts your Google Drive at the location `/content/drive` on the virtual machine running this notebook."
      ]
    },
    {
      "cell_type": "code",
      "execution_count": 1,
      "metadata": {
        "colab": {
          "base_uri": "https://localhost:8080/"
        },
        "id": "Mqah54vN8CVB",
        "outputId": "f4f7c5bd-e879-4e16-8829-5e2742de9065"
      },
      "outputs": [
        {
          "output_type": "stream",
          "name": "stdout",
          "text": [
            "Mounted at /content/drive\n"
          ]
        }
      ],
      "source": [
        "from google.colab import drive\n",
        "drive.mount('/content/drive')"
      ]
    },
    {
      "cell_type": "markdown",
      "metadata": {
        "id": "v-eh9IKUfTdQ"
      },
      "source": [
        "## Task 1: Load the data"
      ]
    },
    {
      "cell_type": "markdown",
      "metadata": {
        "id": "OI6NP0JBdnM5"
      },
      "source": [
        "### Import the modules\n",
        "\n",
        "1. We'll be using numpy, pandas and matplotlib, so we start by importing them."
      ]
    },
    {
      "cell_type": "code",
      "execution_count": 2,
      "metadata": {
        "id": "WdNx3CHEdnM5"
      },
      "outputs": [],
      "source": [
        "import numpy as np\n",
        "import pandas as pd\n",
        "import matplotlib.pyplot as plt"
      ]
    },
    {
      "cell_type": "markdown",
      "metadata": {
        "id": "dM4fGT-ldnM8"
      },
      "source": [
        "### Read in the data\n",
        "\n",
        "2. Use pandas to read in the CSV file containing the sales data for Quarters 1 and 2. The file is called `sales_Q12_2019.csv`.\n",
        "\n",
        "    Note: Update `filepath` below to be where you saved the `sales_Q12_2019.csv` file (either on your computer if you're running the notebook locally, or in Google Drive if you're using Google Colab)."
      ]
    },
    {
      "cell_type": "code",
      "execution_count": 3,
      "metadata": {
        "id": "-s13HIEBdtGd",
        "colab": {
          "base_uri": "https://localhost:8080/",
          "height": 353
        },
        "outputId": "42daf6e8-915c-46bc-9940-0ae7911dc326"
      },
      "outputs": [
        {
          "output_type": "execute_result",
          "data": {
            "text/html": [
              "\n",
              "  <div id=\"df-f58ccf3b-6550-4b13-a69a-2c691e6c06c4\">\n",
              "    <div class=\"colab-df-container\">\n",
              "      <div>\n",
              "<style scoped>\n",
              "    .dataframe tbody tr th:only-of-type {\n",
              "        vertical-align: middle;\n",
              "    }\n",
              "\n",
              "    .dataframe tbody tr th {\n",
              "        vertical-align: top;\n",
              "    }\n",
              "\n",
              "    .dataframe thead th {\n",
              "        text-align: right;\n",
              "    }\n",
              "</style>\n",
              "<table border=\"1\" class=\"dataframe\">\n",
              "  <thead>\n",
              "    <tr style=\"text-align: right;\">\n",
              "      <th></th>\n",
              "      <th>main_S60_1</th>\n",
              "      <th>main_S60_2</th>\n",
              "      <th>main_type_SP100D</th>\n",
              "      <th>main_type_S60D_1</th>\n",
              "      <th>main_type_S60D_2</th>\n",
              "      <th>main_type_S70</th>\n",
              "      <th>main_type_S70D</th>\n",
              "      <th>main_type_S75</th>\n",
              "      <th>main_type_S75D</th>\n",
              "      <th>main_type_S80</th>\n",
              "      <th>main_type_S80D</th>\n",
              "      <th>main_type_S85</th>\n",
              "      <th>main_type_S85P</th>\n",
              "      <th>main_type_P85D</th>\n",
              "      <th>main_type_S90</th>\n",
              "      <th>main_type_S90D</th>\n",
              "      <th>main_type_S100D</th>\n",
              "      <th>engine_A</th>\n",
              "      <th>engine_B</th>\n",
              "      <th>engine_C</th>\n",
              "      <th>engine_D</th>\n",
              "      <th>engine_E</th>\n",
              "      <th>engine_F</th>\n",
              "      <th>engine_G</th>\n",
              "      <th>engine_H</th>\n",
              "      <th>engine_I</th>\n",
              "      <th>engine_J</th>\n",
              "      <th>engine_K</th>\n",
              "      <th>engine_L</th>\n",
              "      <th>engine_M</th>\n",
              "      <th>engine_N</th>\n",
              "      <th>engine_O</th>\n",
              "      <th>engine_P</th>\n",
              "      <th>engine_Q</th>\n",
              "      <th>engine_R</th>\n",
              "      <th>engine_S</th>\n",
              "      <th>engine_T</th>\n",
              "      <th>engine_U</th>\n",
              "      <th>engine_V</th>\n",
              "      <th>engine_W</th>\n",
              "      <th>engine_X</th>\n",
              "      <th>engine_Y</th>\n",
              "      <th>engine_Z</th>\n",
              "      <th>sales_1</th>\n",
              "      <th>sales_2</th>\n",
              "      <th>sales_3</th>\n",
              "      <th>sales_4</th>\n",
              "      <th>sales_5</th>\n",
              "      <th>sales_6</th>\n",
              "      <th>sales_7</th>\n",
              "      <th>sales_8</th>\n",
              "      <th>sales_9</th>\n",
              "      <th>sales_10</th>\n",
              "      <th>sales_11</th>\n",
              "      <th>sales_12</th>\n",
              "      <th>sales_13</th>\n",
              "      <th>sales_14</th>\n",
              "      <th>sales_15</th>\n",
              "      <th>sales_16</th>\n",
              "      <th>sales_17</th>\n",
              "      <th>sales_18</th>\n",
              "      <th>sales_19</th>\n",
              "      <th>sales_20</th>\n",
              "      <th>sales_21</th>\n",
              "      <th>sales_22</th>\n",
              "      <th>sales_23</th>\n",
              "      <th>sales_24</th>\n",
              "      <th>sales_25</th>\n",
              "      <th>sales_26</th>\n",
              "      <th>sales_27</th>\n",
              "      <th>sales_28</th>\n",
              "      <th>sales_29</th>\n",
              "      <th>sales_30</th>\n",
              "      <th>MSRP</th>\n",
              "      <th>dealer_state</th>\n",
              "      <th>date</th>\n",
              "    </tr>\n",
              "  </thead>\n",
              "  <tbody>\n",
              "    <tr>\n",
              "      <th>0</th>\n",
              "      <td>0</td>\n",
              "      <td>0</td>\n",
              "      <td>0</td>\n",
              "      <td>0</td>\n",
              "      <td>0</td>\n",
              "      <td>1</td>\n",
              "      <td>0</td>\n",
              "      <td>0</td>\n",
              "      <td>0</td>\n",
              "      <td>0</td>\n",
              "      <td>0</td>\n",
              "      <td>0</td>\n",
              "      <td>0</td>\n",
              "      <td>0</td>\n",
              "      <td>0</td>\n",
              "      <td>0</td>\n",
              "      <td>0</td>\n",
              "      <td>0</td>\n",
              "      <td>0</td>\n",
              "      <td>0</td>\n",
              "      <td>0</td>\n",
              "      <td>0</td>\n",
              "      <td>0</td>\n",
              "      <td>0</td>\n",
              "      <td>0</td>\n",
              "      <td>0</td>\n",
              "      <td>0</td>\n",
              "      <td>0</td>\n",
              "      <td>0</td>\n",
              "      <td>0</td>\n",
              "      <td>0</td>\n",
              "      <td>0</td>\n",
              "      <td>0</td>\n",
              "      <td>0</td>\n",
              "      <td>0</td>\n",
              "      <td>0</td>\n",
              "      <td>0</td>\n",
              "      <td>0</td>\n",
              "      <td>0</td>\n",
              "      <td>0</td>\n",
              "      <td>0</td>\n",
              "      <td>0</td>\n",
              "      <td>0</td>\n",
              "      <td>0</td>\n",
              "      <td>0</td>\n",
              "      <td>0</td>\n",
              "      <td>0</td>\n",
              "      <td>0</td>\n",
              "      <td>0</td>\n",
              "      <td>0</td>\n",
              "      <td>1</td>\n",
              "      <td>0</td>\n",
              "      <td>0</td>\n",
              "      <td>0</td>\n",
              "      <td>0</td>\n",
              "      <td>0</td>\n",
              "      <td>0</td>\n",
              "      <td>0</td>\n",
              "      <td>0</td>\n",
              "      <td>0</td>\n",
              "      <td>0</td>\n",
              "      <td>0</td>\n",
              "      <td>0</td>\n",
              "      <td>0</td>\n",
              "      <td>0</td>\n",
              "      <td>0</td>\n",
              "      <td>0</td>\n",
              "      <td>0</td>\n",
              "      <td>0</td>\n",
              "      <td>0</td>\n",
              "      <td>0</td>\n",
              "      <td>0</td>\n",
              "      <td>0</td>\n",
              "      <td>44610</td>\n",
              "      <td>California</td>\n",
              "      <td>2019-04-28</td>\n",
              "    </tr>\n",
              "    <tr>\n",
              "      <th>1</th>\n",
              "      <td>0</td>\n",
              "      <td>0</td>\n",
              "      <td>0</td>\n",
              "      <td>0</td>\n",
              "      <td>0</td>\n",
              "      <td>0</td>\n",
              "      <td>0</td>\n",
              "      <td>0</td>\n",
              "      <td>0</td>\n",
              "      <td>0</td>\n",
              "      <td>0</td>\n",
              "      <td>0</td>\n",
              "      <td>0</td>\n",
              "      <td>0</td>\n",
              "      <td>0</td>\n",
              "      <td>0</td>\n",
              "      <td>1</td>\n",
              "      <td>1</td>\n",
              "      <td>0</td>\n",
              "      <td>0</td>\n",
              "      <td>0</td>\n",
              "      <td>0</td>\n",
              "      <td>0</td>\n",
              "      <td>0</td>\n",
              "      <td>0</td>\n",
              "      <td>0</td>\n",
              "      <td>0</td>\n",
              "      <td>0</td>\n",
              "      <td>0</td>\n",
              "      <td>0</td>\n",
              "      <td>0</td>\n",
              "      <td>0</td>\n",
              "      <td>0</td>\n",
              "      <td>0</td>\n",
              "      <td>0</td>\n",
              "      <td>0</td>\n",
              "      <td>0</td>\n",
              "      <td>0</td>\n",
              "      <td>0</td>\n",
              "      <td>0</td>\n",
              "      <td>0</td>\n",
              "      <td>0</td>\n",
              "      <td>0</td>\n",
              "      <td>0</td>\n",
              "      <td>0</td>\n",
              "      <td>0</td>\n",
              "      <td>0</td>\n",
              "      <td>0</td>\n",
              "      <td>0</td>\n",
              "      <td>0</td>\n",
              "      <td>1</td>\n",
              "      <td>0</td>\n",
              "      <td>0</td>\n",
              "      <td>0</td>\n",
              "      <td>0</td>\n",
              "      <td>0</td>\n",
              "      <td>0</td>\n",
              "      <td>0</td>\n",
              "      <td>0</td>\n",
              "      <td>0</td>\n",
              "      <td>0</td>\n",
              "      <td>0</td>\n",
              "      <td>0</td>\n",
              "      <td>0</td>\n",
              "      <td>0</td>\n",
              "      <td>0</td>\n",
              "      <td>0</td>\n",
              "      <td>0</td>\n",
              "      <td>0</td>\n",
              "      <td>0</td>\n",
              "      <td>0</td>\n",
              "      <td>0</td>\n",
              "      <td>0</td>\n",
              "      <td>41505</td>\n",
              "      <td>California</td>\n",
              "      <td>2019-03-14</td>\n",
              "    </tr>\n",
              "    <tr>\n",
              "      <th>2</th>\n",
              "      <td>0</td>\n",
              "      <td>0</td>\n",
              "      <td>0</td>\n",
              "      <td>0</td>\n",
              "      <td>0</td>\n",
              "      <td>0</td>\n",
              "      <td>0</td>\n",
              "      <td>0</td>\n",
              "      <td>0</td>\n",
              "      <td>0</td>\n",
              "      <td>0</td>\n",
              "      <td>0</td>\n",
              "      <td>1</td>\n",
              "      <td>0</td>\n",
              "      <td>0</td>\n",
              "      <td>0</td>\n",
              "      <td>0</td>\n",
              "      <td>0</td>\n",
              "      <td>0</td>\n",
              "      <td>0</td>\n",
              "      <td>0</td>\n",
              "      <td>0</td>\n",
              "      <td>0</td>\n",
              "      <td>0</td>\n",
              "      <td>0</td>\n",
              "      <td>0</td>\n",
              "      <td>0</td>\n",
              "      <td>0</td>\n",
              "      <td>0</td>\n",
              "      <td>0</td>\n",
              "      <td>0</td>\n",
              "      <td>0</td>\n",
              "      <td>0</td>\n",
              "      <td>1</td>\n",
              "      <td>0</td>\n",
              "      <td>0</td>\n",
              "      <td>0</td>\n",
              "      <td>0</td>\n",
              "      <td>0</td>\n",
              "      <td>0</td>\n",
              "      <td>0</td>\n",
              "      <td>0</td>\n",
              "      <td>0</td>\n",
              "      <td>0</td>\n",
              "      <td>0</td>\n",
              "      <td>0</td>\n",
              "      <td>0</td>\n",
              "      <td>0</td>\n",
              "      <td>0</td>\n",
              "      <td>1</td>\n",
              "      <td>0</td>\n",
              "      <td>0</td>\n",
              "      <td>0</td>\n",
              "      <td>0</td>\n",
              "      <td>0</td>\n",
              "      <td>0</td>\n",
              "      <td>0</td>\n",
              "      <td>0</td>\n",
              "      <td>0</td>\n",
              "      <td>0</td>\n",
              "      <td>0</td>\n",
              "      <td>0</td>\n",
              "      <td>0</td>\n",
              "      <td>0</td>\n",
              "      <td>0</td>\n",
              "      <td>0</td>\n",
              "      <td>0</td>\n",
              "      <td>0</td>\n",
              "      <td>0</td>\n",
              "      <td>0</td>\n",
              "      <td>0</td>\n",
              "      <td>0</td>\n",
              "      <td>0</td>\n",
              "      <td>58890</td>\n",
              "      <td>California</td>\n",
              "      <td>2019-06-12</td>\n",
              "    </tr>\n",
              "    <tr>\n",
              "      <th>3</th>\n",
              "      <td>0</td>\n",
              "      <td>0</td>\n",
              "      <td>0</td>\n",
              "      <td>0</td>\n",
              "      <td>0</td>\n",
              "      <td>0</td>\n",
              "      <td>0</td>\n",
              "      <td>0</td>\n",
              "      <td>0</td>\n",
              "      <td>0</td>\n",
              "      <td>0</td>\n",
              "      <td>0</td>\n",
              "      <td>1</td>\n",
              "      <td>0</td>\n",
              "      <td>0</td>\n",
              "      <td>0</td>\n",
              "      <td>0</td>\n",
              "      <td>0</td>\n",
              "      <td>0</td>\n",
              "      <td>0</td>\n",
              "      <td>0</td>\n",
              "      <td>0</td>\n",
              "      <td>0</td>\n",
              "      <td>0</td>\n",
              "      <td>0</td>\n",
              "      <td>0</td>\n",
              "      <td>0</td>\n",
              "      <td>0</td>\n",
              "      <td>0</td>\n",
              "      <td>0</td>\n",
              "      <td>0</td>\n",
              "      <td>0</td>\n",
              "      <td>0</td>\n",
              "      <td>0</td>\n",
              "      <td>0</td>\n",
              "      <td>0</td>\n",
              "      <td>0</td>\n",
              "      <td>0</td>\n",
              "      <td>0</td>\n",
              "      <td>0</td>\n",
              "      <td>0</td>\n",
              "      <td>0</td>\n",
              "      <td>0</td>\n",
              "      <td>0</td>\n",
              "      <td>0</td>\n",
              "      <td>0</td>\n",
              "      <td>0</td>\n",
              "      <td>0</td>\n",
              "      <td>0</td>\n",
              "      <td>0</td>\n",
              "      <td>1</td>\n",
              "      <td>0</td>\n",
              "      <td>0</td>\n",
              "      <td>0</td>\n",
              "      <td>0</td>\n",
              "      <td>0</td>\n",
              "      <td>0</td>\n",
              "      <td>0</td>\n",
              "      <td>0</td>\n",
              "      <td>0</td>\n",
              "      <td>0</td>\n",
              "      <td>0</td>\n",
              "      <td>0</td>\n",
              "      <td>0</td>\n",
              "      <td>0</td>\n",
              "      <td>0</td>\n",
              "      <td>0</td>\n",
              "      <td>0</td>\n",
              "      <td>0</td>\n",
              "      <td>0</td>\n",
              "      <td>0</td>\n",
              "      <td>0</td>\n",
              "      <td>0</td>\n",
              "      <td>51055</td>\n",
              "      <td>California</td>\n",
              "      <td>2019-03-04</td>\n",
              "    </tr>\n",
              "    <tr>\n",
              "      <th>4</th>\n",
              "      <td>0</td>\n",
              "      <td>0</td>\n",
              "      <td>0</td>\n",
              "      <td>0</td>\n",
              "      <td>0</td>\n",
              "      <td>0</td>\n",
              "      <td>0</td>\n",
              "      <td>0</td>\n",
              "      <td>0</td>\n",
              "      <td>0</td>\n",
              "      <td>0</td>\n",
              "      <td>0</td>\n",
              "      <td>0</td>\n",
              "      <td>1</td>\n",
              "      <td>0</td>\n",
              "      <td>0</td>\n",
              "      <td>0</td>\n",
              "      <td>0</td>\n",
              "      <td>0</td>\n",
              "      <td>0</td>\n",
              "      <td>0</td>\n",
              "      <td>0</td>\n",
              "      <td>0</td>\n",
              "      <td>0</td>\n",
              "      <td>0</td>\n",
              "      <td>0</td>\n",
              "      <td>0</td>\n",
              "      <td>0</td>\n",
              "      <td>0</td>\n",
              "      <td>0</td>\n",
              "      <td>0</td>\n",
              "      <td>0</td>\n",
              "      <td>0</td>\n",
              "      <td>1</td>\n",
              "      <td>0</td>\n",
              "      <td>0</td>\n",
              "      <td>0</td>\n",
              "      <td>0</td>\n",
              "      <td>0</td>\n",
              "      <td>0</td>\n",
              "      <td>0</td>\n",
              "      <td>0</td>\n",
              "      <td>0</td>\n",
              "      <td>0</td>\n",
              "      <td>0</td>\n",
              "      <td>0</td>\n",
              "      <td>0</td>\n",
              "      <td>0</td>\n",
              "      <td>0</td>\n",
              "      <td>0</td>\n",
              "      <td>0</td>\n",
              "      <td>0</td>\n",
              "      <td>0</td>\n",
              "      <td>1</td>\n",
              "      <td>0</td>\n",
              "      <td>0</td>\n",
              "      <td>0</td>\n",
              "      <td>0</td>\n",
              "      <td>0</td>\n",
              "      <td>0</td>\n",
              "      <td>0</td>\n",
              "      <td>0</td>\n",
              "      <td>0</td>\n",
              "      <td>0</td>\n",
              "      <td>0</td>\n",
              "      <td>0</td>\n",
              "      <td>0</td>\n",
              "      <td>0</td>\n",
              "      <td>0</td>\n",
              "      <td>0</td>\n",
              "      <td>0</td>\n",
              "      <td>0</td>\n",
              "      <td>0</td>\n",
              "      <td>70830</td>\n",
              "      <td>California</td>\n",
              "      <td>2019-01-23</td>\n",
              "    </tr>\n",
              "  </tbody>\n",
              "</table>\n",
              "</div>\n",
              "      <button class=\"colab-df-convert\" onclick=\"convertToInteractive('df-f58ccf3b-6550-4b13-a69a-2c691e6c06c4')\"\n",
              "              title=\"Convert this dataframe to an interactive table.\"\n",
              "              style=\"display:none;\">\n",
              "        \n",
              "  <svg xmlns=\"http://www.w3.org/2000/svg\" height=\"24px\"viewBox=\"0 0 24 24\"\n",
              "       width=\"24px\">\n",
              "    <path d=\"M0 0h24v24H0V0z\" fill=\"none\"/>\n",
              "    <path d=\"M18.56 5.44l.94 2.06.94-2.06 2.06-.94-2.06-.94-.94-2.06-.94 2.06-2.06.94zm-11 1L8.5 8.5l.94-2.06 2.06-.94-2.06-.94L8.5 2.5l-.94 2.06-2.06.94zm10 10l.94 2.06.94-2.06 2.06-.94-2.06-.94-.94-2.06-.94 2.06-2.06.94z\"/><path d=\"M17.41 7.96l-1.37-1.37c-.4-.4-.92-.59-1.43-.59-.52 0-1.04.2-1.43.59L10.3 9.45l-7.72 7.72c-.78.78-.78 2.05 0 2.83L4 21.41c.39.39.9.59 1.41.59.51 0 1.02-.2 1.41-.59l7.78-7.78 2.81-2.81c.8-.78.8-2.07 0-2.86zM5.41 20L4 18.59l7.72-7.72 1.47 1.35L5.41 20z\"/>\n",
              "  </svg>\n",
              "      </button>\n",
              "      \n",
              "  <style>\n",
              "    .colab-df-container {\n",
              "      display:flex;\n",
              "      flex-wrap:wrap;\n",
              "      gap: 12px;\n",
              "    }\n",
              "\n",
              "    .colab-df-convert {\n",
              "      background-color: #E8F0FE;\n",
              "      border: none;\n",
              "      border-radius: 50%;\n",
              "      cursor: pointer;\n",
              "      display: none;\n",
              "      fill: #1967D2;\n",
              "      height: 32px;\n",
              "      padding: 0 0 0 0;\n",
              "      width: 32px;\n",
              "    }\n",
              "\n",
              "    .colab-df-convert:hover {\n",
              "      background-color: #E2EBFA;\n",
              "      box-shadow: 0px 1px 2px rgba(60, 64, 67, 0.3), 0px 1px 3px 1px rgba(60, 64, 67, 0.15);\n",
              "      fill: #174EA6;\n",
              "    }\n",
              "\n",
              "    [theme=dark] .colab-df-convert {\n",
              "      background-color: #3B4455;\n",
              "      fill: #D2E3FC;\n",
              "    }\n",
              "\n",
              "    [theme=dark] .colab-df-convert:hover {\n",
              "      background-color: #434B5C;\n",
              "      box-shadow: 0px 1px 3px 1px rgba(0, 0, 0, 0.15);\n",
              "      filter: drop-shadow(0px 1px 2px rgba(0, 0, 0, 0.3));\n",
              "      fill: #FFFFFF;\n",
              "    }\n",
              "  </style>\n",
              "\n",
              "      <script>\n",
              "        const buttonEl =\n",
              "          document.querySelector('#df-f58ccf3b-6550-4b13-a69a-2c691e6c06c4 button.colab-df-convert');\n",
              "        buttonEl.style.display =\n",
              "          google.colab.kernel.accessAllowed ? 'block' : 'none';\n",
              "\n",
              "        async function convertToInteractive(key) {\n",
              "          const element = document.querySelector('#df-f58ccf3b-6550-4b13-a69a-2c691e6c06c4');\n",
              "          const dataTable =\n",
              "            await google.colab.kernel.invokeFunction('convertToInteractive',\n",
              "                                                     [key], {});\n",
              "          if (!dataTable) return;\n",
              "\n",
              "          const docLinkHtml = 'Like what you see? Visit the ' +\n",
              "            '<a target=\"_blank\" href=https://colab.research.google.com/notebooks/data_table.ipynb>data table notebook</a>'\n",
              "            + ' to learn more about interactive tables.';\n",
              "          element.innerHTML = '';\n",
              "          dataTable['output_type'] = 'display_data';\n",
              "          await google.colab.output.renderOutput(dataTable, element);\n",
              "          const docLink = document.createElement('div');\n",
              "          docLink.innerHTML = docLinkHtml;\n",
              "          element.appendChild(docLink);\n",
              "        }\n",
              "      </script>\n",
              "    </div>\n",
              "  </div>\n",
              "  "
            ],
            "text/plain": [
              "   main_S60_1  main_S60_2  main_type_SP100D  ...   MSRP  dealer_state        date\n",
              "0           0           0                 0  ...  44610    California  2019-04-28\n",
              "1           0           0                 0  ...  41505    California  2019-03-14\n",
              "2           0           0                 0  ...  58890    California  2019-06-12\n",
              "3           0           0                 0  ...  51055    California  2019-03-04\n",
              "4           0           0                 0  ...  70830    California  2019-01-23\n",
              "\n",
              "[5 rows x 76 columns]"
            ]
          },
          "metadata": {},
          "execution_count": 3
        }
      ],
      "source": [
        "filepath = '/content/drive/MyDrive/Colab Notebooks/Week1/Tesla Predictions/sales_Q12_2019.csv'\n",
        "df_sales =  pd.read_csv(filepath)\n",
        "df_sales.head()"
      ]
    },
    {
      "cell_type": "markdown",
      "metadata": {
        "id": "vx9upxIppA3g"
      },
      "source": [
        "3. Examine the data's shape and first few rows."
      ]
    },
    {
      "cell_type": "code",
      "execution_count": 4,
      "metadata": {
        "id": "HdP5mSNQePPU",
        "colab": {
          "base_uri": "https://localhost:8080/"
        },
        "outputId": "6a703dfb-ba41-4d44-a465-4b071a0475a5"
      },
      "outputs": [
        {
          "output_type": "execute_result",
          "data": {
            "text/plain": [
              "(5837, 76)"
            ]
          },
          "metadata": {},
          "execution_count": 4
        }
      ],
      "source": [
        "df_sales.shape"
      ]
    },
    {
      "cell_type": "markdown",
      "metadata": {
        "id": "KeAGxWwApA3g"
      },
      "source": [
        "### Clean the data\n",
        "\n",
        "4. Notice that our dataset only contains dealers in California, so we can remove the `dealer_state` column. We also will be removing the `date` column (while we could possibly extract useful information from the date, we won't be using it for this exercise). Use the `.drop()` method to remove the two columns ([docs](https://pandas.pydata.org/docs/reference/api/pandas.DataFrame.drop.html)).\n",
        "\n",
        "    Use the `.head()` method to verify that they were removed correctly. If the DataFrame wasn't modified make sure you included the attribute `inplace=True` in the `.drop()` method."
      ]
    },
    {
      "cell_type": "code",
      "execution_count": 5,
      "metadata": {
        "id": "i-DThsrHdnNA",
        "colab": {
          "base_uri": "https://localhost:8080/",
          "height": 268
        },
        "outputId": "4bf06d0a-b695-4705-c3e1-2d0811fbd6ad"
      },
      "outputs": [
        {
          "output_type": "execute_result",
          "data": {
            "text/html": [
              "\n",
              "  <div id=\"df-77fa6ba4-8994-4e5a-8764-3723655251be\">\n",
              "    <div class=\"colab-df-container\">\n",
              "      <div>\n",
              "<style scoped>\n",
              "    .dataframe tbody tr th:only-of-type {\n",
              "        vertical-align: middle;\n",
              "    }\n",
              "\n",
              "    .dataframe tbody tr th {\n",
              "        vertical-align: top;\n",
              "    }\n",
              "\n",
              "    .dataframe thead th {\n",
              "        text-align: right;\n",
              "    }\n",
              "</style>\n",
              "<table border=\"1\" class=\"dataframe\">\n",
              "  <thead>\n",
              "    <tr style=\"text-align: right;\">\n",
              "      <th></th>\n",
              "      <th>main_S60_1</th>\n",
              "      <th>main_S60_2</th>\n",
              "      <th>main_type_SP100D</th>\n",
              "      <th>main_type_S60D_1</th>\n",
              "      <th>main_type_S60D_2</th>\n",
              "      <th>main_type_S70</th>\n",
              "      <th>main_type_S70D</th>\n",
              "      <th>main_type_S75</th>\n",
              "      <th>main_type_S75D</th>\n",
              "      <th>main_type_S80</th>\n",
              "      <th>main_type_S80D</th>\n",
              "      <th>main_type_S85</th>\n",
              "      <th>main_type_S85P</th>\n",
              "      <th>main_type_P85D</th>\n",
              "      <th>main_type_S90</th>\n",
              "      <th>main_type_S90D</th>\n",
              "      <th>main_type_S100D</th>\n",
              "      <th>engine_A</th>\n",
              "      <th>engine_B</th>\n",
              "      <th>engine_C</th>\n",
              "      <th>engine_D</th>\n",
              "      <th>engine_E</th>\n",
              "      <th>engine_F</th>\n",
              "      <th>engine_G</th>\n",
              "      <th>engine_H</th>\n",
              "      <th>engine_I</th>\n",
              "      <th>engine_J</th>\n",
              "      <th>engine_K</th>\n",
              "      <th>engine_L</th>\n",
              "      <th>engine_M</th>\n",
              "      <th>engine_N</th>\n",
              "      <th>engine_O</th>\n",
              "      <th>engine_P</th>\n",
              "      <th>engine_Q</th>\n",
              "      <th>engine_R</th>\n",
              "      <th>engine_S</th>\n",
              "      <th>engine_T</th>\n",
              "      <th>engine_U</th>\n",
              "      <th>engine_V</th>\n",
              "      <th>engine_W</th>\n",
              "      <th>engine_X</th>\n",
              "      <th>engine_Y</th>\n",
              "      <th>engine_Z</th>\n",
              "      <th>sales_1</th>\n",
              "      <th>sales_2</th>\n",
              "      <th>sales_3</th>\n",
              "      <th>sales_4</th>\n",
              "      <th>sales_5</th>\n",
              "      <th>sales_6</th>\n",
              "      <th>sales_7</th>\n",
              "      <th>sales_8</th>\n",
              "      <th>sales_9</th>\n",
              "      <th>sales_10</th>\n",
              "      <th>sales_11</th>\n",
              "      <th>sales_12</th>\n",
              "      <th>sales_13</th>\n",
              "      <th>sales_14</th>\n",
              "      <th>sales_15</th>\n",
              "      <th>sales_16</th>\n",
              "      <th>sales_17</th>\n",
              "      <th>sales_18</th>\n",
              "      <th>sales_19</th>\n",
              "      <th>sales_20</th>\n",
              "      <th>sales_21</th>\n",
              "      <th>sales_22</th>\n",
              "      <th>sales_23</th>\n",
              "      <th>sales_24</th>\n",
              "      <th>sales_25</th>\n",
              "      <th>sales_26</th>\n",
              "      <th>sales_27</th>\n",
              "      <th>sales_28</th>\n",
              "      <th>sales_29</th>\n",
              "      <th>sales_30</th>\n",
              "      <th>MSRP</th>\n",
              "    </tr>\n",
              "  </thead>\n",
              "  <tbody>\n",
              "    <tr>\n",
              "      <th>0</th>\n",
              "      <td>0</td>\n",
              "      <td>0</td>\n",
              "      <td>0</td>\n",
              "      <td>0</td>\n",
              "      <td>0</td>\n",
              "      <td>1</td>\n",
              "      <td>0</td>\n",
              "      <td>0</td>\n",
              "      <td>0</td>\n",
              "      <td>0</td>\n",
              "      <td>0</td>\n",
              "      <td>0</td>\n",
              "      <td>0</td>\n",
              "      <td>0</td>\n",
              "      <td>0</td>\n",
              "      <td>0</td>\n",
              "      <td>0</td>\n",
              "      <td>0</td>\n",
              "      <td>0</td>\n",
              "      <td>0</td>\n",
              "      <td>0</td>\n",
              "      <td>0</td>\n",
              "      <td>0</td>\n",
              "      <td>0</td>\n",
              "      <td>0</td>\n",
              "      <td>0</td>\n",
              "      <td>0</td>\n",
              "      <td>0</td>\n",
              "      <td>0</td>\n",
              "      <td>0</td>\n",
              "      <td>0</td>\n",
              "      <td>0</td>\n",
              "      <td>0</td>\n",
              "      <td>0</td>\n",
              "      <td>0</td>\n",
              "      <td>0</td>\n",
              "      <td>0</td>\n",
              "      <td>0</td>\n",
              "      <td>0</td>\n",
              "      <td>0</td>\n",
              "      <td>0</td>\n",
              "      <td>0</td>\n",
              "      <td>0</td>\n",
              "      <td>0</td>\n",
              "      <td>0</td>\n",
              "      <td>0</td>\n",
              "      <td>0</td>\n",
              "      <td>0</td>\n",
              "      <td>0</td>\n",
              "      <td>0</td>\n",
              "      <td>1</td>\n",
              "      <td>0</td>\n",
              "      <td>0</td>\n",
              "      <td>0</td>\n",
              "      <td>0</td>\n",
              "      <td>0</td>\n",
              "      <td>0</td>\n",
              "      <td>0</td>\n",
              "      <td>0</td>\n",
              "      <td>0</td>\n",
              "      <td>0</td>\n",
              "      <td>0</td>\n",
              "      <td>0</td>\n",
              "      <td>0</td>\n",
              "      <td>0</td>\n",
              "      <td>0</td>\n",
              "      <td>0</td>\n",
              "      <td>0</td>\n",
              "      <td>0</td>\n",
              "      <td>0</td>\n",
              "      <td>0</td>\n",
              "      <td>0</td>\n",
              "      <td>0</td>\n",
              "      <td>44610</td>\n",
              "    </tr>\n",
              "    <tr>\n",
              "      <th>1</th>\n",
              "      <td>0</td>\n",
              "      <td>0</td>\n",
              "      <td>0</td>\n",
              "      <td>0</td>\n",
              "      <td>0</td>\n",
              "      <td>0</td>\n",
              "      <td>0</td>\n",
              "      <td>0</td>\n",
              "      <td>0</td>\n",
              "      <td>0</td>\n",
              "      <td>0</td>\n",
              "      <td>0</td>\n",
              "      <td>0</td>\n",
              "      <td>0</td>\n",
              "      <td>0</td>\n",
              "      <td>0</td>\n",
              "      <td>1</td>\n",
              "      <td>1</td>\n",
              "      <td>0</td>\n",
              "      <td>0</td>\n",
              "      <td>0</td>\n",
              "      <td>0</td>\n",
              "      <td>0</td>\n",
              "      <td>0</td>\n",
              "      <td>0</td>\n",
              "      <td>0</td>\n",
              "      <td>0</td>\n",
              "      <td>0</td>\n",
              "      <td>0</td>\n",
              "      <td>0</td>\n",
              "      <td>0</td>\n",
              "      <td>0</td>\n",
              "      <td>0</td>\n",
              "      <td>0</td>\n",
              "      <td>0</td>\n",
              "      <td>0</td>\n",
              "      <td>0</td>\n",
              "      <td>0</td>\n",
              "      <td>0</td>\n",
              "      <td>0</td>\n",
              "      <td>0</td>\n",
              "      <td>0</td>\n",
              "      <td>0</td>\n",
              "      <td>0</td>\n",
              "      <td>0</td>\n",
              "      <td>0</td>\n",
              "      <td>0</td>\n",
              "      <td>0</td>\n",
              "      <td>0</td>\n",
              "      <td>0</td>\n",
              "      <td>1</td>\n",
              "      <td>0</td>\n",
              "      <td>0</td>\n",
              "      <td>0</td>\n",
              "      <td>0</td>\n",
              "      <td>0</td>\n",
              "      <td>0</td>\n",
              "      <td>0</td>\n",
              "      <td>0</td>\n",
              "      <td>0</td>\n",
              "      <td>0</td>\n",
              "      <td>0</td>\n",
              "      <td>0</td>\n",
              "      <td>0</td>\n",
              "      <td>0</td>\n",
              "      <td>0</td>\n",
              "      <td>0</td>\n",
              "      <td>0</td>\n",
              "      <td>0</td>\n",
              "      <td>0</td>\n",
              "      <td>0</td>\n",
              "      <td>0</td>\n",
              "      <td>0</td>\n",
              "      <td>41505</td>\n",
              "    </tr>\n",
              "    <tr>\n",
              "      <th>2</th>\n",
              "      <td>0</td>\n",
              "      <td>0</td>\n",
              "      <td>0</td>\n",
              "      <td>0</td>\n",
              "      <td>0</td>\n",
              "      <td>0</td>\n",
              "      <td>0</td>\n",
              "      <td>0</td>\n",
              "      <td>0</td>\n",
              "      <td>0</td>\n",
              "      <td>0</td>\n",
              "      <td>0</td>\n",
              "      <td>1</td>\n",
              "      <td>0</td>\n",
              "      <td>0</td>\n",
              "      <td>0</td>\n",
              "      <td>0</td>\n",
              "      <td>0</td>\n",
              "      <td>0</td>\n",
              "      <td>0</td>\n",
              "      <td>0</td>\n",
              "      <td>0</td>\n",
              "      <td>0</td>\n",
              "      <td>0</td>\n",
              "      <td>0</td>\n",
              "      <td>0</td>\n",
              "      <td>0</td>\n",
              "      <td>0</td>\n",
              "      <td>0</td>\n",
              "      <td>0</td>\n",
              "      <td>0</td>\n",
              "      <td>0</td>\n",
              "      <td>0</td>\n",
              "      <td>1</td>\n",
              "      <td>0</td>\n",
              "      <td>0</td>\n",
              "      <td>0</td>\n",
              "      <td>0</td>\n",
              "      <td>0</td>\n",
              "      <td>0</td>\n",
              "      <td>0</td>\n",
              "      <td>0</td>\n",
              "      <td>0</td>\n",
              "      <td>0</td>\n",
              "      <td>0</td>\n",
              "      <td>0</td>\n",
              "      <td>0</td>\n",
              "      <td>0</td>\n",
              "      <td>0</td>\n",
              "      <td>1</td>\n",
              "      <td>0</td>\n",
              "      <td>0</td>\n",
              "      <td>0</td>\n",
              "      <td>0</td>\n",
              "      <td>0</td>\n",
              "      <td>0</td>\n",
              "      <td>0</td>\n",
              "      <td>0</td>\n",
              "      <td>0</td>\n",
              "      <td>0</td>\n",
              "      <td>0</td>\n",
              "      <td>0</td>\n",
              "      <td>0</td>\n",
              "      <td>0</td>\n",
              "      <td>0</td>\n",
              "      <td>0</td>\n",
              "      <td>0</td>\n",
              "      <td>0</td>\n",
              "      <td>0</td>\n",
              "      <td>0</td>\n",
              "      <td>0</td>\n",
              "      <td>0</td>\n",
              "      <td>0</td>\n",
              "      <td>58890</td>\n",
              "    </tr>\n",
              "    <tr>\n",
              "      <th>3</th>\n",
              "      <td>0</td>\n",
              "      <td>0</td>\n",
              "      <td>0</td>\n",
              "      <td>0</td>\n",
              "      <td>0</td>\n",
              "      <td>0</td>\n",
              "      <td>0</td>\n",
              "      <td>0</td>\n",
              "      <td>0</td>\n",
              "      <td>0</td>\n",
              "      <td>0</td>\n",
              "      <td>0</td>\n",
              "      <td>1</td>\n",
              "      <td>0</td>\n",
              "      <td>0</td>\n",
              "      <td>0</td>\n",
              "      <td>0</td>\n",
              "      <td>0</td>\n",
              "      <td>0</td>\n",
              "      <td>0</td>\n",
              "      <td>0</td>\n",
              "      <td>0</td>\n",
              "      <td>0</td>\n",
              "      <td>0</td>\n",
              "      <td>0</td>\n",
              "      <td>0</td>\n",
              "      <td>0</td>\n",
              "      <td>0</td>\n",
              "      <td>0</td>\n",
              "      <td>0</td>\n",
              "      <td>0</td>\n",
              "      <td>0</td>\n",
              "      <td>0</td>\n",
              "      <td>0</td>\n",
              "      <td>0</td>\n",
              "      <td>0</td>\n",
              "      <td>0</td>\n",
              "      <td>0</td>\n",
              "      <td>0</td>\n",
              "      <td>0</td>\n",
              "      <td>0</td>\n",
              "      <td>0</td>\n",
              "      <td>0</td>\n",
              "      <td>0</td>\n",
              "      <td>0</td>\n",
              "      <td>0</td>\n",
              "      <td>0</td>\n",
              "      <td>0</td>\n",
              "      <td>0</td>\n",
              "      <td>0</td>\n",
              "      <td>1</td>\n",
              "      <td>0</td>\n",
              "      <td>0</td>\n",
              "      <td>0</td>\n",
              "      <td>0</td>\n",
              "      <td>0</td>\n",
              "      <td>0</td>\n",
              "      <td>0</td>\n",
              "      <td>0</td>\n",
              "      <td>0</td>\n",
              "      <td>0</td>\n",
              "      <td>0</td>\n",
              "      <td>0</td>\n",
              "      <td>0</td>\n",
              "      <td>0</td>\n",
              "      <td>0</td>\n",
              "      <td>0</td>\n",
              "      <td>0</td>\n",
              "      <td>0</td>\n",
              "      <td>0</td>\n",
              "      <td>0</td>\n",
              "      <td>0</td>\n",
              "      <td>0</td>\n",
              "      <td>51055</td>\n",
              "    </tr>\n",
              "    <tr>\n",
              "      <th>4</th>\n",
              "      <td>0</td>\n",
              "      <td>0</td>\n",
              "      <td>0</td>\n",
              "      <td>0</td>\n",
              "      <td>0</td>\n",
              "      <td>0</td>\n",
              "      <td>0</td>\n",
              "      <td>0</td>\n",
              "      <td>0</td>\n",
              "      <td>0</td>\n",
              "      <td>0</td>\n",
              "      <td>0</td>\n",
              "      <td>0</td>\n",
              "      <td>1</td>\n",
              "      <td>0</td>\n",
              "      <td>0</td>\n",
              "      <td>0</td>\n",
              "      <td>0</td>\n",
              "      <td>0</td>\n",
              "      <td>0</td>\n",
              "      <td>0</td>\n",
              "      <td>0</td>\n",
              "      <td>0</td>\n",
              "      <td>0</td>\n",
              "      <td>0</td>\n",
              "      <td>0</td>\n",
              "      <td>0</td>\n",
              "      <td>0</td>\n",
              "      <td>0</td>\n",
              "      <td>0</td>\n",
              "      <td>0</td>\n",
              "      <td>0</td>\n",
              "      <td>0</td>\n",
              "      <td>1</td>\n",
              "      <td>0</td>\n",
              "      <td>0</td>\n",
              "      <td>0</td>\n",
              "      <td>0</td>\n",
              "      <td>0</td>\n",
              "      <td>0</td>\n",
              "      <td>0</td>\n",
              "      <td>0</td>\n",
              "      <td>0</td>\n",
              "      <td>0</td>\n",
              "      <td>0</td>\n",
              "      <td>0</td>\n",
              "      <td>0</td>\n",
              "      <td>0</td>\n",
              "      <td>0</td>\n",
              "      <td>0</td>\n",
              "      <td>0</td>\n",
              "      <td>0</td>\n",
              "      <td>0</td>\n",
              "      <td>1</td>\n",
              "      <td>0</td>\n",
              "      <td>0</td>\n",
              "      <td>0</td>\n",
              "      <td>0</td>\n",
              "      <td>0</td>\n",
              "      <td>0</td>\n",
              "      <td>0</td>\n",
              "      <td>0</td>\n",
              "      <td>0</td>\n",
              "      <td>0</td>\n",
              "      <td>0</td>\n",
              "      <td>0</td>\n",
              "      <td>0</td>\n",
              "      <td>0</td>\n",
              "      <td>0</td>\n",
              "      <td>0</td>\n",
              "      <td>0</td>\n",
              "      <td>0</td>\n",
              "      <td>0</td>\n",
              "      <td>70830</td>\n",
              "    </tr>\n",
              "  </tbody>\n",
              "</table>\n",
              "</div>\n",
              "      <button class=\"colab-df-convert\" onclick=\"convertToInteractive('df-77fa6ba4-8994-4e5a-8764-3723655251be')\"\n",
              "              title=\"Convert this dataframe to an interactive table.\"\n",
              "              style=\"display:none;\">\n",
              "        \n",
              "  <svg xmlns=\"http://www.w3.org/2000/svg\" height=\"24px\"viewBox=\"0 0 24 24\"\n",
              "       width=\"24px\">\n",
              "    <path d=\"M0 0h24v24H0V0z\" fill=\"none\"/>\n",
              "    <path d=\"M18.56 5.44l.94 2.06.94-2.06 2.06-.94-2.06-.94-.94-2.06-.94 2.06-2.06.94zm-11 1L8.5 8.5l.94-2.06 2.06-.94-2.06-.94L8.5 2.5l-.94 2.06-2.06.94zm10 10l.94 2.06.94-2.06 2.06-.94-2.06-.94-.94-2.06-.94 2.06-2.06.94z\"/><path d=\"M17.41 7.96l-1.37-1.37c-.4-.4-.92-.59-1.43-.59-.52 0-1.04.2-1.43.59L10.3 9.45l-7.72 7.72c-.78.78-.78 2.05 0 2.83L4 21.41c.39.39.9.59 1.41.59.51 0 1.02-.2 1.41-.59l7.78-7.78 2.81-2.81c.8-.78.8-2.07 0-2.86zM5.41 20L4 18.59l7.72-7.72 1.47 1.35L5.41 20z\"/>\n",
              "  </svg>\n",
              "      </button>\n",
              "      \n",
              "  <style>\n",
              "    .colab-df-container {\n",
              "      display:flex;\n",
              "      flex-wrap:wrap;\n",
              "      gap: 12px;\n",
              "    }\n",
              "\n",
              "    .colab-df-convert {\n",
              "      background-color: #E8F0FE;\n",
              "      border: none;\n",
              "      border-radius: 50%;\n",
              "      cursor: pointer;\n",
              "      display: none;\n",
              "      fill: #1967D2;\n",
              "      height: 32px;\n",
              "      padding: 0 0 0 0;\n",
              "      width: 32px;\n",
              "    }\n",
              "\n",
              "    .colab-df-convert:hover {\n",
              "      background-color: #E2EBFA;\n",
              "      box-shadow: 0px 1px 2px rgba(60, 64, 67, 0.3), 0px 1px 3px 1px rgba(60, 64, 67, 0.15);\n",
              "      fill: #174EA6;\n",
              "    }\n",
              "\n",
              "    [theme=dark] .colab-df-convert {\n",
              "      background-color: #3B4455;\n",
              "      fill: #D2E3FC;\n",
              "    }\n",
              "\n",
              "    [theme=dark] .colab-df-convert:hover {\n",
              "      background-color: #434B5C;\n",
              "      box-shadow: 0px 1px 3px 1px rgba(0, 0, 0, 0.15);\n",
              "      filter: drop-shadow(0px 1px 2px rgba(0, 0, 0, 0.3));\n",
              "      fill: #FFFFFF;\n",
              "    }\n",
              "  </style>\n",
              "\n",
              "      <script>\n",
              "        const buttonEl =\n",
              "          document.querySelector('#df-77fa6ba4-8994-4e5a-8764-3723655251be button.colab-df-convert');\n",
              "        buttonEl.style.display =\n",
              "          google.colab.kernel.accessAllowed ? 'block' : 'none';\n",
              "\n",
              "        async function convertToInteractive(key) {\n",
              "          const element = document.querySelector('#df-77fa6ba4-8994-4e5a-8764-3723655251be');\n",
              "          const dataTable =\n",
              "            await google.colab.kernel.invokeFunction('convertToInteractive',\n",
              "                                                     [key], {});\n",
              "          if (!dataTable) return;\n",
              "\n",
              "          const docLinkHtml = 'Like what you see? Visit the ' +\n",
              "            '<a target=\"_blank\" href=https://colab.research.google.com/notebooks/data_table.ipynb>data table notebook</a>'\n",
              "            + ' to learn more about interactive tables.';\n",
              "          element.innerHTML = '';\n",
              "          dataTable['output_type'] = 'display_data';\n",
              "          await google.colab.output.renderOutput(dataTable, element);\n",
              "          const docLink = document.createElement('div');\n",
              "          docLink.innerHTML = docLinkHtml;\n",
              "          element.appendChild(docLink);\n",
              "        }\n",
              "      </script>\n",
              "    </div>\n",
              "  </div>\n",
              "  "
            ],
            "text/plain": [
              "   main_S60_1  main_S60_2  main_type_SP100D  ...  sales_29  sales_30   MSRP\n",
              "0           0           0                 0  ...         0         0  44610\n",
              "1           0           0                 0  ...         0         0  41505\n",
              "2           0           0                 0  ...         0         0  58890\n",
              "3           0           0                 0  ...         0         0  51055\n",
              "4           0           0                 0  ...         0         0  70830\n",
              "\n",
              "[5 rows x 74 columns]"
            ]
          },
          "metadata": {},
          "execution_count": 5
        }
      ],
      "source": [
        "df_sales = df_sales.drop(columns=['dealer_state', 'date'], axis=1)\n",
        "df_sales.head()"
      ]
    },
    {
      "cell_type": "markdown",
      "metadata": {
        "id": "qqdkmnCodnNC"
      },
      "source": [
        "### Read in the second dataset\n",
        "\n",
        "5. Follow the same syntax as above to read in the `sales_Q34_2019.csv` dataset. Note that this dataset doesn't have the `dealer_state` or `date` column, so we don't need to do the same cleanup.\n",
        "\n",
        "    After you've read in the data, use the `.head()` method to take a look at the first few rows."
      ]
    },
    {
      "cell_type": "code",
      "execution_count": 6,
      "metadata": {
        "id": "bJpTgHxAdnND",
        "colab": {
          "base_uri": "https://localhost:8080/",
          "height": 268
        },
        "outputId": "d55a76a0-1490-4c18-d31b-1e14d9c5d64b"
      },
      "outputs": [
        {
          "output_type": "execute_result",
          "data": {
            "text/html": [
              "\n",
              "  <div id=\"df-e05a6bff-5cdf-488b-b5cd-9834d99277aa\">\n",
              "    <div class=\"colab-df-container\">\n",
              "      <div>\n",
              "<style scoped>\n",
              "    .dataframe tbody tr th:only-of-type {\n",
              "        vertical-align: middle;\n",
              "    }\n",
              "\n",
              "    .dataframe tbody tr th {\n",
              "        vertical-align: top;\n",
              "    }\n",
              "\n",
              "    .dataframe thead th {\n",
              "        text-align: right;\n",
              "    }\n",
              "</style>\n",
              "<table border=\"1\" class=\"dataframe\">\n",
              "  <thead>\n",
              "    <tr style=\"text-align: right;\">\n",
              "      <th></th>\n",
              "      <th>main_S60_1</th>\n",
              "      <th>main_S60_2</th>\n",
              "      <th>main_type_SP100D</th>\n",
              "      <th>main_type_S60D_1</th>\n",
              "      <th>main_type_S60D_2</th>\n",
              "      <th>main_type_S70</th>\n",
              "      <th>main_type_S70D</th>\n",
              "      <th>main_type_S75</th>\n",
              "      <th>main_type_S75D</th>\n",
              "      <th>main_type_S80</th>\n",
              "      <th>main_type_S80D</th>\n",
              "      <th>main_type_S85</th>\n",
              "      <th>main_type_S85P</th>\n",
              "      <th>main_type_P85D</th>\n",
              "      <th>main_type_S90</th>\n",
              "      <th>main_type_S90D</th>\n",
              "      <th>main_type_S100D</th>\n",
              "      <th>engine_A</th>\n",
              "      <th>engine_B</th>\n",
              "      <th>engine_C</th>\n",
              "      <th>engine_D</th>\n",
              "      <th>engine_E</th>\n",
              "      <th>engine_F</th>\n",
              "      <th>engine_G</th>\n",
              "      <th>engine_H</th>\n",
              "      <th>engine_I</th>\n",
              "      <th>engine_J</th>\n",
              "      <th>engine_K</th>\n",
              "      <th>engine_L</th>\n",
              "      <th>engine_M</th>\n",
              "      <th>engine_N</th>\n",
              "      <th>engine_O</th>\n",
              "      <th>engine_P</th>\n",
              "      <th>engine_Q</th>\n",
              "      <th>engine_R</th>\n",
              "      <th>engine_S</th>\n",
              "      <th>engine_T</th>\n",
              "      <th>engine_U</th>\n",
              "      <th>engine_V</th>\n",
              "      <th>engine_W</th>\n",
              "      <th>engine_X</th>\n",
              "      <th>engine_Y</th>\n",
              "      <th>engine_Z</th>\n",
              "      <th>sales_1</th>\n",
              "      <th>sales_2</th>\n",
              "      <th>sales_3</th>\n",
              "      <th>sales_4</th>\n",
              "      <th>sales_5</th>\n",
              "      <th>sales_6</th>\n",
              "      <th>sales_7</th>\n",
              "      <th>sales_8</th>\n",
              "      <th>sales_9</th>\n",
              "      <th>sales_10</th>\n",
              "      <th>sales_11</th>\n",
              "      <th>sales_12</th>\n",
              "      <th>sales_13</th>\n",
              "      <th>sales_14</th>\n",
              "      <th>sales_15</th>\n",
              "      <th>sales_16</th>\n",
              "      <th>sales_17</th>\n",
              "      <th>sales_18</th>\n",
              "      <th>sales_19</th>\n",
              "      <th>sales_20</th>\n",
              "      <th>sales_21</th>\n",
              "      <th>sales_22</th>\n",
              "      <th>sales_23</th>\n",
              "      <th>sales_24</th>\n",
              "      <th>sales_25</th>\n",
              "      <th>sales_26</th>\n",
              "      <th>sales_27</th>\n",
              "      <th>sales_28</th>\n",
              "      <th>sales_29</th>\n",
              "      <th>sales_30</th>\n",
              "      <th>MSRP</th>\n",
              "    </tr>\n",
              "  </thead>\n",
              "  <tbody>\n",
              "    <tr>\n",
              "      <th>0</th>\n",
              "      <td>0</td>\n",
              "      <td>0</td>\n",
              "      <td>0</td>\n",
              "      <td>0</td>\n",
              "      <td>0</td>\n",
              "      <td>1</td>\n",
              "      <td>0</td>\n",
              "      <td>0</td>\n",
              "      <td>0</td>\n",
              "      <td>0</td>\n",
              "      <td>0</td>\n",
              "      <td>0</td>\n",
              "      <td>0</td>\n",
              "      <td>0</td>\n",
              "      <td>0</td>\n",
              "      <td>0</td>\n",
              "      <td>0</td>\n",
              "      <td>0</td>\n",
              "      <td>0</td>\n",
              "      <td>0</td>\n",
              "      <td>0</td>\n",
              "      <td>0</td>\n",
              "      <td>0</td>\n",
              "      <td>0</td>\n",
              "      <td>0</td>\n",
              "      <td>0</td>\n",
              "      <td>0</td>\n",
              "      <td>0</td>\n",
              "      <td>0</td>\n",
              "      <td>0</td>\n",
              "      <td>0</td>\n",
              "      <td>0</td>\n",
              "      <td>0</td>\n",
              "      <td>1</td>\n",
              "      <td>0</td>\n",
              "      <td>0</td>\n",
              "      <td>0</td>\n",
              "      <td>0</td>\n",
              "      <td>0</td>\n",
              "      <td>0</td>\n",
              "      <td>0</td>\n",
              "      <td>0</td>\n",
              "      <td>0</td>\n",
              "      <td>0</td>\n",
              "      <td>0</td>\n",
              "      <td>0</td>\n",
              "      <td>0</td>\n",
              "      <td>0</td>\n",
              "      <td>0</td>\n",
              "      <td>0</td>\n",
              "      <td>0</td>\n",
              "      <td>0</td>\n",
              "      <td>0</td>\n",
              "      <td>0</td>\n",
              "      <td>0</td>\n",
              "      <td>0</td>\n",
              "      <td>0</td>\n",
              "      <td>0</td>\n",
              "      <td>0</td>\n",
              "      <td>0</td>\n",
              "      <td>0</td>\n",
              "      <td>0</td>\n",
              "      <td>0</td>\n",
              "      <td>0</td>\n",
              "      <td>0</td>\n",
              "      <td>0</td>\n",
              "      <td>1</td>\n",
              "      <td>0</td>\n",
              "      <td>0</td>\n",
              "      <td>0</td>\n",
              "      <td>0</td>\n",
              "      <td>0</td>\n",
              "      <td>0</td>\n",
              "      <td>51355</td>\n",
              "    </tr>\n",
              "    <tr>\n",
              "      <th>1</th>\n",
              "      <td>0</td>\n",
              "      <td>0</td>\n",
              "      <td>0</td>\n",
              "      <td>0</td>\n",
              "      <td>0</td>\n",
              "      <td>0</td>\n",
              "      <td>0</td>\n",
              "      <td>0</td>\n",
              "      <td>0</td>\n",
              "      <td>0</td>\n",
              "      <td>0</td>\n",
              "      <td>0</td>\n",
              "      <td>0</td>\n",
              "      <td>1</td>\n",
              "      <td>0</td>\n",
              "      <td>0</td>\n",
              "      <td>0</td>\n",
              "      <td>0</td>\n",
              "      <td>0</td>\n",
              "      <td>0</td>\n",
              "      <td>0</td>\n",
              "      <td>0</td>\n",
              "      <td>0</td>\n",
              "      <td>0</td>\n",
              "      <td>0</td>\n",
              "      <td>0</td>\n",
              "      <td>0</td>\n",
              "      <td>0</td>\n",
              "      <td>0</td>\n",
              "      <td>0</td>\n",
              "      <td>0</td>\n",
              "      <td>0</td>\n",
              "      <td>0</td>\n",
              "      <td>1</td>\n",
              "      <td>0</td>\n",
              "      <td>0</td>\n",
              "      <td>0</td>\n",
              "      <td>0</td>\n",
              "      <td>0</td>\n",
              "      <td>0</td>\n",
              "      <td>0</td>\n",
              "      <td>0</td>\n",
              "      <td>0</td>\n",
              "      <td>0</td>\n",
              "      <td>0</td>\n",
              "      <td>0</td>\n",
              "      <td>0</td>\n",
              "      <td>0</td>\n",
              "      <td>0</td>\n",
              "      <td>0</td>\n",
              "      <td>0</td>\n",
              "      <td>0</td>\n",
              "      <td>0</td>\n",
              "      <td>1</td>\n",
              "      <td>0</td>\n",
              "      <td>0</td>\n",
              "      <td>0</td>\n",
              "      <td>0</td>\n",
              "      <td>0</td>\n",
              "      <td>0</td>\n",
              "      <td>0</td>\n",
              "      <td>0</td>\n",
              "      <td>0</td>\n",
              "      <td>0</td>\n",
              "      <td>0</td>\n",
              "      <td>0</td>\n",
              "      <td>0</td>\n",
              "      <td>0</td>\n",
              "      <td>0</td>\n",
              "      <td>0</td>\n",
              "      <td>0</td>\n",
              "      <td>0</td>\n",
              "      <td>0</td>\n",
              "      <td>71580</td>\n",
              "    </tr>\n",
              "    <tr>\n",
              "      <th>2</th>\n",
              "      <td>0</td>\n",
              "      <td>0</td>\n",
              "      <td>0</td>\n",
              "      <td>0</td>\n",
              "      <td>0</td>\n",
              "      <td>0</td>\n",
              "      <td>0</td>\n",
              "      <td>0</td>\n",
              "      <td>0</td>\n",
              "      <td>0</td>\n",
              "      <td>0</td>\n",
              "      <td>0</td>\n",
              "      <td>0</td>\n",
              "      <td>1</td>\n",
              "      <td>0</td>\n",
              "      <td>0</td>\n",
              "      <td>0</td>\n",
              "      <td>0</td>\n",
              "      <td>0</td>\n",
              "      <td>0</td>\n",
              "      <td>0</td>\n",
              "      <td>0</td>\n",
              "      <td>0</td>\n",
              "      <td>0</td>\n",
              "      <td>0</td>\n",
              "      <td>0</td>\n",
              "      <td>0</td>\n",
              "      <td>0</td>\n",
              "      <td>0</td>\n",
              "      <td>0</td>\n",
              "      <td>0</td>\n",
              "      <td>0</td>\n",
              "      <td>0</td>\n",
              "      <td>1</td>\n",
              "      <td>0</td>\n",
              "      <td>0</td>\n",
              "      <td>0</td>\n",
              "      <td>0</td>\n",
              "      <td>0</td>\n",
              "      <td>0</td>\n",
              "      <td>0</td>\n",
              "      <td>0</td>\n",
              "      <td>0</td>\n",
              "      <td>0</td>\n",
              "      <td>0</td>\n",
              "      <td>0</td>\n",
              "      <td>0</td>\n",
              "      <td>0</td>\n",
              "      <td>0</td>\n",
              "      <td>0</td>\n",
              "      <td>0</td>\n",
              "      <td>0</td>\n",
              "      <td>0</td>\n",
              "      <td>1</td>\n",
              "      <td>0</td>\n",
              "      <td>0</td>\n",
              "      <td>0</td>\n",
              "      <td>0</td>\n",
              "      <td>0</td>\n",
              "      <td>0</td>\n",
              "      <td>0</td>\n",
              "      <td>0</td>\n",
              "      <td>0</td>\n",
              "      <td>0</td>\n",
              "      <td>0</td>\n",
              "      <td>0</td>\n",
              "      <td>0</td>\n",
              "      <td>0</td>\n",
              "      <td>0</td>\n",
              "      <td>0</td>\n",
              "      <td>0</td>\n",
              "      <td>0</td>\n",
              "      <td>0</td>\n",
              "      <td>66790</td>\n",
              "    </tr>\n",
              "    <tr>\n",
              "      <th>3</th>\n",
              "      <td>0</td>\n",
              "      <td>0</td>\n",
              "      <td>0</td>\n",
              "      <td>0</td>\n",
              "      <td>0</td>\n",
              "      <td>0</td>\n",
              "      <td>0</td>\n",
              "      <td>0</td>\n",
              "      <td>0</td>\n",
              "      <td>0</td>\n",
              "      <td>0</td>\n",
              "      <td>0</td>\n",
              "      <td>0</td>\n",
              "      <td>1</td>\n",
              "      <td>0</td>\n",
              "      <td>0</td>\n",
              "      <td>0</td>\n",
              "      <td>0</td>\n",
              "      <td>0</td>\n",
              "      <td>0</td>\n",
              "      <td>0</td>\n",
              "      <td>0</td>\n",
              "      <td>0</td>\n",
              "      <td>0</td>\n",
              "      <td>0</td>\n",
              "      <td>0</td>\n",
              "      <td>0</td>\n",
              "      <td>0</td>\n",
              "      <td>0</td>\n",
              "      <td>0</td>\n",
              "      <td>0</td>\n",
              "      <td>0</td>\n",
              "      <td>0</td>\n",
              "      <td>1</td>\n",
              "      <td>0</td>\n",
              "      <td>0</td>\n",
              "      <td>0</td>\n",
              "      <td>0</td>\n",
              "      <td>0</td>\n",
              "      <td>0</td>\n",
              "      <td>0</td>\n",
              "      <td>0</td>\n",
              "      <td>0</td>\n",
              "      <td>0</td>\n",
              "      <td>0</td>\n",
              "      <td>0</td>\n",
              "      <td>0</td>\n",
              "      <td>0</td>\n",
              "      <td>0</td>\n",
              "      <td>0</td>\n",
              "      <td>0</td>\n",
              "      <td>0</td>\n",
              "      <td>0</td>\n",
              "      <td>1</td>\n",
              "      <td>0</td>\n",
              "      <td>0</td>\n",
              "      <td>0</td>\n",
              "      <td>0</td>\n",
              "      <td>0</td>\n",
              "      <td>0</td>\n",
              "      <td>0</td>\n",
              "      <td>0</td>\n",
              "      <td>0</td>\n",
              "      <td>0</td>\n",
              "      <td>0</td>\n",
              "      <td>0</td>\n",
              "      <td>0</td>\n",
              "      <td>0</td>\n",
              "      <td>0</td>\n",
              "      <td>0</td>\n",
              "      <td>0</td>\n",
              "      <td>0</td>\n",
              "      <td>0</td>\n",
              "      <td>72330</td>\n",
              "    </tr>\n",
              "    <tr>\n",
              "      <th>4</th>\n",
              "      <td>0</td>\n",
              "      <td>0</td>\n",
              "      <td>0</td>\n",
              "      <td>0</td>\n",
              "      <td>0</td>\n",
              "      <td>0</td>\n",
              "      <td>0</td>\n",
              "      <td>0</td>\n",
              "      <td>0</td>\n",
              "      <td>0</td>\n",
              "      <td>0</td>\n",
              "      <td>0</td>\n",
              "      <td>1</td>\n",
              "      <td>0</td>\n",
              "      <td>0</td>\n",
              "      <td>0</td>\n",
              "      <td>0</td>\n",
              "      <td>0</td>\n",
              "      <td>0</td>\n",
              "      <td>0</td>\n",
              "      <td>0</td>\n",
              "      <td>0</td>\n",
              "      <td>0</td>\n",
              "      <td>0</td>\n",
              "      <td>0</td>\n",
              "      <td>0</td>\n",
              "      <td>0</td>\n",
              "      <td>0</td>\n",
              "      <td>0</td>\n",
              "      <td>0</td>\n",
              "      <td>0</td>\n",
              "      <td>0</td>\n",
              "      <td>0</td>\n",
              "      <td>1</td>\n",
              "      <td>0</td>\n",
              "      <td>0</td>\n",
              "      <td>0</td>\n",
              "      <td>0</td>\n",
              "      <td>0</td>\n",
              "      <td>0</td>\n",
              "      <td>0</td>\n",
              "      <td>0</td>\n",
              "      <td>0</td>\n",
              "      <td>1</td>\n",
              "      <td>0</td>\n",
              "      <td>0</td>\n",
              "      <td>0</td>\n",
              "      <td>0</td>\n",
              "      <td>0</td>\n",
              "      <td>0</td>\n",
              "      <td>0</td>\n",
              "      <td>0</td>\n",
              "      <td>0</td>\n",
              "      <td>0</td>\n",
              "      <td>0</td>\n",
              "      <td>0</td>\n",
              "      <td>0</td>\n",
              "      <td>0</td>\n",
              "      <td>0</td>\n",
              "      <td>0</td>\n",
              "      <td>0</td>\n",
              "      <td>0</td>\n",
              "      <td>0</td>\n",
              "      <td>0</td>\n",
              "      <td>0</td>\n",
              "      <td>0</td>\n",
              "      <td>0</td>\n",
              "      <td>0</td>\n",
              "      <td>0</td>\n",
              "      <td>0</td>\n",
              "      <td>0</td>\n",
              "      <td>0</td>\n",
              "      <td>0</td>\n",
              "      <td>55370</td>\n",
              "    </tr>\n",
              "  </tbody>\n",
              "</table>\n",
              "</div>\n",
              "      <button class=\"colab-df-convert\" onclick=\"convertToInteractive('df-e05a6bff-5cdf-488b-b5cd-9834d99277aa')\"\n",
              "              title=\"Convert this dataframe to an interactive table.\"\n",
              "              style=\"display:none;\">\n",
              "        \n",
              "  <svg xmlns=\"http://www.w3.org/2000/svg\" height=\"24px\"viewBox=\"0 0 24 24\"\n",
              "       width=\"24px\">\n",
              "    <path d=\"M0 0h24v24H0V0z\" fill=\"none\"/>\n",
              "    <path d=\"M18.56 5.44l.94 2.06.94-2.06 2.06-.94-2.06-.94-.94-2.06-.94 2.06-2.06.94zm-11 1L8.5 8.5l.94-2.06 2.06-.94-2.06-.94L8.5 2.5l-.94 2.06-2.06.94zm10 10l.94 2.06.94-2.06 2.06-.94-2.06-.94-.94-2.06-.94 2.06-2.06.94z\"/><path d=\"M17.41 7.96l-1.37-1.37c-.4-.4-.92-.59-1.43-.59-.52 0-1.04.2-1.43.59L10.3 9.45l-7.72 7.72c-.78.78-.78 2.05 0 2.83L4 21.41c.39.39.9.59 1.41.59.51 0 1.02-.2 1.41-.59l7.78-7.78 2.81-2.81c.8-.78.8-2.07 0-2.86zM5.41 20L4 18.59l7.72-7.72 1.47 1.35L5.41 20z\"/>\n",
              "  </svg>\n",
              "      </button>\n",
              "      \n",
              "  <style>\n",
              "    .colab-df-container {\n",
              "      display:flex;\n",
              "      flex-wrap:wrap;\n",
              "      gap: 12px;\n",
              "    }\n",
              "\n",
              "    .colab-df-convert {\n",
              "      background-color: #E8F0FE;\n",
              "      border: none;\n",
              "      border-radius: 50%;\n",
              "      cursor: pointer;\n",
              "      display: none;\n",
              "      fill: #1967D2;\n",
              "      height: 32px;\n",
              "      padding: 0 0 0 0;\n",
              "      width: 32px;\n",
              "    }\n",
              "\n",
              "    .colab-df-convert:hover {\n",
              "      background-color: #E2EBFA;\n",
              "      box-shadow: 0px 1px 2px rgba(60, 64, 67, 0.3), 0px 1px 3px 1px rgba(60, 64, 67, 0.15);\n",
              "      fill: #174EA6;\n",
              "    }\n",
              "\n",
              "    [theme=dark] .colab-df-convert {\n",
              "      background-color: #3B4455;\n",
              "      fill: #D2E3FC;\n",
              "    }\n",
              "\n",
              "    [theme=dark] .colab-df-convert:hover {\n",
              "      background-color: #434B5C;\n",
              "      box-shadow: 0px 1px 3px 1px rgba(0, 0, 0, 0.15);\n",
              "      filter: drop-shadow(0px 1px 2px rgba(0, 0, 0, 0.3));\n",
              "      fill: #FFFFFF;\n",
              "    }\n",
              "  </style>\n",
              "\n",
              "      <script>\n",
              "        const buttonEl =\n",
              "          document.querySelector('#df-e05a6bff-5cdf-488b-b5cd-9834d99277aa button.colab-df-convert');\n",
              "        buttonEl.style.display =\n",
              "          google.colab.kernel.accessAllowed ? 'block' : 'none';\n",
              "\n",
              "        async function convertToInteractive(key) {\n",
              "          const element = document.querySelector('#df-e05a6bff-5cdf-488b-b5cd-9834d99277aa');\n",
              "          const dataTable =\n",
              "            await google.colab.kernel.invokeFunction('convertToInteractive',\n",
              "                                                     [key], {});\n",
              "          if (!dataTable) return;\n",
              "\n",
              "          const docLinkHtml = 'Like what you see? Visit the ' +\n",
              "            '<a target=\"_blank\" href=https://colab.research.google.com/notebooks/data_table.ipynb>data table notebook</a>'\n",
              "            + ' to learn more about interactive tables.';\n",
              "          element.innerHTML = '';\n",
              "          dataTable['output_type'] = 'display_data';\n",
              "          await google.colab.output.renderOutput(dataTable, element);\n",
              "          const docLink = document.createElement('div');\n",
              "          docLink.innerHTML = docLinkHtml;\n",
              "          element.appendChild(docLink);\n",
              "        }\n",
              "      </script>\n",
              "    </div>\n",
              "  </div>\n",
              "  "
            ],
            "text/plain": [
              "   main_S60_1  main_S60_2  main_type_SP100D  ...  sales_29  sales_30   MSRP\n",
              "0           0           0                 0  ...         0         0  51355\n",
              "1           0           0                 0  ...         0         0  71580\n",
              "2           0           0                 0  ...         0         0  66790\n",
              "3           0           0                 0  ...         0         0  72330\n",
              "4           0           0                 0  ...         0         0  55370\n",
              "\n",
              "[5 rows x 74 columns]"
            ]
          },
          "metadata": {},
          "execution_count": 6
        }
      ],
      "source": [
        "\n",
        "filepath = '/content/drive/MyDrive/Colab Notebooks/Week1/Tesla Predictions/sales_Q34_2019.csv'\n",
        "df_pred =  pd.read_csv(filepath)\n",
        "df_pred.head()"
      ]
    },
    {
      "cell_type": "code",
      "source": [
        "df_pred.shape"
      ],
      "metadata": {
        "colab": {
          "base_uri": "https://localhost:8080/"
        },
        "id": "-LMgN-anfjFz",
        "outputId": "069f9b6a-d48a-4e39-ed04-24cb9930f7df"
      },
      "execution_count": 7,
      "outputs": [
        {
          "output_type": "execute_result",
          "data": {
            "text/plain": [
              "(6666, 74)"
            ]
          },
          "metadata": {},
          "execution_count": 7
        }
      ]
    },
    {
      "cell_type": "markdown",
      "metadata": {
        "id": "kcmsU-T1dnNF"
      },
      "source": [
        "## Task 2: Set up a regression problem \n",
        "\n",
        "We will be building a model to predict the number of each car type sold.\n",
        "\n",
        "If we look at the columns in the dataset, we'll notice that the first 73 tell us which type of car it is. For example, the row at index 1 has a 1 in these three columns: `main_type_S100D`, `engine_A`, and `sales_8`. Any other rows that have 1's in these same columns refers to the same car. You'll see index 18 is the same.\n",
        "\n",
        "For each of these unique combinations, we will be counting up the number of cars sold. Note that the final column (MSRP) will not be used.\n",
        "\n",
        "We will count up the number of rows for each unique combination of values for the first 73 columns.\n",
        "\n",
        "Since we will be doing this same calculation for both `df_sales` (the training set) and `df_pred` (the test set), we will write a function to avoid duplicating code.\n",
        "\n",
        "1. Write the function `get_features_and_targets` that takes in a quarterly sales DataFrame and produces matrices $\\mathbf{X}$ and $\\mathbf{Y}$, where $\\mathbf{X}$ has a row for each unique car ID and the corresponding row in $\\mathbf{Y}$ has the number of those cars sold in the quarter.\n",
        "\n",
        "    Note: For the `df_sales` dataset, there are 66 types of cars, so $\\mathbf{X}$ should have 66 rows and 73 columns."
      ]
    },
    {
      "cell_type": "code",
      "execution_count": 8,
      "metadata": {
        "id": "Mo5c3VhBkB33"
      },
      "outputs": [],
      "source": [
        "def get_features_and_targets(df):\n",
        "  df = df.drop([\"MSRP\"], axis = 1)\n",
        "  unique_rows = df.value_counts().reset_index()\n",
        "  X = unique_rows.iloc[:, :-1]\n",
        "  '''\n",
        "  I used this fuction np.newaxis to to increase the dimension of the existing array \n",
        "  by one more dimension. Convert from 1D to 2D https://numpy.org/devdocs/reference/constants.html#numpy.newaxis\n",
        "  Also I divided by the len(df) to get values in a range between 0-1\n",
        "  '''\n",
        "  y = unique_rows.iloc[:, -1][:,np.newaxis]\n",
        "  return X,y"
      ]
    },
    {
      "cell_type": "markdown",
      "source": [
        ""
      ],
      "metadata": {
        "id": "i3F1PeQ74Yl4"
      }
    },
    {
      "cell_type": "markdown",
      "metadata": {
        "id": "toTX3W89fX2P"
      },
      "source": [
        "2. Use the `get_features_and_targets()` function to create $\\mathbf{X}$, $\\mathbf{Y}$ pairs for both the training data (`df_sales`) and the test data (`df_pred`)."
      ]
    },
    {
      "cell_type": "code",
      "execution_count": 9,
      "metadata": {
        "id": "Rf6Vj0ujhJ77",
        "colab": {
          "base_uri": "https://localhost:8080/"
        },
        "outputId": "5575a481-38b3-4ac4-ce9b-11f5b1676c9c"
      },
      "outputs": [
        {
          "output_type": "stream",
          "name": "stderr",
          "text": [
            "/usr/local/lib/python3.7/dist-packages/ipykernel_launcher.py:10: FutureWarning: Support for multi-dimensional indexing (e.g. `obj[:, None]`) is deprecated and will be removed in a future version.  Convert to a numpy array before indexing instead.\n",
            "  # Remove the CWD from sys.path while we load stuff.\n"
          ]
        }
      ],
      "source": [
        "X_train, y_train = get_features_and_targets(df_sales)\n",
        "X_test, y_test = get_features_and_targets(df_pred)"
      ]
    },
    {
      "cell_type": "markdown",
      "metadata": {
        "id": "QYYLKcucpA3i"
      },
      "source": [
        "3. Verify that the shapes of the four numpy arrays you just created are correct.\n",
        "\n",
        "    The training set should have 66 datapoints and the test set should have 71 rows. Verify this by looking at the number of rows in $\\mathbf{X}$ and number of values in $\\mathbf{Y}$.\n",
        "    \n",
        "    Both $\\mathbf{X}$'s should have 73 columns."
      ]
    },
    {
      "cell_type": "code",
      "execution_count": 10,
      "metadata": {
        "id": "_gzAjo6WpA3i",
        "colab": {
          "base_uri": "https://localhost:8080/"
        },
        "outputId": "9f85a8cf-0a5d-45ac-b1f4-994d6445c557"
      },
      "outputs": [
        {
          "output_type": "stream",
          "name": "stdout",
          "text": [
            "X_train shape:  (66, 73)\n",
            "X_test shape:  (71, 73)\n",
            "y_train shape:  (66, 1)\n",
            "y_test shape:  (71, 1)\n"
          ]
        }
      ],
      "source": [
        "print('X_train shape: ', X_train.shape)\n",
        "print('X_test shape: ', X_test.shape)\n",
        "print('y_train shape: ', y_train.shape)\n",
        "print('y_test shape: ', y_test.shape)"
      ]
    },
    {
      "cell_type": "markdown",
      "metadata": {
        "id": "8d7BSjsQdnNV"
      },
      "source": [
        "Note that the Q12 and Q34 datasets contain differing numbers of distinct cars. Thus some new models were introduced by Q3, but were any discontinued by the beginning of Q3? Let's find out.\n",
        "\n",
        "4. Print the total number of types of cars (e.g. types of cars that were sold in either Q12, Q34, or both). In mathematical notation, if the set of cars sold in Q12 is $\\mathcal{A}$ and the set of cars sold in Q34 is $\\mathcal{B}$, we're asking for the size of the *union* of these two sets $|\\mathcal{A} \\cup \\mathcal{B}|$.\n",
        "\n",
        "    Note: The notation $|\\cdots|$ indicates measurement of the size of a set (the number of distinct items). (Mathematicians usually refer to it as the *cardinality*.)\n",
        "    \n",
        "    Hint: Create a single DataFrame with all the data and use the `get_features_and_targets()` function."
      ]
    },
    {
      "cell_type": "code",
      "execution_count": 11,
      "metadata": {
        "id": "KOEhFSxin_te",
        "colab": {
          "base_uri": "https://localhost:8080/"
        },
        "outputId": "6c0c1a7c-7ed0-4031-af13-36bb646bbaf4"
      },
      "outputs": [
        {
          "output_type": "execute_result",
          "data": {
            "text/plain": [
              "(12503, 74)"
            ]
          },
          "metadata": {},
          "execution_count": 11
        }
      ],
      "source": [
        "allData = pd.concat([df_sales, df_pred], join='inner')\n",
        "allData.shape"
      ]
    },
    {
      "cell_type": "code",
      "source": [
        "\n",
        "Xtemp, ytemp = get_features_and_targets(allData)\n",
        "print(\"Total number of cars sold in Q12 and Q34: \", ytemp.shape[0])"
      ],
      "metadata": {
        "colab": {
          "base_uri": "https://localhost:8080/"
        },
        "id": "1m-Foywsi2vP",
        "outputId": "ed15f692-e1ed-4f13-c420-cdbfd0c61b87"
      },
      "execution_count": 12,
      "outputs": [
        {
          "output_type": "stream",
          "name": "stdout",
          "text": [
            "Total number of cars sold in Q12 and Q34:  80\n"
          ]
        },
        {
          "output_type": "stream",
          "name": "stderr",
          "text": [
            "/usr/local/lib/python3.7/dist-packages/ipykernel_launcher.py:10: FutureWarning: Support for multi-dimensional indexing (e.g. `obj[:, None]`) is deprecated and will be removed in a future version.  Convert to a numpy array before indexing instead.\n",
            "  # Remove the CWD from sys.path while we load stuff.\n"
          ]
        }
      ]
    },
    {
      "cell_type": "markdown",
      "metadata": {
        "id": "8KgAprxHqcv2"
      },
      "source": [
        "5. A handy little fact from set theory is that $|\\mathcal{A} \\cup \\mathcal{B}| = |\\mathcal{A}| + |\\mathcal{B}| - |\\mathcal{A} \\cap \\mathcal{B}|$, where $\\cap$ is the *intersection* of $\\mathcal{A}$ and $\\mathcal{B}$, things that are in **both** $\\mathcal{A}$ and $\\mathcal{B}$. Use this fact, and what you've computed above, to print the number of models that were sold in both Q12 and Q34."
      ]
    },
    {
      "cell_type": "code",
      "execution_count": 13,
      "metadata": {
        "id": "56A3357NswMG",
        "colab": {
          "base_uri": "https://localhost:8080/"
        },
        "outputId": "b13ae3a3-a5b7-4c4a-a02d-fed6a90e0b1b"
      },
      "outputs": [
        {
          "output_type": "stream",
          "name": "stdout",
          "text": [
            "Number of cars that were sold in both quarters:  57\n"
          ]
        }
      ],
      "source": [
        "bothQuarters = y_train.shape[0] + y_test.shape[0] - ytemp.shape[0]\n",
        "print(\"Number of cars that were sold in both quarters: \", bothQuarters)"
      ]
    },
    {
      "cell_type": "markdown",
      "metadata": {
        "id": "clPi1NVCunoy"
      },
      "source": [
        "6. How many cars that were sold in Q12 were not sold in Q34?"
      ]
    },
    {
      "cell_type": "code",
      "execution_count": 14,
      "metadata": {
        "id": "VmMdZNuzu5Z-",
        "colab": {
          "base_uri": "https://localhost:8080/"
        },
        "outputId": "3d4c8fb1-0cc4-48e1-85ae-636293b4c41c"
      },
      "outputs": [
        {
          "output_type": "stream",
          "name": "stdout",
          "text": [
            "Number of cars that were sold in Q12 but not in Q34:  9\n"
          ]
        }
      ],
      "source": [
        "Q12only = y_train.shape[0] - bothQuarters\n",
        "print(\"Number of cars that were sold in Q12 but not in Q34: \", Q12only)"
      ]
    },
    {
      "cell_type": "markdown",
      "metadata": {
        "id": "04zz5QOkvtij"
      },
      "source": [
        "7. How many cars were sold in Q34 but not in Q12?"
      ]
    },
    {
      "cell_type": "code",
      "execution_count": 15,
      "metadata": {
        "id": "stRzG8THvyeA",
        "colab": {
          "base_uri": "https://localhost:8080/"
        },
        "outputId": "888f4ad1-5ca3-4a8e-d4dd-8c9c7b843b16"
      },
      "outputs": [
        {
          "output_type": "stream",
          "name": "stdout",
          "text": [
            "Number of cars that were sold in Q34 but not in Q12:  14\n"
          ]
        }
      ],
      "source": [
        "Q34only = y_test.shape[0] - bothQuarters\n",
        "print(\"Number of cars that were sold in Q34 but not in Q12: \", Q34only)"
      ]
    },
    {
      "cell_type": "markdown",
      "metadata": {
        "id": "3qn6SNBNdnNb"
      },
      "source": [
        "## Task 3: Visualize the training and test targets"
      ]
    },
    {
      "cell_type": "markdown",
      "metadata": {
        "id": "OzsF0PfoyoyS"
      },
      "source": [
        "This is open-ended and we're not expecting a particular visualization, just show us what comes comes to your mind!"
      ]
    },
    {
      "cell_type": "code",
      "execution_count": 16,
      "metadata": {
        "id": "oFVGTPYV2jrF",
        "colab": {
          "base_uri": "https://localhost:8080/",
          "height": 282
        },
        "outputId": "68333ed0-c259-478c-d282-5a187145ad1f"
      },
      "outputs": [
        {
          "output_type": "execute_result",
          "data": {
            "text/plain": [
              "<matplotlib.collections.PathCollection at 0x7f6caee62a90>"
            ]
          },
          "metadata": {},
          "execution_count": 16
        },
        {
          "output_type": "display_data",
          "data": {
            "image/png": "[encoded data removed]",
            "text/plain": [
              "<Figure size 432x288 with 1 Axes>"
            ]
          },
          "metadata": {
            "needs_background": "light"
          }
        }
      ],
      "source": [
        "plt.scatter(range(len(X_train)), y_train,  color='black')\n",
        "plt.scatter(range(len(X_test)), y_test,  color='red')"
      ]
    },
    {
      "cell_type": "markdown",
      "metadata": {
        "id": "9g-2fwgydnNh"
      },
      "source": [
        "## Task 4: Fit a linear model with gradient descent"
      ]
    },
    {
      "cell_type": "markdown",
      "metadata": {
        "id": "oriL0PcVOlw-"
      },
      "source": [
        "1. Set hyperparameters for learning rate and maximum number of iterations through the training data."
      ]
    },
    {
      "cell_type": "code",
      "execution_count": 17,
      "metadata": {
        "id": "QKIv3936OfVk"
      },
      "outputs": [],
      "source": [
        "# these are good starting values, though you can play around with them\n",
        "s_learning_rate = 0.001\n",
        "s_max_iteration = 1000"
      ]
    },
    {
      "cell_type": "markdown",
      "metadata": {
        "id": "Lx-wS125dnNk"
      },
      "source": [
        "### Hypothesis Function\n",
        "\n",
        "2. Define your hypothesis function $h(\\cdot)$ (which you use to make predictions $\\hat{\\mathbf{Y}}$ as the matrix product of your feature data $\\mathbf{X}$ and parameters $\\boldsymbol{\\theta}$. $\\boldsymbol{\\theta}$, which you'll initialize in the training loop (below) is a column vector with a value for each feature in the training data, plus one for bias.\n",
        "\n",
        "    Note: We'll deal with adding the column of 1's to $\\mathbf{X}$ below in the gradient descent function, so don't worry about it now."
      ]
    },
    {
      "cell_type": "code",
      "execution_count": 18,
      "metadata": {
        "id": "SI8oTUQsdnNk"
      },
      "outputs": [],
      "source": [
        "def h(theta, X):\n",
        "    return np.dot(X, theta)"
      ]
    },
    {
      "cell_type": "markdown",
      "metadata": {
        "id": "7LW5F5uhdnNm"
      },
      "source": [
        "3. Define your loss function as the MSE (mean squared error) between your actual and predicted $\\mathbf{Y}$ values. \n",
        "\n",
        "    Recall that the predicted $\\mathbf{Y}$ values, $\\hat{\\mathbf{Y}}$, are a function of $\\boldsymbol{\\theta}$ and $\\mathbf{X}$.\n"
      ]
    },
    {
      "cell_type": "code",
      "execution_count": 19,
      "metadata": {
        "id": "KzRpZec4dnNm"
      },
      "outputs": [],
      "source": [
        "def loss(theta, X, y):\n",
        "  m = np.shape(X)[0] \n",
        "  error = (y - h(theta,X))\n",
        "  cost = np.sum(np.power(error,2))/m\n",
        "  return cost"
      ]
    },
    {
      "cell_type": "markdown",
      "metadata": {
        "id": "PCLgRXivdnNp"
      },
      "source": [
        "### Gradient of Hypothesis Function\n",
        "\n",
        "One can verify through straightforward (if somewhat tedious) multivariable calculus that the gradient of the loss function $J$ with respect to the parameters $\\theta$ is \n",
        "\n",
        "$$ \\frac{\\partial J}{\\partial \\boldsymbol{\\theta}} = - \\frac{1}{m} X^T \\cdot (Y - \\hat{Y})$$\n",
        "\n",
        "Where $m$ is the number of data samples, the number of rows in $\\mathbf{X}$ and $\\mathbf{Y}$.\n",
        "\n",
        "Note that the $\\mathbf{X}$ here is the one that has been augmented with a bias column. \n",
        "\n",
        "4. Write the `gradient()` function to compute this gradient."
      ]
    },
    {
      "cell_type": "code",
      "execution_count": 20,
      "metadata": {
        "id": "3zYnvBa1dnNp"
      },
      "outputs": [],
      "source": [
        "def gradient(theta, X, y):\n",
        "    d_theta = - np.dot(X.T, (y - h(theta, X))) / X.shape[0]\n",
        "    return d_theta"
      ]
    },
    {
      "cell_type": "markdown",
      "metadata": {
        "id": "fo-NxmSLdnNr"
      },
      "source": [
        "### Gradient Descent\n",
        "\n",
        "5. Complete the `stochastic_gradient_descent()` function to train your linear regression model with gradient descent, i.e. calculate $\\frac{\\partial J}{\\partial \\theta}$ and update $\\theta$. Recall that the general gradient descent update formula is $\\theta := \\theta - \\alpha \\frac{\\partial J}{\\partial \\theta}$, with $\\alpha$ the stepsize. We've provided the skeleton of a stochastic gradient descent function, but you're welcome to experiment with batch and/or minibatch gradient descent. Also recall that the aforementioned gradient descent methods differ in how frequently they calculate $\\frac{\\partial J}{\\partial \\theta}$ and update $\\theta$. Notice in the first step we initialize $\\boldsymbol{\\theta}$ to all zeros and we temporarily prepend a column of $1$'s to the features, which corresponds to the bias parameter.\n",
        "\n",
        "    Hint: Be mindful of the shapes of the arrays that you pass into the `gradient()` function. It should be two 2D arrays."
      ]
    },
    {
      "cell_type": "code",
      "execution_count": 21,
      "metadata": {
        "id": "g6hbmDgkdnNs"
      },
      "outputs": [],
      "source": [
        "def stochastic_gradient_descent(X, y, learning_rate, max_iteration, gap):\n",
        "    cost = np.zeros(max_iteration)\n",
        "    theta = np.zeros((X.shape[1] + 1, 1))\n",
        "    X = np.hstack([np.ones([X.shape[0], 1]), X])\n",
        "    for i in range(max_iteration) :\n",
        "        for j in range(X.shape[0]):\n",
        "            d_theta = gradient (theta, X[j,:].reshape(1, X.shape[1]), y[j,:].reshape(1, 1))\n",
        "            theta = theta - learning_rate * d_theta\n",
        "        cost[i] = loss(theta, X, y)\n",
        "        if i % gap == 0 :\n",
        "          print ('iteration : ', i, ' loss : ', loss(theta, X, y)) \n",
        "    return theta, cost\n",
        "\n",
        "  "
      ]
    },
    {
      "cell_type": "markdown",
      "metadata": {
        "id": "sy6ycQoFpA3n"
      },
      "source": [
        "6. Now we can run the `stochastic_gradient_descent()` function to find the optimal theta."
      ]
    },
    {
      "cell_type": "code",
      "execution_count": 22,
      "metadata": {
        "id": "O084UJ8UdnNt",
        "colab": {
          "base_uri": "https://localhost:8080/"
        },
        "outputId": "27f8fec2-baa0-4b1b-8002-e7283ab4334c"
      },
      "outputs": [
        {
          "output_type": "stream",
          "name": "stdout",
          "text": [
            "iteration :  0  loss :  28704.83032970715\n",
            "iteration :  100  loss :  14453.68321245467\n",
            "iteration :  200  loss :  12127.31127020002\n",
            "iteration :  300  loss :  11112.36136363301\n",
            "iteration :  400  loss :  10584.653329534289\n",
            "iteration :  500  loss :  10280.593974647341\n",
            "iteration :  600  loss :  10091.39947844416\n",
            "iteration :  700  loss :  9965.435004011395\n",
            "iteration :  800  loss :  9876.126429411122\n",
            "iteration :  900  loss :  9809.060669745013\n"
          ]
        }
      ],
      "source": [
        "s_theta, s_cost = stochastic_gradient_descent(X_train, y_train, s_learning_rate, s_max_iteration, 100)"
      ]
    },
    {
      "cell_type": "code",
      "execution_count": 23,
      "metadata": {
        "id": "aoRR-pP8P2C2",
        "colab": {
          "base_uri": "https://localhost:8080/",
          "height": 336
        },
        "outputId": "f1542cea-9624-4e6d-d28f-fa521ab42c7e"
      },
      "outputs": [
        {
          "output_type": "stream",
          "name": "stderr",
          "text": [
            "/usr/local/lib/python3.7/dist-packages/ipykernel_launcher.py:1: UserWarning: In Matplotlib 3.3 individual lines on a stem plot will be added as a LineCollection instead of individual lines. This significantly improves the performance of a stem plot. To remove this warning and switch to the new behaviour, set the \"use_line_collection\" keyword argument to True.\n",
            "  \"\"\"Entry point for launching an IPython kernel.\n"
          ]
        },
        {
          "output_type": "execute_result",
          "data": {
            "text/plain": [
              "<StemContainer object of 3 artists>"
            ]
          },
          "metadata": {},
          "execution_count": 23
        },
        {
          "output_type": "display_data",
          "data": {
            "image/png": "[encoded data removed]",
            "text/plain": [
              "<Figure size 432x288 with 1 Axes>"
            ]
          },
          "metadata": {
            "needs_background": "light"
          }
        }
      ],
      "source": [
        "plt.stem(np.squeeze(s_theta))"
      ]
    },
    {
      "cell_type": "markdown",
      "metadata": {
        "id": "B6D2kqejdnNv"
      },
      "source": [
        "### Generate Predictions from Test Data\n",
        "\n",
        "7. Use `s_theta` to make predictions on the test set (`X_test`).\n",
        "\n",
        "    Hint: Make sure to prepend the column of 1's onto `X_test` (just like it's done in the `stochastic_gradient_descent()` function)."
      ]
    },
    {
      "cell_type": "code",
      "execution_count": 24,
      "metadata": {
        "id": "m-u3iTbNdnNw"
      },
      "outputs": [],
      "source": [
        "y_pred_GD = h(s_theta, np.hstack([np.ones([X_test.shape[0], 1]), X_test]))\n",
        "# Since our target is non-negative, we set any negative predictions to 0.\n",
        "y_pred_GD[y_pred_GD < 0] = 0"
      ]
    },
    {
      "cell_type": "markdown",
      "metadata": {
        "id": "qa_Nyl5cpA3o"
      },
      "source": [
        "8. Calculate the MSE and R^2 score."
      ]
    },
    {
      "cell_type": "code",
      "execution_count": 25,
      "metadata": {
        "id": "Ljk24gJ4dnNy",
        "colab": {
          "base_uri": "https://localhost:8080/"
        },
        "outputId": "749f6522-931f-42fb-a353-3b4c3479780e"
      },
      "outputs": [
        {
          "output_type": "stream",
          "name": "stdout",
          "text": [
            "MSE 5702.208265828383\n",
            "RMSE 75.51296753424793\n",
            "R2 Score 0.6300187885391408\n"
          ]
        }
      ],
      "source": [
        "from sklearn.metrics import mean_squared_error as MSE\n",
        "from sklearn.metrics import r2_score\n",
        "import math\n",
        "\n",
        "gradient_MSE = MSE(y_test, y_pred_GD)\n",
        "gradient_RMSE =  math.sqrt(MSE(y_test, y_pred_GD))\n",
        "gradient_R2 = r2_score(y_test, y_pred_GD)\n",
        "print(\"MSE\", gradient_MSE )\n",
        "print(\"RMSE\", gradient_RMSE )\n",
        "print (\"R2 Score\", gradient_R2)"
      ]
    },
    {
      "cell_type": "markdown",
      "metadata": {
        "id": "2ImYOho6dnNy"
      },
      "source": [
        "### Visualize the predicted and actual test labels\n",
        "\n",
        "9. Make a plot showing both the true values (`y_test`) and the predicted values (`y_pred_GD`)."
      ]
    },
    {
      "cell_type": "code",
      "execution_count": 26,
      "metadata": {
        "id": "o3t83fxcr6dd",
        "colab": {
          "base_uri": "https://localhost:8080/",
          "height": 282
        },
        "outputId": "71207b3a-71f2-43f2-846c-00eb6d13aa34"
      },
      "outputs": [
        {
          "output_type": "execute_result",
          "data": {
            "text/plain": [
              "<matplotlib.collections.PathCollection at 0x7f6ca04ffa50>"
            ]
          },
          "metadata": {},
          "execution_count": 26
        },
        {
          "output_type": "display_data",
          "data": {
            "image/png": "[encoded data removed]",
            "text/plain": [
              "<Figure size 432x288 with 1 Axes>"
            ]
          },
          "metadata": {
            "needs_background": "light"
          }
        }
      ],
      "source": [
        "plt.scatter(range(len(y_test)), y_test,  color='green')\n",
        "plt.scatter(range(len(y_pred_GD)), y_pred_GD, color='red', linewidth=3)"
      ]
    },
    {
      "cell_type": "markdown",
      "metadata": {
        "id": "QNFkAA7gdnN0"
      },
      "source": [
        "## Task 5: Normal Equations\n",
        "\n",
        "Gradient Descent is an iterative method for converging on the solution, though we can also compute the solution directly using the normal equation. Gradient Descent is generally preferred because it can converge quickly even with a large dataset, but since our training dataset isn't very large, we can use the normal equation.\n",
        "\n",
        "$$\\boldsymbol{\\theta} = (X^T \\cdot X)^{-1} \\cdot X^T \\cdot Y$$ \n",
        "$$\\hat{Y} = X \\cdot \\boldsymbol{\\theta}$$\n",
        "\n",
        "We'll compare our predictions with the ones we obtained using gradient descent.\n",
        "\n",
        "Remember we still have a bias term, so $\\boldsymbol{\\theta}$ is of size 74x1 (73 for the unique ID features, 1 for the bias).\n",
        "\n",
        "1. Complete the `normal_equations_solution()` function below.\n",
        "\n",
        "    Hint: numpy's `linalg.pinv` efficiently computes the matrix $(X^T \\cdot X)^{-1} \\cdot X^T$."
      ]
    },
    {
      "cell_type": "code",
      "execution_count": 27,
      "metadata": {
        "id": "ez7XC2qQdnN1"
      },
      "outputs": [],
      "source": [
        "def normal_equations_solution(X, y):\n",
        "    X_with_ones = np.hstack([np.ones([X.shape[0], 1]), X])\n",
        "    return np.dot(np.linalg.pinv(X_with_ones), y)"
      ]
    },
    {
      "cell_type": "markdown",
      "metadata": {
        "id": "lOGQDxVIpA3p"
      },
      "source": [
        "2. Use the `normal_equations_solution()` function to compute `y_pred_NE`.\n",
        "\n",
        "    The code should be the same as above, just use `n_theta` instead of `s_theta`."
      ]
    },
    {
      "cell_type": "code",
      "execution_count": 28,
      "metadata": {
        "id": "cAhtVznMZGtB"
      },
      "outputs": [],
      "source": [
        "n_theta = normal_equations_solution(X_train, y_train)\n",
        "y_pred_NE = np.dot(np.hstack([np.ones([X_test.shape[0], 1]), X_test]), n_theta)\n",
        "# Set any negative predictions to 0\n",
        "y_pred_NE[y_pred_NE < 0] = 0"
      ]
    },
    {
      "cell_type": "markdown",
      "metadata": {
        "id": "cjhCBmR0pA3p"
      },
      "source": [
        "3. Calculate the MSE and R^2 score."
      ]
    },
    {
      "cell_type": "code",
      "execution_count": 29,
      "metadata": {
        "id": "8786yEGTpA3p",
        "colab": {
          "base_uri": "https://localhost:8080/"
        },
        "outputId": "907887e0-9362-4fb2-e3cb-f7348a7303b4"
      },
      "outputs": [
        {
          "output_type": "stream",
          "name": "stdout",
          "text": [
            "MSE 6199.303664419516\n",
            "RMSE 78.73565688059963\n",
            "R2 Score 0.5977653265103126\n"
          ]
        }
      ],
      "source": [
        "normal_equations_MSE  = MSE(y_test, y_pred_NE)\n",
        "normal_equations_RMSE = math.sqrt(MSE(y_test, y_pred_NE))\n",
        "normal_equations_R2 = r2_score(y_test, y_pred_NE)\n",
        "\n",
        "print(\"MSE\",  normal_equations_MSE )\n",
        "print(\"RMSE\", normal_equations_RMSE)\n",
        "print (\"R2 Score\", normal_equations_R2 )"
      ]
    },
    {
      "cell_type": "markdown",
      "metadata": {
        "id": "ubl84dRIpA3p"
      },
      "source": [
        "4. Make a plot showing both the true values (`y_test`) and the predicted values (`y_pred_NE`)."
      ]
    },
    {
      "cell_type": "code",
      "execution_count": 30,
      "metadata": {
        "id": "VKAnZJT-pA3p",
        "colab": {
          "base_uri": "https://localhost:8080/",
          "height": 282
        },
        "outputId": "64fabb0e-0748-4205-aa3c-4d246072fa0f"
      },
      "outputs": [
        {
          "output_type": "execute_result",
          "data": {
            "text/plain": [
              "<matplotlib.collections.PathCollection at 0x7f6c9dc86850>"
            ]
          },
          "metadata": {},
          "execution_count": 30
        },
        {
          "output_type": "display_data",
          "data": {
            "image/png": "[encoded data removed]",
            "text/plain": [
              "<Figure size 432x288 with 1 Axes>"
            ]
          },
          "metadata": {
            "needs_background": "light"
          }
        }
      ],
      "source": [
        "plt.scatter(range(len(y_test)), y_test,  color='green')\n",
        "plt.scatter(range(len(y_pred_NE)), y_pred_NE, color='red', linewidth=3)"
      ]
    },
    {
      "cell_type": "markdown",
      "metadata": {
        "id": "i3ofJxdUdnN6"
      },
      "source": [
        "### Regularized Normal Equations\n",
        "\n",
        "Recall that our training features array `X_train` has 66 rows and 73 columns, thus wider than it is tall. This suggests the regularized normal equations might perform better.\n",
        "\n",
        "$$\\boldsymbol{\\theta} = (X^T \\cdot X + \\lambda m I)^{-1} \\cdot X^T \\cdot Y$$\n",
        "\n",
        "Here, $\\lambda$ is the regularization parameter and $m$ is the number of rows in $X$.\n",
        "\n",
        "5. Complete the `regularized_normal_equations_solution()` equation."
      ]
    },
    {
      "cell_type": "code",
      "execution_count": 31,
      "metadata": {
        "id": "nFY5YO-IZ2e7"
      },
      "outputs": [],
      "source": [
        "def regularized_normal_equations_solution(X, y, regularization_param):\n",
        "    X_with_ones = np.hstack([np.ones([X.shape[0], 1]), X])\n",
        "    return np.dot(\n",
        "      np.linalg.inv(np.dot(X_with_ones.T, X_with_ones) + regularization_param * len(X) * np.identity(X_with_ones.shape[1])),\n",
        "      np.dot(X_with_ones.T, y)\n",
        "  )"
      ]
    },
    {
      "cell_type": "markdown",
      "metadata": {
        "id": "gcxWBHY7pA3q"
      },
      "source": [
        "6. Complete the code snippet below to calculate the MSE and R^2 values for each of the potential regularization parameters to determine the optimal.\n",
        "\n",
        "    Does it outperform the standard normal equation?"
      ]
    },
    {
      "cell_type": "code",
      "execution_count": 32,
      "metadata": {
        "id": "bIrbJkOydnN9",
        "colab": {
          "base_uri": "https://localhost:8080/"
        },
        "outputId": "a562f91b-c117-4909-87c9-50da3211f507"
      },
      "outputs": [
        {
          "output_type": "stream",
          "name": "stdout",
          "text": [
            "For regularization parameter 0.001\n",
            "R2=  0.6158772697470054\n",
            "MSE =  5920.159564029407\n",
            "RMSE = 76.9425731570592\n",
            "-----\n",
            "For regularization parameter 0.002\n",
            "R2=  0.6243799747764831\n",
            "MSE =  5789.11454498763\n",
            "RMSE = 76.08623098161473\n",
            "-----\n",
            "For regularization parameter 0.003\n",
            "R2=  0.6291575016201115\n",
            "MSE =  5715.482554459275\n",
            "RMSE = 75.6008105410205\n",
            "-----\n",
            "For regularization parameter 0.004\n",
            "R2=  0.6313144303009274\n",
            "MSE =  5682.239632463353\n",
            "RMSE = 75.3806316799173\n",
            "-----\n",
            "For regularization parameter 0.005\n",
            "R2=  0.6317928169389035\n",
            "MSE =  5674.866662818328\n",
            "RMSE = 75.33171087144065\n",
            "-----\n",
            "For regularization parameter 0.006\n",
            "R2=  0.6313068559155819\n",
            "MSE =  5682.3563700743125\n",
            "RMSE = 75.38140599693212\n",
            "-----\n",
            "For regularization parameter 0.007\n",
            "R2=  0.6302543355981155\n",
            "MSE =  5698.5779777351745\n",
            "RMSE = 75.48892619275475\n",
            "-----\n",
            "For regularization parameter 0.008\n",
            "R2=  0.6288782539224571\n",
            "MSE =  5719.78636362702\n",
            "RMSE = 75.62926922578995\n",
            "-----\n",
            "For regularization parameter 0.009000000000000001\n",
            "R2=  0.6272272143179405\n",
            "MSE =  5745.232444099354\n",
            "RMSE = 75.79731158886412\n",
            "-----\n",
            "For regularization parameter 0.01\n",
            "R2=  0.6253856054254453\n",
            "MSE =  5773.61560822746\n",
            "RMSE = 75.98431159277196\n",
            "-----\n"
          ]
        }
      ],
      "source": [
        "regularization_params = np.linspace(0.001, 0.01, 10)\n",
        "\n",
        "for regularization_param in regularization_params:\n",
        "    theta_temp = regularized_normal_equations_solution(X_train, y_train, regularization_param)\n",
        "    y_pred_N_reg = np.dot(np.hstack([np.ones([X_test.shape[0], 1]), X_test]), theta_temp)\n",
        "    y_pred_N_reg[np.where(y_pred_N_reg<0)]=0\n",
        "\n",
        "    print('For regularization parameter', regularization_param)\n",
        "    regularized_RMSE = math.sqrt(MSE(y_test, y_pred_N_reg))\n",
        "    regularized_MSE = MSE(y_test, y_pred_N_reg) \n",
        "    regularized_R2 = r2_score(y_test, y_pred_N_reg)\n",
        "\n",
        "\n",
        "    print(\"R2= \",regularized_R2 )\n",
        "    print (\"MSE = \", regularized_MSE)\n",
        "    print (\"RMSE =\", regularized_RMSE )\n",
        "\n",
        "    print('-----')\n"
      ]
    },
    {
      "cell_type": "markdown",
      "metadata": {
        "id": "o5uD0DVidnN_"
      },
      "source": [
        "## Task 6: Non-linear Regression Models (GLM, DT) "
      ]
    },
    {
      "cell_type": "markdown",
      "metadata": {
        "id": "Yk0Be7SQdnN_"
      },
      "source": [
        "### Generalized Linear Models\n",
        "\n",
        "Statsmodels has a `GLM` class for Generalized Linear Models. Here we import and build the model.\n",
        "\n",
        "The `GLM` class takes the training labels, training features, and family, which is the family of distributions to which we assume our prediciton errors belong. Some potentially good choices for family include Gaussian, Gamma, and Logit.\n",
        "\n",
        "1. Run the code below and review the results."
      ]
    },
    {
      "cell_type": "code",
      "execution_count": 33,
      "metadata": {
        "id": "cxUdD_LhdnN_",
        "colab": {
          "base_uri": "https://localhost:8080/"
        },
        "outputId": "cddb08f8-f0f0-4796-e26e-a94aaed93164"
      },
      "outputs": [
        {
          "output_type": "stream",
          "name": "stderr",
          "text": [
            "/usr/local/lib/python3.7/dist-packages/statsmodels/tools/_testing.py:19: FutureWarning: pandas.util.testing is deprecated. Use the functions in the public API at pandas.testing instead.\n",
            "  import pandas.util.testing as tm\n",
            "/usr/local/lib/python3.7/dist-packages/statsmodels/tsa/tsatools.py:117: FutureWarning: In a future version of pandas all arguments of concat except for the argument 'objs' will be keyword-only\n",
            "  x = pd.concat(x[::order], 1)\n",
            "/usr/local/lib/python3.7/dist-packages/statsmodels/base/model.py:1294: RuntimeWarning: invalid value encountered in true_divide\n",
            "  return self.params / self.bse\n"
          ]
        },
        {
          "output_type": "stream",
          "name": "stdout",
          "text": [
            "                 Generalized Linear Model Regression Results                  \n",
            "==============================================================================\n",
            "Dep. Variable:                      y   No. Observations:                   66\n",
            "Model:                            GLM   Df Residuals:                       35\n",
            "Model Family:                Gaussian   Df Model:                           30\n",
            "Link Function:               identity   Scale:                          17311.\n",
            "Method:                          IRLS   Log-Likelihood:                -394.77\n",
            "Date:                Mon, 21 Feb 2022   Deviance:                   6.0590e+05\n",
            "Time:                        11:57:53   Pearson chi2:                 6.06e+05\n",
            "No. Iterations:                     3                                         \n",
            "Covariance Type:            nonrobust                                         \n",
            "====================================================================================\n",
            "                       coef    std err          z      P>|z|      [0.025      0.975]\n",
            "------------------------------------------------------------------------------------\n",
            "const               85.6077     49.748      1.721      0.085     -11.897     183.113\n",
            "main_S60_1       -8.357e-14   1.46e-13     -0.573      0.567    -3.7e-13    2.03e-13\n",
            "main_S60_2       -8.107e-14   1.09e-13     -0.743      0.457   -2.95e-13    1.33e-13\n",
            "main_type_SP100D     7.0000    186.072      0.038      0.970    -357.694     371.694\n",
            "main_type_S60D_1     7.0000    263.146      0.027      0.979    -508.756     522.756\n",
            "main_type_S60D_2   -19.1519     79.194     -0.242      0.809    -174.368     136.065\n",
            "main_type_S70       99.2903     55.613      1.785      0.074      -9.710     208.290\n",
            "main_type_S70D     -31.3196     64.446     -0.486      0.627    -157.632      94.993\n",
            "main_type_S75     1.282e-13   1.53e-13      0.836      0.403   -1.72e-13    4.29e-13\n",
            "main_type_S75D     -56.8655    132.073     -0.431      0.667    -315.723     201.992\n",
            "main_type_S80      -16.4954     70.523     -0.234      0.815    -154.718     121.727\n",
            "main_type_S80D      -6.8808     90.627     -0.076      0.939    -184.506     170.745\n",
            "main_type_S85        4.2553     72.879      0.058      0.953    -138.584     147.095\n",
            "main_type_S85P     155.3578     52.741      2.946      0.003      51.988     258.727\n",
            "main_type_P85D      -8.3761    120.323     -0.070      0.945    -244.204     227.452\n",
            "main_type_S90      6.96e-14   1.13e-13      0.614      0.539   -1.52e-13    2.92e-13\n",
            "main_type_S90D   -2.895e-14   5.34e-14     -0.542      0.588   -1.34e-13    7.57e-14\n",
            "main_type_S100D     89.1291     41.959      2.124      0.034       6.890     171.368\n",
            "engine_A           163.5645     57.666      2.836      0.005      50.541     276.588\n",
            "engine_B         -4.426e-15   5.32e-14     -0.083      0.934   -1.09e-13    9.99e-14\n",
            "engine_C         -1.598e-14   6.37e-14     -0.251      0.802   -1.41e-13    1.09e-13\n",
            "engine_D          3.364e-15   4.64e-14      0.073      0.942   -8.75e-14    9.42e-14\n",
            "engine_E           -54.3798     76.073     -0.715      0.475    -203.480      94.720\n",
            "engine_F          1.404e-14   4.61e-14      0.305      0.761   -7.63e-14    1.04e-13\n",
            "engine_G           -45.8038    101.623     -0.451      0.652    -244.980     153.373\n",
            "engine_H         -3.447e-14   1.05e-13     -0.327      0.744   -2.41e-13    1.72e-13\n",
            "engine_I          2.567e-15   3.14e-14      0.082      0.935    -5.9e-14    6.41e-14\n",
            "engine_J          1.113e-15    5.7e-15      0.195      0.845   -1.01e-14    1.23e-14\n",
            "engine_K          2.574e-16   1.94e-14      0.013      0.989   -3.77e-14    3.82e-14\n",
            "engine_L         -1.369e-16   1.27e-14     -0.011      0.991    -2.5e-14    2.48e-14\n",
            "engine_M           2.97e-20   6.46e-17      0.000      1.000   -1.27e-16    1.27e-16\n",
            "engine_N             7.0978    152.114      0.047      0.963    -291.039     305.235\n",
            "engine_O           -42.0268    118.975     -0.353      0.724    -275.213     191.159\n",
            "engine_P           -42.3038     57.524     -0.735      0.462    -155.049      70.441\n",
            "engine_Q            -7.7814     48.018     -0.162      0.871    -101.895      86.332\n",
            "engine_R                  0          0        nan        nan           0           0\n",
            "engine_S                  0          0        nan        nan           0           0\n",
            "engine_T                  0          0        nan        nan           0           0\n",
            "engine_U           -74.4355     57.666     -1.291      0.197    -187.459      38.588\n",
            "engine_V                  0          0        nan        nan           0           0\n",
            "engine_W                  0          0        nan        nan           0           0\n",
            "engine_X           -44.1514    154.418     -0.286      0.775    -346.805     258.502\n",
            "engine_Y                  0          0        nan        nan           0           0\n",
            "engine_Z          -148.5443     57.905     -2.565      0.010    -262.037     -35.052\n",
            "sales_1           -111.8025    101.604     -1.100      0.271    -310.943      87.338\n",
            "sales_2                   0          0        nan        nan           0           0\n",
            "sales_3             -8.0760    101.112     -0.080      0.936    -206.252     190.100\n",
            "sales_4            -11.0760    101.112     -0.110      0.913    -209.252     187.100\n",
            "sales_5            -35.2279    135.280     -0.260      0.795    -300.372     229.917\n",
            "sales_6                   0          0        nan        nan           0           0\n",
            "sales_7            -82.8025    101.604     -0.815      0.415    -281.943     116.338\n",
            "sales_8            -19.9608     60.531     -0.330      0.742    -138.599      98.678\n",
            "sales_9            -42.7115     57.374     -0.744      0.457    -155.162      69.739\n",
            "sales_10           309.2103    126.686      2.441      0.015      60.910     557.511\n",
            "sales_11           374.9313    139.085      2.696      0.007     102.330     647.533\n",
            "sales_12                  0          0        nan        nan           0           0\n",
            "sales_13                  0          0        nan        nan           0           0\n",
            "sales_14                  0          0        nan        nan           0           0\n",
            "sales_15                  0          0        nan        nan           0           0\n",
            "sales_16                  0          0        nan        nan           0           0\n",
            "sales_17           -62.9454    155.758     -0.404      0.686    -368.226     242.335\n",
            "sales_18                  0          0        nan        nan           0           0\n",
            "sales_19                  0          0        nan        nan           0           0\n",
            "sales_20                  0          0        nan        nan           0           0\n",
            "sales_21           -42.3038     57.524     -0.735      0.462    -155.049      70.441\n",
            "sales_22                  0          0        nan        nan           0           0\n",
            "sales_23                  0          0        nan        nan           0           0\n",
            "sales_24           -72.2316     54.034     -1.337      0.181    -178.137      33.674\n",
            "sales_25            80.2103    126.686      0.633      0.527    -168.090     328.511\n",
            "sales_26           -45.8038    101.623     -0.451      0.652    -244.980     153.373\n",
            "sales_27                  0          0        nan        nan           0           0\n",
            "sales_28          -143.8025    101.604     -1.415      0.157    -342.943      55.338\n",
            "sales_29                  0          0        nan        nan           0           0\n",
            "sales_30                  0          0        nan        nan           0           0\n",
            "====================================================================================\n"
          ]
        }
      ],
      "source": [
        "import statsmodels.api as sm\n",
        "X_train_with_ones = sm.add_constant(X_train)\n",
        "glm = sm.GLM(y_train, X_train_with_ones, family=sm.families.Gaussian())\n",
        "glm_results = glm.fit()\n",
        "print(glm_results.summary())"
      ]
    },
    {
      "cell_type": "markdown",
      "metadata": {
        "id": "7IAchWHodnOB"
      },
      "source": [
        "2. Use the model created above to generate predictions."
      ]
    },
    {
      "cell_type": "code",
      "execution_count": 34,
      "metadata": {
        "id": "XLTsITX7dnOC",
        "colab": {
          "base_uri": "https://localhost:8080/"
        },
        "outputId": "6959ee4f-54b0-499a-9224-7400e2a806ec"
      },
      "outputs": [
        {
          "output_type": "stream",
          "name": "stderr",
          "text": [
            "/usr/local/lib/python3.7/dist-packages/statsmodels/tsa/tsatools.py:117: FutureWarning: In a future version of pandas all arguments of concat except for the argument 'objs' will be keyword-only\n",
            "  x = pd.concat(x[::order], 1)\n"
          ]
        }
      ],
      "source": [
        "# I have used this link to better understand GLM model and how to do the prediction http://www.science.smith.edu/~jcrouser/SDS293/labs/lab4-py.html\n",
        "test_X_glm = sm.add_constant(X_test)\n",
        "y_pred_GLM = glm_results.predict(test_X_glm)\n",
        "y_pred_GLM[y_pred_GLM < 0] = 0"
      ]
    },
    {
      "cell_type": "markdown",
      "metadata": {
        "id": "qaOOzUFHpA3q"
      },
      "source": [
        "3. Calculate the MSE and R^2 score."
      ]
    },
    {
      "cell_type": "code",
      "execution_count": 35,
      "metadata": {
        "id": "rfI9vW29pA3q",
        "colab": {
          "base_uri": "https://localhost:8080/"
        },
        "outputId": "1fb5b32d-dcb0-4951-bae4-ab9d1934f22f"
      },
      "outputs": [
        {
          "output_type": "stream",
          "name": "stdout",
          "text": [
            "MSE 6199.303664419516\n",
            "RMSE 78.73565688059963\n",
            "R2 Score 0.5977653265103126\n"
          ]
        }
      ],
      "source": [
        "GLM_MSE = MSE(y_test, y_pred_GLM)\n",
        "GLM_RMSE = math.sqrt(MSE(y_test,y_pred_GLM))\n",
        "GLM_R2 = r2_score(y_test, y_pred_GLM)\n",
        "\n",
        "print(\"MSE\", GLM_MSE)\n",
        "print(\"RMSE\", GLM_RMSE)\n",
        "print (\"R2 Score\", GLM_R2)"
      ]
    },
    {
      "cell_type": "markdown",
      "metadata": {
        "id": "17FDuCPlpA3q"
      },
      "source": [
        "4. Make a plot showing both the true values (`y_test`) and the predicted values (`y_pred_GLM`)."
      ]
    },
    {
      "cell_type": "code",
      "execution_count": 36,
      "metadata": {
        "id": "D3reoVrfpA3q",
        "colab": {
          "base_uri": "https://localhost:8080/",
          "height": 282
        },
        "outputId": "71d623d9-8c64-4acb-9311-53cfd73a60a6"
      },
      "outputs": [
        {
          "output_type": "execute_result",
          "data": {
            "text/plain": [
              "<matplotlib.collections.PathCollection at 0x7f6c8e2554d0>"
            ]
          },
          "metadata": {},
          "execution_count": 36
        },
        {
          "output_type": "display_data",
          "data": {
            "image/png": "[encoded data removed]",
            "text/plain": [
              "<Figure size 432x288 with 1 Axes>"
            ]
          },
          "metadata": {
            "needs_background": "light"
          }
        }
      ],
      "source": [
        "plt.scatter(range(len(y_test)), y_test,  color='green')\n",
        "plt.scatter(range(len(y_pred_GLM)), y_pred_GLM, color='red', linewidth=3)"
      ]
    },
    {
      "cell_type": "markdown",
      "metadata": {
        "id": "Vld0rNUcdnOG"
      },
      "source": [
        "### Random Forest Regression\n",
        "\n",
        "5. Use the `RandomForestRegressor` from scikit-learn to train a model.\n",
        "\n",
        "    The relevant parameters are the `max_depth` of the trees and the `random_state` (used so your code will always yield the same results).\n",
        "    \n",
        "    Note: we don't need to add a column of ones for non-linear models like Random Forests."
      ]
    },
    {
      "cell_type": "code",
      "execution_count": 37,
      "metadata": {
        "id": "EbxRUm3UdnOG",
        "colab": {
          "base_uri": "https://localhost:8080/"
        },
        "outputId": "68847d71-22bd-4eeb-945e-9b8ac16c08cf"
      },
      "outputs": [
        {
          "output_type": "stream",
          "name": "stderr",
          "text": [
            "/usr/local/lib/python3.7/dist-packages/ipykernel_launcher.py:3: DataConversionWarning: A column-vector y was passed when a 1d array was expected. Please change the shape of y to (n_samples,), for example using ravel().\n",
            "  This is separate from the ipykernel package so we can avoid doing imports until\n"
          ]
        },
        {
          "output_type": "execute_result",
          "data": {
            "text/plain": [
              "RandomForestRegressor(max_depth=5, random_state=0)"
            ]
          },
          "metadata": {},
          "execution_count": 37
        }
      ],
      "source": [
        "from sklearn.ensemble import RandomForestRegressor\n",
        "regr = RandomForestRegressor(max_depth=5, random_state=0)\n",
        "regr.fit(X_train, y_train)"
      ]
    },
    {
      "cell_type": "markdown",
      "metadata": {
        "id": "qt2pdO8epA3r"
      },
      "source": [
        "6. Use the model created above to generate predictions."
      ]
    },
    {
      "cell_type": "code",
      "execution_count": 38,
      "metadata": {
        "id": "IBvJm5jLpA3r"
      },
      "outputs": [],
      "source": [
        "y_pred_RF = regr.predict(X_test)\n",
        "y_pred_RF[y_pred_RF < 0] = 0"
      ]
    },
    {
      "cell_type": "markdown",
      "metadata": {
        "id": "ahR9G63gpA3r"
      },
      "source": [
        "7. Calculate the MSE and R^2 score."
      ]
    },
    {
      "cell_type": "code",
      "execution_count": 39,
      "metadata": {
        "id": "oEXm5BI6pA3r",
        "colab": {
          "base_uri": "https://localhost:8080/"
        },
        "outputId": "20264b4f-bb06-46d0-dfea-efad5d9a3f41"
      },
      "outputs": [
        {
          "output_type": "stream",
          "name": "stdout",
          "text": [
            "MSE 4308.133720398956\n",
            "RMSE 65.63637497911472\n",
            "R2 Score 0.720471708730718\n"
          ]
        }
      ],
      "source": [
        "random_forest_MSE = MSE(y_test, y_pred_RF)\n",
        "random_forest_RMSE = math.sqrt(random_forest_MSE)\n",
        "random_forest_R2 = r2_score(y_test, y_pred_RF)\n",
        "\n",
        "print(\"MSE\", random_forest_MSE )\n",
        "print(\"RMSE\", random_forest_RMSE)\n",
        "print (\"R2 Score\", random_forest_R2)"
      ]
    },
    {
      "cell_type": "markdown",
      "metadata": {
        "id": "kWsH33repA3r"
      },
      "source": [
        "8. Make a plot showing both the true values (`y_test`) and the predicted values (`y_pred_GLM`)."
      ]
    },
    {
      "cell_type": "code",
      "execution_count": 40,
      "metadata": {
        "id": "40b35WTCpA3r",
        "colab": {
          "base_uri": "https://localhost:8080/",
          "height": 282
        },
        "outputId": "0824c9df-1313-47d8-ab7f-ce0aca598b01"
      },
      "outputs": [
        {
          "output_type": "execute_result",
          "data": {
            "text/plain": [
              "<matplotlib.collections.PathCollection at 0x7f6c8d20be10>"
            ]
          },
          "metadata": {},
          "execution_count": 40
        },
        {
          "output_type": "display_data",
          "data": {
            "image/png": "[encoded data removed]",
            "text/plain": [
              "<Figure size 432x288 with 1 Axes>"
            ]
          },
          "metadata": {
            "needs_background": "light"
          }
        }
      ],
      "source": [
        "plt.scatter(range(len(y_test)), y_test,  color='green')\n",
        "plt.scatter(range(len(y_pred_GLM)), y_pred_GLM, color='red', linewidth=3)"
      ]
    },
    {
      "cell_type": "markdown",
      "metadata": {
        "id": "bxx1JrikdnON"
      },
      "source": [
        "\n",
        "## Task 7: Compare the Models\n",
        "\n",
        "1. Populate the table below with the results of your experiments above. Which models performed best?"
      ]
    },
    {
      "cell_type": "code",
      "source": [
        "data = [[\"Gradient Descent\",gradient_RMSE, gradient_MSE, gradient_R2],\n",
        "        [\"Normal Equations\",normal_equations_RMSE, normal_equations_MSE, normal_equations_R2],\n",
        "        [\"Regularized Normal Equations\",regularized_RMSE, regularized_MSE, regularized_R2],\n",
        "        [\"Generalized Linear Model\",GLM_RMSE, GLM_MSE, GLM_R2],\n",
        "        [\"Random Forest\",random_forest_RMSE, random_forest_MSE, random_forest_R2]]\n",
        "dataframe = pd.DataFrame(data, columns=[\"Method\", \"RMSE\", \"MSE\", \"R2\"])\n",
        "dataframe.sort_values(by='MSE', ascending=True)"
      ],
      "metadata": {
        "colab": {
          "base_uri": "https://localhost:8080/",
          "height": 204
        },
        "id": "f7GcLezWaZ0s",
        "outputId": "41df9d86-9a93-4fc2-878f-4a4fe0b5f095"
      },
      "execution_count": 41,
      "outputs": [
        {
          "output_type": "execute_result",
          "data": {
            "text/html": [
              "\n",
              "  <div id=\"df-1358de3b-2f86-4bf0-b390-7a326b2878c3\">\n",
              "    <div class=\"colab-df-container\">\n",
              "      <div>\n",
              "<style scoped>\n",
              "    .dataframe tbody tr th:only-of-type {\n",
              "        vertical-align: middle;\n",
              "    }\n",
              "\n",
              "    .dataframe tbody tr th {\n",
              "        vertical-align: top;\n",
              "    }\n",
              "\n",
              "    .dataframe thead th {\n",
              "        text-align: right;\n",
              "    }\n",
              "</style>\n",
              "<table border=\"1\" class=\"dataframe\">\n",
              "  <thead>\n",
              "    <tr style=\"text-align: right;\">\n",
              "      <th></th>\n",
              "      <th>Method</th>\n",
              "      <th>RMSE</th>\n",
              "      <th>MSE</th>\n",
              "      <th>R2</th>\n",
              "    </tr>\n",
              "  </thead>\n",
              "  <tbody>\n",
              "    <tr>\n",
              "      <th>4</th>\n",
              "      <td>Random Forest</td>\n",
              "      <td>65.636375</td>\n",
              "      <td>4308.133720</td>\n",
              "      <td>0.720472</td>\n",
              "    </tr>\n",
              "    <tr>\n",
              "      <th>0</th>\n",
              "      <td>Gradient Descent</td>\n",
              "      <td>75.512968</td>\n",
              "      <td>5702.208266</td>\n",
              "      <td>0.630019</td>\n",
              "    </tr>\n",
              "    <tr>\n",
              "      <th>2</th>\n",
              "      <td>Regularized Normal Equations</td>\n",
              "      <td>75.984312</td>\n",
              "      <td>5773.615608</td>\n",
              "      <td>0.625386</td>\n",
              "    </tr>\n",
              "    <tr>\n",
              "      <th>1</th>\n",
              "      <td>Normal Equations</td>\n",
              "      <td>78.735657</td>\n",
              "      <td>6199.303664</td>\n",
              "      <td>0.597765</td>\n",
              "    </tr>\n",
              "    <tr>\n",
              "      <th>3</th>\n",
              "      <td>Generalized Linear Model</td>\n",
              "      <td>78.735657</td>\n",
              "      <td>6199.303664</td>\n",
              "      <td>0.597765</td>\n",
              "    </tr>\n",
              "  </tbody>\n",
              "</table>\n",
              "</div>\n",
              "      <button class=\"colab-df-convert\" onclick=\"convertToInteractive('df-1358de3b-2f86-4bf0-b390-7a326b2878c3')\"\n",
              "              title=\"Convert this dataframe to an interactive table.\"\n",
              "              style=\"display:none;\">\n",
              "        \n",
              "  <svg xmlns=\"http://www.w3.org/2000/svg\" height=\"24px\"viewBox=\"0 0 24 24\"\n",
              "       width=\"24px\">\n",
              "    <path d=\"M0 0h24v24H0V0z\" fill=\"none\"/>\n",
              "    <path d=\"M18.56 5.44l.94 2.06.94-2.06 2.06-.94-2.06-.94-.94-2.06-.94 2.06-2.06.94zm-11 1L8.5 8.5l.94-2.06 2.06-.94-2.06-.94L8.5 2.5l-.94 2.06-2.06.94zm10 10l.94 2.06.94-2.06 2.06-.94-2.06-.94-.94-2.06-.94 2.06-2.06.94z\"/><path d=\"M17.41 7.96l-1.37-1.37c-.4-.4-.92-.59-1.43-.59-.52 0-1.04.2-1.43.59L10.3 9.45l-7.72 7.72c-.78.78-.78 2.05 0 2.83L4 21.41c.39.39.9.59 1.41.59.51 0 1.02-.2 1.41-.59l7.78-7.78 2.81-2.81c.8-.78.8-2.07 0-2.86zM5.41 20L4 18.59l7.72-7.72 1.47 1.35L5.41 20z\"/>\n",
              "  </svg>\n",
              "      </button>\n",
              "      \n",
              "  <style>\n",
              "    .colab-df-container {\n",
              "      display:flex;\n",
              "      flex-wrap:wrap;\n",
              "      gap: 12px;\n",
              "    }\n",
              "\n",
              "    .colab-df-convert {\n",
              "      background-color: #E8F0FE;\n",
              "      border: none;\n",
              "      border-radius: 50%;\n",
              "      cursor: pointer;\n",
              "      display: none;\n",
              "      fill: #1967D2;\n",
              "      height: 32px;\n",
              "      padding: 0 0 0 0;\n",
              "      width: 32px;\n",
              "    }\n",
              "\n",
              "    .colab-df-convert:hover {\n",
              "      background-color: #E2EBFA;\n",
              "      box-shadow: 0px 1px 2px rgba(60, 64, 67, 0.3), 0px 1px 3px 1px rgba(60, 64, 67, 0.15);\n",
              "      fill: #174EA6;\n",
              "    }\n",
              "\n",
              "    [theme=dark] .colab-df-convert {\n",
              "      background-color: #3B4455;\n",
              "      fill: #D2E3FC;\n",
              "    }\n",
              "\n",
              "    [theme=dark] .colab-df-convert:hover {\n",
              "      background-color: #434B5C;\n",
              "      box-shadow: 0px 1px 3px 1px rgba(0, 0, 0, 0.15);\n",
              "      filter: drop-shadow(0px 1px 2px rgba(0, 0, 0, 0.3));\n",
              "      fill: #FFFFFF;\n",
              "    }\n",
              "  </style>\n",
              "\n",
              "      <script>\n",
              "        const buttonEl =\n",
              "          document.querySelector('#df-1358de3b-2f86-4bf0-b390-7a326b2878c3 button.colab-df-convert');\n",
              "        buttonEl.style.display =\n",
              "          google.colab.kernel.accessAllowed ? 'block' : 'none';\n",
              "\n",
              "        async function convertToInteractive(key) {\n",
              "          const element = document.querySelector('#df-1358de3b-2f86-4bf0-b390-7a326b2878c3');\n",
              "          const dataTable =\n",
              "            await google.colab.kernel.invokeFunction('convertToInteractive',\n",
              "                                                     [key], {});\n",
              "          if (!dataTable) return;\n",
              "\n",
              "          const docLinkHtml = 'Like what you see? Visit the ' +\n",
              "            '<a target=\"_blank\" href=https://colab.research.google.com/notebooks/data_table.ipynb>data table notebook</a>'\n",
              "            + ' to learn more about interactive tables.';\n",
              "          element.innerHTML = '';\n",
              "          dataTable['output_type'] = 'display_data';\n",
              "          await google.colab.output.renderOutput(dataTable, element);\n",
              "          const docLink = document.createElement('div');\n",
              "          docLink.innerHTML = docLinkHtml;\n",
              "          element.appendChild(docLink);\n",
              "        }\n",
              "      </script>\n",
              "    </div>\n",
              "  </div>\n",
              "  "
            ],
            "text/plain": [
              "                         Method       RMSE          MSE        R2\n",
              "4                 Random Forest  65.636375  4308.133720  0.720472\n",
              "0              Gradient Descent  75.512968  5702.208266  0.630019\n",
              "2  Regularized Normal Equations  75.984312  5773.615608  0.625386\n",
              "1              Normal Equations  78.735657  6199.303664  0.597765\n",
              "3      Generalized Linear Model  78.735657  6199.303664  0.597765"
            ]
          },
          "metadata": {},
          "execution_count": 41
        }
      ]
    }
  ],
  "metadata": {
    "colab": {
      "collapsed_sections": [],
      "name": "Tesla Sales Predictions.ipynb",
      "provenance": [],
      "toc_visible": true
    },
    "kernelspec": {
      "display_name": "Python 3",
      "language": "python",
      "name": "python3"
    },
    "language_info": {
      "codemirror_mode": {
        "name": "ipython",
        "version": 3
      },
      "file_extension": ".py",
      "mimetype": "text/x-python",
      "name": "python",
      "nbconvert_exporter": "python",
      "pygments_lexer": "ipython3",
      "version": "3.8.5"
    }
  },
  "nbformat": 4,
  "nbformat_minor": 0
}