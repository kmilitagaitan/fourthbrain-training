{
 "nbformat": 4,
 "nbformat_minor": 0,
 "metadata": {
  "colab": {
   "name": "Intro_to_AutoMLipynb",
   "provenance": [],
   "collapsed_sections": []
  },
  "kernelspec": {
   "display_name": "Python 3",
   "name": "python3"
  },
  "widgets": {
   "application/vnd.jupyter.widget-state+json": {
    "fee4a163e96a4b12a9b96cfc0142bf1a": {
     "model_module": "@jupyter-widgets/controls",
     "model_name": "HBoxModel",
     "model_module_version": "1.5.0",
     "state": {
      "_view_name": "HBoxView",
      "_dom_classes": [],
      "_model_name": "HBoxModel",
      "_view_module": "@jupyter-widgets/controls",
      "_model_module_version": "1.5.0",
      "_view_count": null,
      "_view_module_version": "1.5.0",
      "box_style": "",
      "layout": "IPY_MODEL_6cb36a2b19564f0d98e7e666d697569e",
      "_model_module": "@jupyter-widgets/controls",
      "children": [
       "IPY_MODEL_2832591ffa864c149bede0e8710216b1",
       "IPY_MODEL_3a240d257689425a97647bbceff06f52",
       "IPY_MODEL_ad9d4a4f12ec4c589f5bcf53cb03ae21"
      ]
     }
    },
    "6cb36a2b19564f0d98e7e666d697569e": {
     "model_module": "@jupyter-widgets/base",
     "model_name": "LayoutModel",
     "model_module_version": "1.2.0",
     "state": {
      "_view_name": "LayoutView",
      "grid_template_rows": null,
      "right": null,
      "justify_content": null,
      "_view_module": "@jupyter-widgets/base",
      "overflow": null,
      "_model_module_version": "1.2.0",
      "_view_count": null,
      "flex_flow": null,
      "width": null,
      "min_width": null,
      "border": null,
      "align_items": null,
      "bottom": null,
      "_model_module": "@jupyter-widgets/base",
      "top": null,
      "grid_column": null,
      "overflow_y": null,
      "overflow_x": null,
      "grid_auto_flow": null,
      "grid_area": null,
      "grid_template_columns": null,
      "flex": null,
      "_model_name": "LayoutModel",
      "justify_items": null,
      "grid_row": null,
      "max_height": null,
      "align_content": null,
      "visibility": null,
      "align_self": null,
      "height": null,
      "min_height": null,
      "padding": null,
      "grid_auto_rows": null,
      "grid_gap": null,
      "max_width": null,
      "order": null,
      "_view_module_version": "1.2.0",
      "grid_template_areas": null,
      "object_position": null,
      "object_fit": null,
      "grid_auto_columns": null,
      "margin": null,
      "display": null,
      "left": null
     }
    },
    "2832591ffa864c149bede0e8710216b1": {
     "model_module": "@jupyter-widgets/controls",
     "model_name": "HTMLModel",
     "model_module_version": "1.5.0",
     "state": {
      "_view_name": "HTMLView",
      "style": "IPY_MODEL_bb50f51a09a841b0b21d0018e69bff61",
      "_dom_classes": [],
      "description": "",
      "_model_name": "HTMLModel",
      "placeholder": "​",
      "_view_module": "@jupyter-widgets/controls",
      "_model_module_version": "1.5.0",
      "value": "Optimization Progress:   3%",
      "_view_count": null,
      "_view_module_version": "1.5.0",
      "description_tooltip": null,
      "_model_module": "@jupyter-widgets/controls",
      "layout": "IPY_MODEL_1fcd09e1dcf84f5ca690668d5397f288"
     }
    },
    "3a240d257689425a97647bbceff06f52": {
     "model_module": "@jupyter-widgets/controls",
     "model_name": "FloatProgressModel",
     "model_module_version": "1.5.0",
     "state": {
      "_view_name": "ProgressView",
      "style": "IPY_MODEL_bb8d91cc6f48446fbd73b2fd5564a6d3",
      "_dom_classes": [],
      "description": "",
      "_model_name": "FloatProgressModel",
      "bar_style": "danger",
      "max": 300,
      "_view_module": "@jupyter-widgets/controls",
      "_model_module_version": "1.5.0",
      "value": 9,
      "_view_count": null,
      "_view_module_version": "1.5.0",
      "orientation": "horizontal",
      "min": 0,
      "description_tooltip": null,
      "_model_module": "@jupyter-widgets/controls",
      "layout": "IPY_MODEL_b5e5731f977c4669b2f97976a9292c0e"
     }
    },
    "ad9d4a4f12ec4c589f5bcf53cb03ae21": {
     "model_module": "@jupyter-widgets/controls",
     "model_name": "HTMLModel",
     "model_module_version": "1.5.0",
     "state": {
      "_view_name": "HTMLView",
      "style": "IPY_MODEL_3ad4ba49a3494ac6908a7a6cb836f9d5",
      "_dom_classes": [],
      "description": "",
      "_model_name": "HTMLModel",
      "placeholder": "​",
      "_view_module": "@jupyter-widgets/controls",
      "_model_module_version": "1.5.0",
      "value": " 9/300 [00:54&lt;19:40,  4.06s/pipeline]",
      "_view_count": null,
      "_view_module_version": "1.5.0",
      "description_tooltip": null,
      "_model_module": "@jupyter-widgets/controls",
      "layout": "IPY_MODEL_d1d95836f4fb41f893d2667c37c88caf"
     }
    },
    "bb50f51a09a841b0b21d0018e69bff61": {
     "model_module": "@jupyter-widgets/controls",
     "model_name": "DescriptionStyleModel",
     "model_module_version": "1.5.0",
     "state": {
      "_view_name": "StyleView",
      "_model_name": "DescriptionStyleModel",
      "description_width": "",
      "_view_module": "@jupyter-widgets/base",
      "_model_module_version": "1.5.0",
      "_view_count": null,
      "_view_module_version": "1.2.0",
      "_model_module": "@jupyter-widgets/controls"
     }
    },
    "1fcd09e1dcf84f5ca690668d5397f288": {
     "model_module": "@jupyter-widgets/base",
     "model_name": "LayoutModel",
     "model_module_version": "1.2.0",
     "state": {
      "_view_name": "LayoutView",
      "grid_template_rows": null,
      "right": null,
      "justify_content": null,
      "_view_module": "@jupyter-widgets/base",
      "overflow": null,
      "_model_module_version": "1.2.0",
      "_view_count": null,
      "flex_flow": null,
      "width": null,
      "min_width": null,
      "border": null,
      "align_items": null,
      "bottom": null,
      "_model_module": "@jupyter-widgets/base",
      "top": null,
      "grid_column": null,
      "overflow_y": null,
      "overflow_x": null,
      "grid_auto_flow": null,
      "grid_area": null,
      "grid_template_columns": null,
      "flex": null,
      "_model_name": "LayoutModel",
      "justify_items": null,
      "grid_row": null,
      "max_height": null,
      "align_content": null,
      "visibility": null,
      "align_self": null,
      "height": null,
      "min_height": null,
      "padding": null,
      "grid_auto_rows": null,
      "grid_gap": null,
      "max_width": null,
      "order": null,
      "_view_module_version": "1.2.0",
      "grid_template_areas": null,
      "object_position": null,
      "object_fit": null,
      "grid_auto_columns": null,
      "margin": null,
      "display": null,
      "left": null
     }
    },
    "bb8d91cc6f48446fbd73b2fd5564a6d3": {
     "model_module": "@jupyter-widgets/controls",
     "model_name": "ProgressStyleModel",
     "model_module_version": "1.5.0",
     "state": {
      "_view_name": "StyleView",
      "_model_name": "ProgressStyleModel",
      "description_width": "",
      "_view_module": "@jupyter-widgets/base",
      "_model_module_version": "1.5.0",
      "_view_count": null,
      "_view_module_version": "1.2.0",
      "bar_color": null,
      "_model_module": "@jupyter-widgets/controls"
     }
    },
    "b5e5731f977c4669b2f97976a9292c0e": {
     "model_module": "@jupyter-widgets/base",
     "model_name": "LayoutModel",
     "model_module_version": "1.2.0",
     "state": {
      "_view_name": "LayoutView",
      "grid_template_rows": null,
      "right": null,
      "justify_content": null,
      "_view_module": "@jupyter-widgets/base",
      "overflow": null,
      "_model_module_version": "1.2.0",
      "_view_count": null,
      "flex_flow": null,
      "width": null,
      "min_width": null,
      "border": null,
      "align_items": null,
      "bottom": null,
      "_model_module": "@jupyter-widgets/base",
      "top": null,
      "grid_column": null,
      "overflow_y": null,
      "overflow_x": null,
      "grid_auto_flow": null,
      "grid_area": null,
      "grid_template_columns": null,
      "flex": null,
      "_model_name": "LayoutModel",
      "justify_items": null,
      "grid_row": null,
      "max_height": null,
      "align_content": null,
      "visibility": null,
      "align_self": null,
      "height": null,
      "min_height": null,
      "padding": null,
      "grid_auto_rows": null,
      "grid_gap": null,
      "max_width": null,
      "order": null,
      "_view_module_version": "1.2.0",
      "grid_template_areas": null,
      "object_position": null,
      "object_fit": null,
      "grid_auto_columns": null,
      "margin": null,
      "display": null,
      "left": null
     }
    },
    "3ad4ba49a3494ac6908a7a6cb836f9d5": {
     "model_module": "@jupyter-widgets/controls",
     "model_name": "DescriptionStyleModel",
     "model_module_version": "1.5.0",
     "state": {
      "_view_name": "StyleView",
      "_model_name": "DescriptionStyleModel",
      "description_width": "",
      "_view_module": "@jupyter-widgets/base",
      "_model_module_version": "1.5.0",
      "_view_count": null,
      "_view_module_version": "1.2.0",
      "_model_module": "@jupyter-widgets/controls"
     }
    },
    "d1d95836f4fb41f893d2667c37c88caf": {
     "model_module": "@jupyter-widgets/base",
     "model_name": "LayoutModel",
     "model_module_version": "1.2.0",
     "state": {
      "_view_name": "LayoutView",
      "grid_template_rows": null,
      "right": null,
      "justify_content": null,
      "_view_module": "@jupyter-widgets/base",
      "overflow": null,
      "_model_module_version": "1.2.0",
      "_view_count": null,
      "flex_flow": null,
      "width": null,
      "min_width": null,
      "border": null,
      "align_items": null,
      "bottom": null,
      "_model_module": "@jupyter-widgets/base",
      "top": null,
      "grid_column": null,
      "overflow_y": null,
      "overflow_x": null,
      "grid_auto_flow": null,
      "grid_area": null,
      "grid_template_columns": null,
      "flex": null,
      "_model_name": "LayoutModel",
      "justify_items": null,
      "grid_row": null,
      "max_height": null,
      "align_content": null,
      "visibility": null,
      "align_self": null,
      "height": null,
      "min_height": null,
      "padding": null,
      "grid_auto_rows": null,
      "grid_gap": null,
      "max_width": null,
      "order": null,
      "_view_module_version": "1.2.0",
      "grid_template_areas": null,
      "object_position": null,
      "object_fit": null,
      "grid_auto_columns": null,
      "margin": null,
      "display": null,
      "left": null
     }
    },
    "3a62956d20774960b7b14900d818035f": {
     "model_module": "@jupyter-widgets/controls",
     "model_name": "HBoxModel",
     "model_module_version": "1.5.0",
     "state": {
      "_view_name": "HBoxView",
      "_dom_classes": [],
      "_model_name": "HBoxModel",
      "_view_module": "@jupyter-widgets/controls",
      "_model_module_version": "1.5.0",
      "_view_count": null,
      "_view_module_version": "1.5.0",
      "box_style": "",
      "layout": "IPY_MODEL_a29c48dd909c45619431dc5921e8c25e",
      "_model_module": "@jupyter-widgets/controls",
      "children": [
       "IPY_MODEL_cae85952611c4c98a42edc79e8b8f112",
       "IPY_MODEL_50edbc3deb9246c69133ad2ba99cc7c5",
       "IPY_MODEL_3da197f8a7fc4ae7aa5dc2cf3db57976"
      ]
     }
    },
    "a29c48dd909c45619431dc5921e8c25e": {
     "model_module": "@jupyter-widgets/base",
     "model_name": "LayoutModel",
     "model_module_version": "1.2.0",
     "state": {
      "_view_name": "LayoutView",
      "grid_template_rows": null,
      "right": null,
      "justify_content": null,
      "_view_module": "@jupyter-widgets/base",
      "overflow": null,
      "_model_module_version": "1.2.0",
      "_view_count": null,
      "flex_flow": null,
      "width": null,
      "min_width": null,
      "border": null,
      "align_items": null,
      "bottom": null,
      "_model_module": "@jupyter-widgets/base",
      "top": null,
      "grid_column": null,
      "overflow_y": null,
      "overflow_x": null,
      "grid_auto_flow": null,
      "grid_area": null,
      "grid_template_columns": null,
      "flex": null,
      "_model_name": "LayoutModel",
      "justify_items": null,
      "grid_row": null,
      "max_height": null,
      "align_content": null,
      "visibility": null,
      "align_self": null,
      "height": null,
      "min_height": null,
      "padding": null,
      "grid_auto_rows": null,
      "grid_gap": null,
      "max_width": null,
      "order": null,
      "_view_module_version": "1.2.0",
      "grid_template_areas": null,
      "object_position": null,
      "object_fit": null,
      "grid_auto_columns": null,
      "margin": null,
      "display": null,
      "left": null
     }
    },
    "cae85952611c4c98a42edc79e8b8f112": {
     "model_module": "@jupyter-widgets/controls",
     "model_name": "HTMLModel",
     "model_module_version": "1.5.0",
     "state": {
      "_view_name": "HTMLView",
      "style": "IPY_MODEL_4a9d4348ea7a424eb6b123a9f8ad220a",
      "_dom_classes": [],
      "description": "",
      "_model_name": "HTMLModel",
      "placeholder": "​",
      "_view_module": "@jupyter-widgets/controls",
      "_model_module_version": "1.5.0",
      "value": "Optimization Progress:   3%",
      "_view_count": null,
      "_view_module_version": "1.5.0",
      "description_tooltip": null,
      "_model_module": "@jupyter-widgets/controls",
      "layout": "IPY_MODEL_33f37ed5476e4e2ca5d9f6f411026e13"
     }
    },
    "50edbc3deb9246c69133ad2ba99cc7c5": {
     "model_module": "@jupyter-widgets/controls",
     "model_name": "FloatProgressModel",
     "model_module_version": "1.5.0",
     "state": {
      "_view_name": "ProgressView",
      "style": "IPY_MODEL_c69b1dc806c747b4b78bca57e4466c12",
      "_dom_classes": [],
      "description": "",
      "_model_name": "FloatProgressModel",
      "bar_style": "",
      "max": 300,
      "_view_module": "@jupyter-widgets/controls",
      "_model_module_version": "1.5.0",
      "value": 9,
      "_view_count": null,
      "_view_module_version": "1.5.0",
      "orientation": "horizontal",
      "min": 0,
      "description_tooltip": null,
      "_model_module": "@jupyter-widgets/controls",
      "layout": "IPY_MODEL_6230c9ec33454a8e8bae53b2332e8aeb"
     }
    },
    "3da197f8a7fc4ae7aa5dc2cf3db57976": {
     "model_module": "@jupyter-widgets/controls",
     "model_name": "HTMLModel",
     "model_module_version": "1.5.0",
     "state": {
      "_view_name": "HTMLView",
      "style": "IPY_MODEL_edf9746df1cc42b98c6469ee64b1d757",
      "_dom_classes": [],
      "description": "",
      "_model_name": "HTMLModel",
      "placeholder": "​",
      "_view_module": "@jupyter-widgets/controls",
      "_model_module_version": "1.5.0",
      "value": " 9/300 [00:39&lt;26:22,  5.44s/pipeline]",
      "_view_count": null,
      "_view_module_version": "1.5.0",
      "description_tooltip": null,
      "_model_module": "@jupyter-widgets/controls",
      "layout": "IPY_MODEL_540b3e89f00949ef853c2c417f93903e"
     }
    },
    "4a9d4348ea7a424eb6b123a9f8ad220a": {
     "model_module": "@jupyter-widgets/controls",
     "model_name": "DescriptionStyleModel",
     "model_module_version": "1.5.0",
     "state": {
      "_view_name": "StyleView",
      "_model_name": "DescriptionStyleModel",
      "description_width": "",
      "_view_module": "@jupyter-widgets/base",
      "_model_module_version": "1.5.0",
      "_view_count": null,
      "_view_module_version": "1.2.0",
      "_model_module": "@jupyter-widgets/controls"
     }
    },
    "33f37ed5476e4e2ca5d9f6f411026e13": {
     "model_module": "@jupyter-widgets/base",
     "model_name": "LayoutModel",
     "model_module_version": "1.2.0",
     "state": {
      "_view_name": "LayoutView",
      "grid_template_rows": null,
      "right": null,
      "justify_content": null,
      "_view_module": "@jupyter-widgets/base",
      "overflow": null,
      "_model_module_version": "1.2.0",
      "_view_count": null,
      "flex_flow": null,
      "width": null,
      "min_width": null,
      "border": null,
      "align_items": null,
      "bottom": null,
      "_model_module": "@jupyter-widgets/base",
      "top": null,
      "grid_column": null,
      "overflow_y": null,
      "overflow_x": null,
      "grid_auto_flow": null,
      "grid_area": null,
      "grid_template_columns": null,
      "flex": null,
      "_model_name": "LayoutModel",
      "justify_items": null,
      "grid_row": null,
      "max_height": null,
      "align_content": null,
      "visibility": null,
      "align_self": null,
      "height": null,
      "min_height": null,
      "padding": null,
      "grid_auto_rows": null,
      "grid_gap": null,
      "max_width": null,
      "order": null,
      "_view_module_version": "1.2.0",
      "grid_template_areas": null,
      "object_position": null,
      "object_fit": null,
      "grid_auto_columns": null,
      "margin": null,
      "display": null,
      "left": null
     }
    },
    "c69b1dc806c747b4b78bca57e4466c12": {
     "model_module": "@jupyter-widgets/controls",
     "model_name": "ProgressStyleModel",
     "model_module_version": "1.5.0",
     "state": {
      "_view_name": "StyleView",
      "_model_name": "ProgressStyleModel",
      "description_width": "",
      "_view_module": "@jupyter-widgets/base",
      "_model_module_version": "1.5.0",
      "_view_count": null,
      "_view_module_version": "1.2.0",
      "bar_color": null,
      "_model_module": "@jupyter-widgets/controls"
     }
    },
    "6230c9ec33454a8e8bae53b2332e8aeb": {
     "model_module": "@jupyter-widgets/base",
     "model_name": "LayoutModel",
     "model_module_version": "1.2.0",
     "state": {
      "_view_name": "LayoutView",
      "grid_template_rows": null,
      "right": null,
      "justify_content": null,
      "_view_module": "@jupyter-widgets/base",
      "overflow": null,
      "_model_module_version": "1.2.0",
      "_view_count": null,
      "flex_flow": null,
      "width": null,
      "min_width": null,
      "border": null,
      "align_items": null,
      "bottom": null,
      "_model_module": "@jupyter-widgets/base",
      "top": null,
      "grid_column": null,
      "overflow_y": null,
      "overflow_x": null,
      "grid_auto_flow": null,
      "grid_area": null,
      "grid_template_columns": null,
      "flex": null,
      "_model_name": "LayoutModel",
      "justify_items": null,
      "grid_row": null,
      "max_height": null,
      "align_content": null,
      "visibility": null,
      "align_self": null,
      "height": null,
      "min_height": null,
      "padding": null,
      "grid_auto_rows": null,
      "grid_gap": null,
      "max_width": null,
      "order": null,
      "_view_module_version": "1.2.0",
      "grid_template_areas": null,
      "object_position": null,
      "object_fit": null,
      "grid_auto_columns": null,
      "margin": null,
      "display": null,
      "left": null
     }
    },
    "edf9746df1cc42b98c6469ee64b1d757": {
     "model_module": "@jupyter-widgets/controls",
     "model_name": "DescriptionStyleModel",
     "model_module_version": "1.5.0",
     "state": {
      "_view_name": "StyleView",
      "_model_name": "DescriptionStyleModel",
      "description_width": "",
      "_view_module": "@jupyter-widgets/base",
      "_model_module_version": "1.5.0",
      "_view_count": null,
      "_view_module_version": "1.2.0",
      "_model_module": "@jupyter-widgets/controls"
     }
    },
    "540b3e89f00949ef853c2c417f93903e": {
     "model_module": "@jupyter-widgets/base",
     "model_name": "LayoutModel",
     "model_module_version": "1.2.0",
     "state": {
      "_view_name": "LayoutView",
      "grid_template_rows": null,
      "right": null,
      "justify_content": null,
      "_view_module": "@jupyter-widgets/base",
      "overflow": null,
      "_model_module_version": "1.2.0",
      "_view_count": null,
      "flex_flow": null,
      "width": null,
      "min_width": null,
      "border": null,
      "align_items": null,
      "bottom": null,
      "_model_module": "@jupyter-widgets/base",
      "top": null,
      "grid_column": null,
      "overflow_y": null,
      "overflow_x": null,
      "grid_auto_flow": null,
      "grid_area": null,
      "grid_template_columns": null,
      "flex": null,
      "_model_name": "LayoutModel",
      "justify_items": null,
      "grid_row": null,
      "max_height": null,
      "align_content": null,
      "visibility": null,
      "align_self": null,
      "height": null,
      "min_height": null,
      "padding": null,
      "grid_auto_rows": null,
      "grid_gap": null,
      "max_width": null,
      "order": null,
      "_view_module_version": "1.2.0",
      "grid_template_areas": null,
      "object_position": null,
      "object_fit": null,
      "grid_auto_columns": null,
      "margin": null,
      "display": null,
      "left": null
     }
    }
   }
  }
 },
 "cells": [
  {
   "cell_type": "markdown",
   "metadata": {
    "id": "9F_yqSWA6eDE"
   },
   "source": [
    "# AutoML can be a strong tool to ensure optimal data models while scaling applications and to maintain repeatability.\n",
    "## In this session we explore the capabilities of AutoML through TPOT with possible extensions to autosklearn libraries.\n",
    "\n",
    "## The data set is a subsection of the data we worked on for the Live In class assignment for Classification (Machine Learning Engineer@Walmart Labs). We use 25k random samples from train and test data, respectively for this exercise (to demonstrate AutoML libraries).\n",
    "\n",
    "### Created by Sohini Roychowdhury for FourthBrain.ai"
   ]
  },
  {
   "cell_type": "markdown",
   "metadata": {
    "id": "ToenLVdS66oN"
   },
   "source": [
    "## Task 1, Data Loading: Load the data and create Training and Test data sets.\n",
    "We look first 25k samples from the training and test data sets from the Week 2 Live assignment. The data is pre-wrangled and one-hot encoded already."
   ]
  },
  {
   "cell_type": "code",
   "metadata": {
    "id": "-dqXIOAc64vU"
   },
   "source": [
    "## Importing required Libraries\n",
    "import os\n",
    "import tensorflow as tf\n",
    "import numpy as np\n",
    "import pandas as pd\n",
    "import seaborn as sns"
   ],
   "execution_count": 1,
   "outputs": []
  },
  {
   "cell_type": "code",
   "metadata": {
    "id": "22SLxFTh7JIS",
    "outputId": "740330c1-476c-47ca-887a-2e230f96b163",
    "colab": {
     "base_uri": "https://localhost:8080/",
     "height": 336
    }
   },
   "source": [
    "#Read the training data\n",
    "url = 'https://raw.githubusercontent.com/FourthBrain/AutoMLA/main/Train_data.csv'\n",
    "df = pd.read_csv(url, error_bad_lines=False)\n",
    "df.head()"
   ],
   "execution_count": 2,
   "outputs": [
    {
     "name": "stderr",
     "output_type": "stream",
     "text": [
      "/Users/camilagaitanmosquera/opt/anaconda3/envs/tensorflow-env/lib/python3.7/site-packages/IPython/core/interactiveshell.py:3457: FutureWarning: The error_bad_lines argument has been deprecated and will be removed in a future version.\n",
      "\n",
      "\n",
      "  exec(code_obj, self.user_global_ns, self.user_ns)\n"
     ]
    },
    {
     "data": {
      "text/plain": "   NumOfEventsInJourney  NumSessions  interactionTime  maxPrice  minPrice  \\\n0                     1            1                0     50.63     50.63   \n1                     1            1                0    126.00    126.00   \n2                     1            1                0    334.60    334.60   \n3                     1            1                0     43.24     43.24   \n4                     1            1                0    421.38    421.38   \n\n   NumCart  NumView  InsessionCart  InsessionView  year  month  weekday  \\\n0        0        0              0              0  2019     11        7   \n1        0        1              0              1  2019     11        5   \n2        0        1              0              1  2019     11        2   \n3        0        1              0              1  2019     11        3   \n4        0        1              0              2  2019     11        7   \n\n   timeOfDay  Weekend  Purchase  \n0          2        0         1  \n1          1        0         0  \n2          1        0         0  \n3          5        0         0  \n4          2        0         0  ",
      "text/html": "<div>\n<style scoped>\n    .dataframe tbody tr th:only-of-type {\n        vertical-align: middle;\n    }\n\n    .dataframe tbody tr th {\n        vertical-align: top;\n    }\n\n    .dataframe thead th {\n        text-align: right;\n    }\n</style>\n<table border=\"1\" class=\"dataframe\">\n  <thead>\n    <tr style=\"text-align: right;\">\n      <th></th>\n      <th>NumOfEventsInJourney</th>\n      <th>NumSessions</th>\n      <th>interactionTime</th>\n      <th>maxPrice</th>\n      <th>minPrice</th>\n      <th>NumCart</th>\n      <th>NumView</th>\n      <th>InsessionCart</th>\n      <th>InsessionView</th>\n      <th>year</th>\n      <th>month</th>\n      <th>weekday</th>\n      <th>timeOfDay</th>\n      <th>Weekend</th>\n      <th>Purchase</th>\n    </tr>\n  </thead>\n  <tbody>\n    <tr>\n      <th>0</th>\n      <td>1</td>\n      <td>1</td>\n      <td>0</td>\n      <td>50.63</td>\n      <td>50.63</td>\n      <td>0</td>\n      <td>0</td>\n      <td>0</td>\n      <td>0</td>\n      <td>2019</td>\n      <td>11</td>\n      <td>7</td>\n      <td>2</td>\n      <td>0</td>\n      <td>1</td>\n    </tr>\n    <tr>\n      <th>1</th>\n      <td>1</td>\n      <td>1</td>\n      <td>0</td>\n      <td>126.00</td>\n      <td>126.00</td>\n      <td>0</td>\n      <td>1</td>\n      <td>0</td>\n      <td>1</td>\n      <td>2019</td>\n      <td>11</td>\n      <td>5</td>\n      <td>1</td>\n      <td>0</td>\n      <td>0</td>\n    </tr>\n    <tr>\n      <th>2</th>\n      <td>1</td>\n      <td>1</td>\n      <td>0</td>\n      <td>334.60</td>\n      <td>334.60</td>\n      <td>0</td>\n      <td>1</td>\n      <td>0</td>\n      <td>1</td>\n      <td>2019</td>\n      <td>11</td>\n      <td>2</td>\n      <td>1</td>\n      <td>0</td>\n      <td>0</td>\n    </tr>\n    <tr>\n      <th>3</th>\n      <td>1</td>\n      <td>1</td>\n      <td>0</td>\n      <td>43.24</td>\n      <td>43.24</td>\n      <td>0</td>\n      <td>1</td>\n      <td>0</td>\n      <td>1</td>\n      <td>2019</td>\n      <td>11</td>\n      <td>3</td>\n      <td>5</td>\n      <td>0</td>\n      <td>0</td>\n    </tr>\n    <tr>\n      <th>4</th>\n      <td>1</td>\n      <td>1</td>\n      <td>0</td>\n      <td>421.38</td>\n      <td>421.38</td>\n      <td>0</td>\n      <td>1</td>\n      <td>0</td>\n      <td>2</td>\n      <td>2019</td>\n      <td>11</td>\n      <td>7</td>\n      <td>2</td>\n      <td>0</td>\n      <td>0</td>\n    </tr>\n  </tbody>\n</table>\n</div>"
     },
     "execution_count": 2,
     "metadata": {},
     "output_type": "execute_result"
    }
   ]
  },
  {
   "cell_type": "code",
   "metadata": {
    "id": "sztUukLE7fgS",
    "outputId": "36ea40f0-8604-45cc-f18f-6fb2f2524f50",
    "colab": {
     "base_uri": "https://localhost:8080/"
    }
   },
   "source": [
    "X_train=df.iloc[:,:-1].values\n",
    "y_train=df.iloc[:,-1].values\n",
    "print(X_train.shape)"
   ],
   "execution_count": 3,
   "outputs": [
    {
     "name": "stdout",
     "output_type": "stream",
     "text": [
      "(25000, 14)\n"
     ]
    }
   ]
  },
  {
   "cell_type": "code",
   "metadata": {
    "id": "2xG-LUZZ7s-5",
    "outputId": "89ca6960-2da1-4364-b19d-8cacd3c57147",
    "colab": {
     "base_uri": "https://localhost:8080/",
     "height": 353
    }
   },
   "source": [
    "#Now read and create test data\n",
    "url_t = 'https://raw.githubusercontent.com/FourthBrain/AutoMLA/main/Test_data.csv'\n",
    "df_test = pd.read_csv(url_t, error_bad_lines=False)\n",
    "X_test=df_test.iloc[:,:-1].values\n",
    "y_test=df_test.iloc[:,-1].values\n",
    "print(X_test.shape)\n",
    "df_test.head()"
   ],
   "execution_count": 4,
   "outputs": [
    {
     "name": "stderr",
     "output_type": "stream",
     "text": [
      "/Users/camilagaitanmosquera/opt/anaconda3/envs/tensorflow-env/lib/python3.7/site-packages/IPython/core/interactiveshell.py:3457: FutureWarning: The error_bad_lines argument has been deprecated and will be removed in a future version.\n",
      "\n",
      "\n",
      "  exec(code_obj, self.user_global_ns, self.user_ns)\n"
     ]
    },
    {
     "name": "stdout",
     "output_type": "stream",
     "text": [
      "(25000, 14)\n"
     ]
    },
    {
     "data": {
      "text/plain": "   NumOfEventsInJourney  NumSessions  interactionTime  maxPrice  minPrice  \\\n0                     2            1               30    242.99    242.99   \n1                     1            1                0    869.11    869.11   \n2                     1            1                0    715.33    715.33   \n3                     1            1                0    771.27    771.27   \n4                     1            1                0     15.42     15.42   \n\n   NumCart  NumView  InsessionCart  InsessionView  year  month  weekday  \\\n0        0        2              0              4  2019     11        5   \n1        0        1              0              1  2019     11        6   \n2        1        0              1              0  2019     11        5   \n3        0        1              0              1  2019     11        5   \n4        0        1              0              1  2019     11        1   \n\n   timeOfDay  Weekend  Purchase  \n0          4        0         0  \n1          3        0         0  \n2          6        0         0  \n3          3        0         0  \n4          5        0         0  ",
      "text/html": "<div>\n<style scoped>\n    .dataframe tbody tr th:only-of-type {\n        vertical-align: middle;\n    }\n\n    .dataframe tbody tr th {\n        vertical-align: top;\n    }\n\n    .dataframe thead th {\n        text-align: right;\n    }\n</style>\n<table border=\"1\" class=\"dataframe\">\n  <thead>\n    <tr style=\"text-align: right;\">\n      <th></th>\n      <th>NumOfEventsInJourney</th>\n      <th>NumSessions</th>\n      <th>interactionTime</th>\n      <th>maxPrice</th>\n      <th>minPrice</th>\n      <th>NumCart</th>\n      <th>NumView</th>\n      <th>InsessionCart</th>\n      <th>InsessionView</th>\n      <th>year</th>\n      <th>month</th>\n      <th>weekday</th>\n      <th>timeOfDay</th>\n      <th>Weekend</th>\n      <th>Purchase</th>\n    </tr>\n  </thead>\n  <tbody>\n    <tr>\n      <th>0</th>\n      <td>2</td>\n      <td>1</td>\n      <td>30</td>\n      <td>242.99</td>\n      <td>242.99</td>\n      <td>0</td>\n      <td>2</td>\n      <td>0</td>\n      <td>4</td>\n      <td>2019</td>\n      <td>11</td>\n      <td>5</td>\n      <td>4</td>\n      <td>0</td>\n      <td>0</td>\n    </tr>\n    <tr>\n      <th>1</th>\n      <td>1</td>\n      <td>1</td>\n      <td>0</td>\n      <td>869.11</td>\n      <td>869.11</td>\n      <td>0</td>\n      <td>1</td>\n      <td>0</td>\n      <td>1</td>\n      <td>2019</td>\n      <td>11</td>\n      <td>6</td>\n      <td>3</td>\n      <td>0</td>\n      <td>0</td>\n    </tr>\n    <tr>\n      <th>2</th>\n      <td>1</td>\n      <td>1</td>\n      <td>0</td>\n      <td>715.33</td>\n      <td>715.33</td>\n      <td>1</td>\n      <td>0</td>\n      <td>1</td>\n      <td>0</td>\n      <td>2019</td>\n      <td>11</td>\n      <td>5</td>\n      <td>6</td>\n      <td>0</td>\n      <td>0</td>\n    </tr>\n    <tr>\n      <th>3</th>\n      <td>1</td>\n      <td>1</td>\n      <td>0</td>\n      <td>771.27</td>\n      <td>771.27</td>\n      <td>0</td>\n      <td>1</td>\n      <td>0</td>\n      <td>1</td>\n      <td>2019</td>\n      <td>11</td>\n      <td>5</td>\n      <td>3</td>\n      <td>0</td>\n      <td>0</td>\n    </tr>\n    <tr>\n      <th>4</th>\n      <td>1</td>\n      <td>1</td>\n      <td>0</td>\n      <td>15.42</td>\n      <td>15.42</td>\n      <td>0</td>\n      <td>1</td>\n      <td>0</td>\n      <td>1</td>\n      <td>2019</td>\n      <td>11</td>\n      <td>1</td>\n      <td>5</td>\n      <td>0</td>\n      <td>0</td>\n    </tr>\n  </tbody>\n</table>\n</div>"
     },
     "execution_count": 4,
     "metadata": {},
     "output_type": "execute_result"
    }
   ]
  },
  {
   "cell_type": "markdown",
   "metadata": {
    "id": "zZYARfkm8ewN"
   },
   "source": [
    "# Task 2, Baselining: Apply Logistic Regression, Linear SVM and Random forest (as done in class) to get some baseline classification performances to classsify purchase vs non purchase records."
   ]
  },
  {
   "cell_type": "code",
   "metadata": {
    "id": "b0Nds24N8ubR"
   },
   "source": [
    "from sklearn.linear_model import LogisticRegression\n",
    "from sklearn.metrics import confusion_matrix\n",
    "from sklearn.metrics import accuracy_score as accuracy\n",
    "from sklearn.metrics import recall_score as recall\n",
    "from sklearn.metrics import precision_score as precision\n",
    "from sklearn.metrics import f1_score\n",
    "from sklearn.pipeline import make_pipeline\n",
    "from sklearn.preprocessing import StandardScaler\n",
    "from sklearn.svm import LinearSVC"
   ],
   "execution_count": 5,
   "outputs": []
  },
  {
   "cell_type": "code",
   "metadata": {
    "id": "rc7P_cLE8z4l",
    "outputId": "7011c482-ee41-420f-fd77-92068cb9abcd",
    "colab": {
     "base_uri": "https://localhost:8080/"
    }
   },
   "source": [
    "#i. Balanced Logistic Regression\n",
    "regb = LogisticRegression(random_state=42, C=0.05,class_weight='balanced').fit(X_train, y_train)\n",
    "reg_predb = regb.predict(X_test)\n",
    "cmlog = confusion_matrix(y_test, reg_predb)\n",
    "acc   = accuracy(y_test, reg_predb)\n",
    "rec   = recall(y_test, reg_predb)\n",
    "prec  = precision(y_test, reg_predb)\n",
    "f1    = f1_score(y_test, reg_predb)\n",
    "### END CODE HERE ###\n",
    "# Print the metrics, display the confusion matrix, and visualize the model\n",
    "print(f'Accuracy = {acc}, Precision = {prec}, Recall = {rec}, F1-score = {f1}')\n",
    "print('Confusion Matrix is:')\n",
    "print(cmlog)"
   ],
   "execution_count": 6,
   "outputs": [
    {
     "name": "stdout",
     "output_type": "stream",
     "text": [
      "Accuracy = 0.94348, Precision = 0.19660620245757754, Recall = 0.8936170212765957, F1-score = 0.32230215827338127\n",
      "Confusion Matrix is:\n",
      "[[23251  1373]\n",
      " [   40   336]]\n"
     ]
    }
   ]
  },
  {
   "cell_type": "code",
   "metadata": {
    "id": "QUQVHRGa9M5_",
    "outputId": "eb3cc090-f8c2-4c25-8273-f4143b8320a1",
    "colab": {
     "base_uri": "https://localhost:8080/"
    }
   },
   "source": [
    "#ii. Linear SVM\n",
    "svmm = make_pipeline(StandardScaler(),LinearSVC(random_state=42, tol=1e-1,class_weight='balanced'))\n",
    "svmm.fit(X_train, y_train)\n",
    "svm_predb = svmm.predict(X_test)\n",
    "cms  = confusion_matrix(y_test, svm_predb)\n",
    "acc  = accuracy(y_test, svm_predb)\n",
    "rec  = recall(y_test, svm_predb)\n",
    "prec = precision(y_test, svm_predb)\n",
    "f1   = f1_score(y_test, svm_predb)\n",
    "### END CODE HERE ###\n",
    "# Print the metrics, display the confusion matrix, and visualize the model\n",
    "print(f'Accuracy = {acc}, Precision = {prec}, Recall = {rec}, F1-score = {f1}')\n",
    "print('Confusion Matrix is:')\n",
    "print(cms)"
   ],
   "execution_count": 7,
   "outputs": [
    {
     "name": "stdout",
     "output_type": "stream",
     "text": [
      "Accuracy = 1.0, Precision = 1.0, Recall = 1.0, F1-score = 1.0\n",
      "Confusion Matrix is:\n",
      "[[24624     0]\n",
      " [    0   376]]\n"
     ]
    }
   ]
  },
  {
   "cell_type": "code",
   "metadata": {
    "id": "hfAJsw5_9kan",
    "outputId": "951d0a7b-23b5-4c23-e8fc-c94679416a42",
    "colab": {
     "base_uri": "https://localhost:8080/"
    }
   },
   "source": [
    "#iii. Random Forest\n",
    "from sklearn.ensemble import RandomForestClassifier\n",
    "\n",
    "rf_model = RandomForestClassifier(random_state=1, max_depth=20)\n",
    "rf_model.fit(X_train, y_train)\n",
    "rf_pred = rf_model.predict(X_test)\n",
    "cmrf=confusion_matrix(y_test, rf_pred)\n",
    "acc  = accuracy(y_test, rf_pred)\n",
    "rec  = recall(y_test, rf_pred)\n",
    "prec = precision(y_test, rf_pred)\n",
    "f1   = f1_score(y_test, rf_pred)\n",
    "print(f'Accuracy = {acc}, Precision = {prec}, Recall = {rec}, F1-score = {f1}')\n",
    "print('Confusion Matrix is:')\n",
    "print(cmrf)"
   ],
   "execution_count": 8,
   "outputs": [
    {
     "name": "stdout",
     "output_type": "stream",
     "text": [
      "Accuracy = 0.99868, Precision = 1.0, Recall = 0.9122340425531915, F1-score = 0.9541029207232268\n",
      "Confusion Matrix is:\n",
      "[[24624     0]\n",
      " [   33   343]]\n"
     ]
    }
   ]
  },
  {
   "cell_type": "markdown",
   "metadata": {
    "id": "Y0eMvVqEGuV0"
   },
   "source": [
    "# Task 3: Run AutoML using TPOT (Tree-based Pipeline Optimization Tool). Consider TPOT your Data Science Assistant.\n",
    "\n",
    "TPOT will automate the most tedious part of machine learning by intelligently exploring thousands of possible pipelines to find the best one for your data.\n",
    "\n",
    "[Docu](http://epistasislab.github.io/tpot/using/),\n",
    "[Github Code](https://github.com/EpistasisLab/tpot)\n",
    "\n",
    "[Paper] (https://academic.oup.com/bioinformatics/article/36/1/250/5511404)\n",
    "\n",
    "## Blog: https://machinelearningmastery.com/tpot-for-automated-machine-learning-in-python/"
   ]
  },
  {
   "cell_type": "markdown",
   "metadata": {
    "id": "ONJ7fd7sqciK"
   },
   "source": [
    "# Installation\n",
    "\n",
    "The notebook was created based on \n",
    "tpot 0.11.6"
   ]
  },
  {
   "cell_type": "code",
   "metadata": {
    "id": "0i3oHFF5qgGO",
    "outputId": "7f23411d-e1e5-432b-c7e0-b13c22b932d4",
    "colab": {
     "base_uri": "https://localhost:8080/"
    }
   },
   "source": [
    "!pip install tpot"
   ],
   "execution_count": 9,
   "outputs": [
    {
     "name": "stdout",
     "output_type": "stream",
     "text": [
      "Requirement already satisfied: tpot in /Users/camilagaitanmosquera/opt/anaconda3/envs/tensorflow-env/lib/python3.7/site-packages (0.11.7)\r\n",
      "Requirement already satisfied: tqdm>=4.36.1 in /Users/camilagaitanmosquera/opt/anaconda3/envs/tensorflow-env/lib/python3.7/site-packages (from tpot) (4.62.3)\r\n",
      "Requirement already satisfied: scipy>=1.3.1 in /Users/camilagaitanmosquera/opt/anaconda3/envs/tensorflow-env/lib/python3.7/site-packages (from tpot) (1.7.3)\r\n",
      "Requirement already satisfied: stopit>=1.1.1 in /Users/camilagaitanmosquera/opt/anaconda3/envs/tensorflow-env/lib/python3.7/site-packages (from tpot) (1.1.2)\r\n",
      "Requirement already satisfied: scikit-learn>=0.22.0 in /Users/camilagaitanmosquera/opt/anaconda3/envs/tensorflow-env/lib/python3.7/site-packages (from tpot) (1.0.2)\r\n",
      "Requirement already satisfied: deap>=1.2 in /Users/camilagaitanmosquera/opt/anaconda3/envs/tensorflow-env/lib/python3.7/site-packages (from tpot) (1.3.1)\r\n",
      "Requirement already satisfied: xgboost>=1.1.0 in /Users/camilagaitanmosquera/opt/anaconda3/envs/tensorflow-env/lib/python3.7/site-packages (from tpot) (1.5.2)\r\n",
      "Requirement already satisfied: update-checker>=0.16 in /Users/camilagaitanmosquera/opt/anaconda3/envs/tensorflow-env/lib/python3.7/site-packages (from tpot) (0.18.0)\r\n",
      "Requirement already satisfied: pandas>=0.24.2 in /Users/camilagaitanmosquera/opt/anaconda3/envs/tensorflow-env/lib/python3.7/site-packages (from tpot) (1.3.4)\r\n",
      "Requirement already satisfied: joblib>=0.13.2 in /Users/camilagaitanmosquera/opt/anaconda3/envs/tensorflow-env/lib/python3.7/site-packages (from tpot) (1.1.0)\r\n",
      "Requirement already satisfied: numpy>=1.16.3 in /Users/camilagaitanmosquera/opt/anaconda3/envs/tensorflow-env/lib/python3.7/site-packages (from tpot) (1.19.5)\r\n",
      "Requirement already satisfied: python-dateutil>=2.7.3 in /Users/camilagaitanmosquera/opt/anaconda3/envs/tensorflow-env/lib/python3.7/site-packages (from pandas>=0.24.2->tpot) (2.8.2)\r\n",
      "Requirement already satisfied: pytz>=2017.3 in /Users/camilagaitanmosquera/opt/anaconda3/envs/tensorflow-env/lib/python3.7/site-packages (from pandas>=0.24.2->tpot) (2021.3)\r\n",
      "Requirement already satisfied: six>=1.5 in /Users/camilagaitanmosquera/opt/anaconda3/envs/tensorflow-env/lib/python3.7/site-packages (from python-dateutil>=2.7.3->pandas>=0.24.2->tpot) (1.16.0)\r\n",
      "Requirement already satisfied: threadpoolctl>=2.0.0 in /Users/camilagaitanmosquera/opt/anaconda3/envs/tensorflow-env/lib/python3.7/site-packages (from scikit-learn>=0.22.0->tpot) (2.2.0)\r\n",
      "Requirement already satisfied: requests>=2.3.0 in /Users/camilagaitanmosquera/opt/anaconda3/envs/tensorflow-env/lib/python3.7/site-packages (from update-checker>=0.16->tpot) (2.27.1)\r\n",
      "Requirement already satisfied: certifi>=2017.4.17 in /Users/camilagaitanmosquera/opt/anaconda3/envs/tensorflow-env/lib/python3.7/site-packages (from requests>=2.3.0->update-checker>=0.16->tpot) (2021.10.8)\r\n",
      "Requirement already satisfied: urllib3<1.27,>=1.21.1 in /Users/camilagaitanmosquera/opt/anaconda3/envs/tensorflow-env/lib/python3.7/site-packages (from requests>=2.3.0->update-checker>=0.16->tpot) (1.26.8)\r\n",
      "Requirement already satisfied: idna<4,>=2.5 in /Users/camilagaitanmosquera/opt/anaconda3/envs/tensorflow-env/lib/python3.7/site-packages (from requests>=2.3.0->update-checker>=0.16->tpot) (3.3)\r\n",
      "Requirement already satisfied: charset-normalizer~=2.0.0 in /Users/camilagaitanmosquera/opt/anaconda3/envs/tensorflow-env/lib/python3.7/site-packages (from requests>=2.3.0->update-checker>=0.16->tpot) (2.0.4)\r\n"
     ]
    }
   ]
  },
  {
   "cell_type": "code",
   "metadata": {
    "id": "UInC289AuB75"
   },
   "source": [
    "# ignore some annoying warnings for demonstrating auto-sklearn \n",
    "# shouldn't be done in real production\n",
    "np.warnings.filterwarnings('ignore')"
   ],
   "execution_count": 10,
   "outputs": []
  },
  {
   "cell_type": "markdown",
   "metadata": {
    "id": "0JUWCq3vsE8P"
   },
   "source": [
    "# Task 3a.\n",
    "\n",
    "We want to find the best classifier for the data set at hand.\n",
    "TPOT aids hyper-parameterization across the following class of classifiers:\n",
    "1. Naive Bayes\n",
    "2. Decision Trees\n",
    "3. RandomForestClassifier\n",
    "4. GradientBoostingClassifier\n",
    "5. KNeighborsClassifier\n",
    "6. Linear SVM\n",
    "7. Logistic Regression\n",
    "8. Xtreme Gradient Boosting\n",
    "\n",
    "Related Blog with description: https://towardsdatascience.com/tpot-automated-machine-learning-in-python-4c063b3e5de9"
   ]
  },
  {
   "cell_type": "code",
   "metadata": {
    "id": "DAoEV5boHiy6",
    "outputId": "814aaec3-b8d2-4c1b-a7ce-4410e22574c3",
    "colab": {
     "base_uri": "https://localhost:8080/"
    }
   },
   "source": [
    "from tpot import TPOTClassifier\n",
    "print('Training features shape: ', X_train.shape)\n",
    "print('Testing features shape:  ', X_test.shape)"
   ],
   "execution_count": 11,
   "outputs": [
    {
     "name": "stdout",
     "output_type": "stream",
     "text": [
      "Training features shape:  (25000, 14)\n",
      "Testing features shape:   (25000, 14)\n"
     ]
    }
   ]
  },
  {
   "cell_type": "markdown",
   "metadata": {
    "id": "o53-HUHoa3w7"
   },
   "source": [
    "## The following prcess will take time (few hours), but you get a progress bar to follow time elapsed."
   ]
  },
  {
   "cell_type": "code",
   "metadata": {
    "id": "nlaiS3Ouq9Tm",
    "outputId": "48a8f809-5a6f-405c-95ef-2f1ba87afcd1",
    "colab": {
     "base_uri": "https://localhost:8080/",
     "height": 239,
     "referenced_widgets": [
      "fee4a163e96a4b12a9b96cfc0142bf1a",
      "6cb36a2b19564f0d98e7e666d697569e",
      "2832591ffa864c149bede0e8710216b1",
      "3a240d257689425a97647bbceff06f52",
      "ad9d4a4f12ec4c589f5bcf53cb03ae21",
      "bb50f51a09a841b0b21d0018e69bff61",
      "1fcd09e1dcf84f5ca690668d5397f288",
      "bb8d91cc6f48446fbd73b2fd5564a6d3",
      "b5e5731f977c4669b2f97976a9292c0e",
      "3ad4ba49a3494ac6908a7a6cb836f9d5",
      "d1d95836f4fb41f893d2667c37c88caf"
     ]
    },
    "pycharm": {
     "is_executing": true
    }
   },
   "source": [
    "%%time\n",
    "tpot = TPOTClassifier(generations=5, population_size=50, verbosity=2, random_state=42)\n",
    "tpot.fit(X_train, y_train)\n",
    "print(tpot.score(X_test, y_test))\n",
    "tpot.export('tpot_iris_pipeline.py')\n"
   ],
   "execution_count": null,
   "outputs": [
    {
     "name": "stdout",
     "output_type": "stream",
     "text": [
      "Warning: xgboost.XGBClassifier is not available and will not be used by TPOT.\n"
     ]
    },
    {
     "data": {
      "text/plain": "Optimization Progress:   0%|          | 0/300 [00:00<?, ?pipeline/s]",
      "application/vnd.jupyter.widget-view+json": {
       "version_major": 2,
       "version_minor": 0,
       "model_id": "60613afa699e4994986bb906161853d4"
      }
     },
     "metadata": {},
     "output_type": "display_data"
    },
    {
     "name": "stdout",
     "output_type": "stream",
     "text": [
      "\n",
      "Generation 1 - Current best internal CV score: 0.99992\n",
      "\n",
      "Generation 2 - Current best internal CV score: 0.99992\n",
      "\n",
      "Generation 3 - Current best internal CV score: 0.99992\n",
      "\n",
      "Generation 4 - Current best internal CV score: 1.0\n"
     ]
    }
   ]
  },
  {
   "cell_type": "markdown",
   "metadata": {
    "id": "mNUwJsUuBqSS"
   },
   "source": [
    "So the best classifier is SVM with C=15, tol=0.01, l2 penalty, This verifies our findings above!"
   ]
  },
  {
   "cell_type": "code",
   "metadata": {
    "id": "BAMO4KfA_r3D",
    "pycharm": {
     "is_executing": true
    }
   },
   "source": [
    "from sklearn.pipeline import make_pipeline\n",
    "from tpot.builtins import StackingEstimator\n",
    "from tpot.export_utils import set_param_recursive\n",
    "from sklearn.tree import DecisionTreeClassifier\n",
    "exported_pipeline = make_pipeline(\n",
    "    StackingEstimator(estimator=LinearSVC(C=15, tol=0.01)),\n",
    "    DecisionTreeClassifier(max_depth=10, min_samples_leaf=3, min_samples_split=14)\n",
    ")\n",
    "# Fix random state for all the steps in exported pipeline\n",
    "set_param_recursive(exported_pipeline.steps, 'random_state', 1)\n",
    " \n",
    "exported_pipeline.fit(X_train, y_train)\n",
    "prediction = exported_pipeline.predict(X_test)"
   ],
   "execution_count": null,
   "outputs": []
  },
  {
   "cell_type": "code",
   "metadata": {
    "id": "vfw040OEBvfn",
    "outputId": "7d6729fe-6d42-480b-c496-beefb14b99dd",
    "colab": {
     "base_uri": "https://localhost:8080/"
    },
    "pycharm": {
     "is_executing": true
    }
   },
   "source": [
    "cmtp=confusion_matrix(y_test, prediction)\n",
    "acc  = accuracy(y_test, prediction)\n",
    "rec  = recall(y_test, prediction)\n",
    "prec = precision(y_test, prediction)\n",
    "f1   = f1_score(y_test, prediction)\n",
    "print(f'Accuracy = {acc}, Precision = {prec}, Recall = {rec}, F1-score = {f1}')\n",
    "print('Confusion Matrix is:')\n",
    "print(cmtp)"
   ],
   "execution_count": null,
   "outputs": []
  },
  {
   "cell_type": "markdown",
   "metadata": {
    "id": "d-FcFcozoMIp"
   },
   "source": [
    "So we see TPOT finds the best model and hyperparameters automatically!"
   ]
  },
  {
   "cell_type": "markdown",
   "metadata": {
    "id": "_X2Zjg11dGrv"
   },
   "source": [
    "# Task 3b\n",
    "\n",
    "To find the best selection of features for the given classification task"
   ]
  },
  {
   "cell_type": "code",
   "metadata": {
    "id": "XVCy1A8fn82z",
    "outputId": "27e6434d-af4c-4650-cfd3-1d9150d4481a",
    "colab": {
     "base_uri": "https://localhost:8080/",
     "height": 49,
     "referenced_widgets": [
      "3a62956d20774960b7b14900d818035f",
      "a29c48dd909c45619431dc5921e8c25e",
      "cae85952611c4c98a42edc79e8b8f112",
      "50edbc3deb9246c69133ad2ba99cc7c5",
      "3da197f8a7fc4ae7aa5dc2cf3db57976",
      "4a9d4348ea7a424eb6b123a9f8ad220a",
      "33f37ed5476e4e2ca5d9f6f411026e13",
      "c69b1dc806c747b4b78bca57e4466c12",
      "6230c9ec33454a8e8bae53b2332e8aeb",
      "edf9746df1cc42b98c6469ee64b1d757",
      "540b3e89f00949ef853c2c417f93903e"
     ]
    },
    "pycharm": {
     "is_executing": true
    }
   },
   "source": [
    "from tpot.config import classifier_config_dict\n",
    "# add FeatureSetSelector into tpot configuration\n",
    "classifier_config_dict['tpot.builtins.FeatureSetSelector'] = {\n",
    "        'subset_list': ['https://raw.githubusercontent.com/FourthBrain/AutoMLA/main/test_feature.csv'],\n",
    "        'sel_subset': [0,1] # select only one feature set, a list of index of subset in the list above\n",
    "    #'sel_subset': list(combinations(range(3), 2)) # select two feature sets\n",
    "}\n",
    "\n",
    "tpot = TPOTClassifier(generations=5,\n",
    "                           population_size=50, verbosity=2,\n",
    "                           template='FeatureSetSelector-Transformer-Classifier',\n",
    "                           config_dict=classifier_config_dict)\n",
    "tpot.fit(X_train, y_train)"
   ],
   "execution_count": null,
   "outputs": []
  },
  {
   "cell_type": "markdown",
   "metadata": {
    "id": "8xniiuaFZDzo"
   },
   "source": [
    "Thus, if we had to select only one classifying dimension, the best solution would be by applying PCA and using the first component to classify!"
   ]
  },
  {
   "cell_type": "markdown",
   "metadata": {
    "id": "PpTBJPqJDs9m"
   },
   "source": [
    "## Other well known AutoML methods are autosklearn:\n",
    "[Code] https://colab.research.google.com/drive/1Au5sGCegoGLLxqrIs85GCCW0oWIHqwQw"
   ]
  }
 ]
}