{
 "cells": [
  {
   "cell_type": "markdown",
   "metadata": {
    "id": "LBg-xdjvhQh2"
   },
   "source": [
    "# Zero Shot Learning (ZSL) \n",
    "\n",
    "In Zero Shot Learning (ZSL), there are labels in the test set that aren't in the training set.\n",
    "\n",
    "This code uses a modified version of Shrisha Bharadwaj's work at \n",
    "https://github.com/sbharadwajj/embarrassingly-simple-zero-shot-learning\n",
    "\n",
    "The Base paper is:\n",
    "An embarrassingly simple approach to zero-shot learning http://proceedings.mlr.press/v37/romera-paredes15.pdf"
   ]
  },
  {
   "cell_type": "markdown",
   "metadata": {
    "id": "17ApZX11hQh3"
   },
   "source": [
    "## Part 1: Get the dataset\n",
    "\n",
    "We will be using a dataset of images of birds. There are 788 images from 200 different types of birds each with 312 attributes. The dataset is called the CUB dataset, which stands for \"Caltech UCSB Birds\".\n",
    "\n",
    "You can obtain this and other similar datasets (such as AWA1 or SUN) [here](https://www.mpi-inf.mpg.de/departments/computer-vision-and-machine-learning/research/zero-shot-learning/zero-shot-learning-the-good-the-bad-and-the-ugly/)."
   ]
  },
  {
   "cell_type": "markdown",
   "metadata": {},
   "source": [
    "### Part 1a: Using Google Colab\n",
    "\n",
    "Go to Part 1b if you are working in Jupyter notebook.\n",
    "\n",
    "1. Upload the `CUB` folder to Google Drive."
   ]
  },
  {
   "cell_type": "markdown",
   "metadata": {},
   "source": [
    "2. Run the following cells code."
   ]
  },
  {
   "cell_type": "code",
   "execution_count": 32,
   "metadata": {
    "id": "8n75mujnrqU4"
   },
   "outputs": [],
   "source": [
    "!pip install -U -q PyDrive\n",
    "#from pydrive.auth import GoogleAuth\n",
    "#from pydrive.drive import GoogleDrive\n",
    "#from google.colab import auth\n",
    "#from oauth2client.client import GoogleCredentials\n",
    "\n",
    "#auth.authenticate_user()\n",
    "#gauth = GoogleAuth()\n",
    "#gauth.credentials = GoogleCredentials.get_application_default()\n",
    "#drive = GoogleDrive(gauth)"
   ]
  },
  {
   "cell_type": "markdown",
   "metadata": {
    "id": "q6AR4c7ivMtD"
   },
   "source": [
    "3. Before running the code below, replace the ID with ID of file you want to access.\n",
    "\n",
    "    To get this ID: \n",
    "\n",
    "    1.   Right-click on the name of the appropriate file in your Google Drive\n",
    "    2.   Click \"Get link\"\n",
    "    3.   Copy the characters between `d/` and the following slash\n",
    "    4.   Paste them into the dictionary argument of the call to `drive.CreateFile()` as the value associated with the 'id' key. Make sure that this value is a string.\n",
    "\n"
   ]
  },
  {
   "cell_type": "code",
   "execution_count": 33,
   "metadata": {
    "id": "mb5xkL1QzPYg"
   },
   "outputs": [],
   "source": [
    "#res101_id = '1QSLo_bKWyUTSYbYtGmufwzB2PSFoOJwG'\n",
    "#cub_res101 = drive.CreateFile({'id': res101_id})\n",
    "#cub_res101.GetContentFile('res101.mat')\n",
    "#att_splits_id = '1TtR3H0zfm8NeETRlOKbiSru3rhtdJTey'\n",
    "#cub_att_splits = drive.CreateFile({'id': att_splits_id})\n",
    "#cub_att_splits.GetContentFile('att_splits.mat')"
   ]
  },
  {
   "cell_type": "markdown",
   "metadata": {
    "id": "TIHe-Xi13U_h"
   },
   "source": [
    "### Part 1b: Using Jupyter Notebook\n",
    "\n",
    "1. Download the CUB folder and put it in the same location as the notebook file."
   ]
  },
  {
   "cell_type": "markdown",
   "metadata": {
    "id": "qdyK3-4OhQh_"
   },
   "source": [
    "## Part 2: Load & Investigate the Data\n",
    "\n",
    "The data is stored in `.mat` files, which is a MATLAB binary. We'll be using `scipy` to load in the data.\n",
    "\n",
    "There are two files:\n",
    "\n",
    "- `res101` contains the data with features and the corresponding labels.\n",
    "- `att_splits` contains the indices of the train, validation and test sets as well as attributes for each of the labels.\n",
    "\n",
    "1. Use the `scipy.io.loadmat()` function to load in the `.mat` files into dictionaries and save them as `res101` and `att_splits`."
   ]
  },
  {
   "cell_type": "code",
   "execution_count": 34,
   "metadata": {
    "id": "_8-yqE4fhQiA"
   },
   "outputs": [],
   "source": [
    "import scipy.io\n",
    "\n",
    "res101 = scipy.io.loadmat('data/CUB/res101.mat')\n",
    "att_splits = scipy.io.loadmat('data/CUB/att_splits.mat')"
   ]
  },
  {
   "cell_type": "markdown",
   "metadata": {
    "id": "0k26nKM2hQiP"
   },
   "source": [
    "2. Examine the `res101` and `att_splits` dictionaries and understand their fields by calling the `.keys()` method on both objects."
   ]
  },
  {
   "cell_type": "code",
   "execution_count": 35,
   "metadata": {},
   "outputs": [
    {
     "data": {
      "text/plain": "dict_keys(['__header__', '__version__', '__globals__', 'image_files', 'features', 'labels'])"
     },
     "execution_count": 35,
     "metadata": {},
     "output_type": "execute_result"
    }
   ],
   "source": [
    "res101.keys()"
   ]
  },
  {
   "cell_type": "code",
   "execution_count": 36,
   "outputs": [
    {
     "data": {
      "text/plain": "dict_keys(['__header__', '__version__', '__globals__', 'allclasses_names', 'att', 'original_att', 'test_seen_loc', 'test_unseen_loc', 'train_loc', 'trainval_loc', 'val_loc'])"
     },
     "execution_count": 36,
     "metadata": {},
     "output_type": "execute_result"
    }
   ],
   "source": [
    "att_splits.keys()"
   ],
   "metadata": {
    "collapsed": false,
    "pycharm": {
     "name": "#%%\n"
    }
   }
  },
  {
   "cell_type": "markdown",
   "metadata": {},
   "source": [
    "3. How many features and how many datapoints does the dataset have?\n",
    "\n",
    "    The data is contained in `res101['features']`.\n",
    "\n",
    "    Note: this dataset has a row for each feature and a column for each datapoint."
   ]
  },
  {
   "cell_type": "code",
   "execution_count": 37,
   "metadata": {},
   "outputs": [
    {
     "name": "stdout",
     "output_type": "stream",
     "text": [
      "Shape of the features array  = (2048, 11788)\n"
     ]
    }
   ],
   "source": [
    "print(f\"Shape of the features array  = {res101['features'].shape}\")"
   ]
  },
  {
   "cell_type": "markdown",
   "metadata": {
    "id": "vUGSbT-whQiv"
   },
   "source": [
    "We have an **attribute** matrix (or **signature** matrix) that has attribute values for each class. Each row corresponds to an attribute and each column a class (or label).\n",
    "\n",
    "For example, say the classes are `Horse` and `Zebra` and the attributes are [`wild_animal`, `4_legged`, `herbivore`]. This is what the signature matrix might look like.\n",
    "\n",
    "```\n",
    " Horse      Zebra\n",
    "[0.00354613 0.        ] wild_animal\n",
    "[0.13829921 0.20209503] 4_legged\n",
    "[0.06560347 0.04155225] herbivore\n",
    "```"
   ]
  },
  {
   "cell_type": "markdown",
   "metadata": {},
   "source": [
    "4. How many classes and how many attributes are there?\n",
    "\n",
    "    The attribute matrix can be found in `att_splits['att']`."
   ]
  },
  {
   "cell_type": "code",
   "execution_count": 38,
   "metadata": {},
   "outputs": [
    {
     "name": "stdout",
     "output_type": "stream",
     "text": [
      "Shape of the signature array = (312, 200)\n"
     ]
    }
   ],
   "source": [
    "print(f\"Shape of the signature array = {att_splits['att'].shape}\")"
   ]
  },
  {
   "cell_type": "markdown",
   "metadata": {
    "id": "-bw006lcfixc"
   },
   "source": [
    "5. Verify that the data contains 200 unique labels. The labels are found in `res101['labels']`."
   ]
  },
  {
   "cell_type": "code",
   "execution_count": 39,
   "metadata": {},
   "outputs": [
    {
     "name": "stdout",
     "output_type": "stream",
     "text": [
      "200\n"
     ]
    }
   ],
   "source": [
    "import numpy as np\n",
    "\n",
    "labels = res101['labels']\n",
    "print(len(np.unique(labels)))"
   ]
  },
  {
   "cell_type": "markdown",
   "metadata": {},
   "source": [
    "## Part 3: Prepare the training & test sets\n",
    "\n",
    "In `att_splits` there are five subsets of the data: train, val, trainval, test_seen and test_unseen.\n",
    "\n",
    "Note that trainval is the combination of the train and val sets. We will start by using the trainval set as our training set.\n",
    "\n",
    "In a typical zero-shot learning scenario, there are no overlapping classes between training and testing phase, i.e the train classes are completely different from the test classes.\n",
    "\n",
    "The test_seen set is a test set with labels already seen, so we will use the test_unseen set as our test set.\n",
    "\n",
    "1. Get list of labels for the `trainval` and `test_unseen` subsets.\n",
    "\n",
    "    The code below does the computation for trainval, so do the same for test.\n",
    "\n",
    "    Note: `att_splits['trainval_loc']` gives the locations of the data for that subset. The values will range from 1 to 11788, so we need to subtract 1 to get the indices."
   ]
  },
  {
   "cell_type": "code",
   "execution_count": 40,
   "metadata": {
    "id": "mLCBRvE_hQiW"
   },
   "outputs": [],
   "source": [
    "labels = res101['labels'].squeeze() - 1\n",
    "\n",
    "trainval_ind = att_splits['trainval_loc'].squeeze() - 1\n",
    "labels_trainval = labels[trainval_ind]\n",
    "\n",
    "test_ind = att_splits['test_unseen_loc'].squeeze() - 1\n",
    "labels_test = labels[test_ind]"
   ]
  },
  {
   "cell_type": "markdown",
   "metadata": {},
   "source": [
    "2. How many unique labels are there in each training set?\n",
    "\n",
    "    Create the numpy arrays `unique_trainval_labels` and `unique_test_labels` since we will be using them later."
   ]
  },
  {
   "cell_type": "code",
   "execution_count": 41,
   "metadata": {},
   "outputs": [
    {
     "name": "stdout",
     "output_type": "stream",
     "text": [
      "Number of unique values on trainval dataset 150\n",
      "Number of unique values on trainval dataset 50\n"
     ]
    }
   ],
   "source": [
    "print('Number of unique values on trainval dataset', len(np.unique(labels_trainval)))\n",
    "print('Number of unique values on trainval dataset', len(np.unique(labels_test)))\n",
    "\n",
    "unique_trainval_labels = np.unique(labels_trainval)\n",
    "unique_test_labels = np.unique(labels_test)\n"
   ]
  },
  {
   "cell_type": "markdown",
   "metadata": {
    "id": "q_B3YnWZhQic"
   },
   "source": [
    "3. Verify that there is no overlap between the labels in `trainval` and in `test`."
   ]
  },
  {
   "cell_type": "code",
   "execution_count": 42,
   "metadata": {},
   "outputs": [
    {
     "name": "stdout",
     "output_type": "stream",
     "text": [
      "Number of overlapping classes between train and val: 0\n"
     ]
    }
   ],
   "source": [
    "print(\"Number of overlapping classes between train and val:\",len(set(labels_trainval).intersection(set(labels_test))))"
   ]
  },
  {
   "cell_type": "markdown",
   "metadata": {},
   "source": [
    "4. Get the feature matrices for the trainval and test sets and save them as `trainval_features` and `test_features`.\n",
    "\n",
    "    Recall that the feature matrix is `res101['features']`. We need to subset the rows using `trainval_ind` and `test_ind`."
   ]
  },
  {
   "cell_type": "code",
   "execution_count": 43,
   "metadata": {},
   "outputs": [],
   "source": [
    "features = res101['features']\n",
    "trainval_features = features[:,trainval_ind]\n",
    "test_features = features[:,test_ind]\n"
   ]
  },
  {
   "cell_type": "markdown",
   "metadata": {},
   "source": [
    "5. How many datapoints and features do `trainval_features` and `test_features` have?\n",
    "\n",
    "    Note: They should both have the same number of features as the full feature matrix."
   ]
  },
  {
   "cell_type": "code",
   "execution_count": 44,
   "metadata": {},
   "outputs": [
    {
     "name": "stdout",
     "output_type": "stream",
     "text": [
      "(2048, 11788)\n",
      "(2048, 7057)\n",
      "(2048, 2967)\n"
     ]
    }
   ],
   "source": [
    "print(res101['features'].shape)\n",
    "print(trainval_features.shape)\n",
    "print(test_features.shape)"
   ]
  },
  {
   "cell_type": "markdown",
   "metadata": {
    "id": "XWwYigQLK86b"
   },
   "source": [
    "## Part 4: Prepare for the Zero Shot Learning model\n",
    "\n",
    "For our model, we need the class labels to map to array indices and not have gaps between labels. For the trainval set, we have 150 labels, but the label numbers are between 1 and 200, so there are skipped numbers. Let's reindex the labels so the numbers range for 0 to 149 for the trainval set.\n",
    "\n",
    "The test set has 50 labels, so we'll reindex the numbers to range from 0 to 49.\n",
    "\n",
    "1. The example below creates new labels for the trainval set (`labels_index_trainval`). Follow the same pattern to create new labels for the test set (`labels_index_test`)."
   ]
  },
  {
   "cell_type": "code",
   "execution_count": 45,
   "metadata": {
    "id": "t8uM4sqNhQih"
   },
   "outputs": [],
   "source": [
    "labels_index_trainval = np.zeros(labels_trainval.shape[0]).astype(int)\n",
    "for i, label in enumerate(unique_trainval_labels):\n",
    "    labels_index_trainval[labels_trainval == label] = i\n",
    "\n",
    "labels_index_test = np.zeros(labels_test.shape[0]).astype(int)\n",
    "for i, label in enumerate(unique_test_labels):\n",
    "    labels_index_test[labels_test == label] = i"
   ]
  },
  {
   "cell_type": "markdown",
   "metadata": {},
   "source": [
    "2. Verify that `labels_index_trainval` has 150 unique values ranging from 0 to 149 and that `labels_index_test` has 50 unique values ranging from 0 to 49."
   ]
  },
  {
   "cell_type": "code",
   "execution_count": 46,
   "metadata": {},
   "outputs": [
    {
     "name": "stdout",
     "output_type": "stream",
     "text": [
      "Number of unique values on labels_index_trainval dataset 150\n",
      "Number of unique values on labels_index_test dataset 50\n",
      "Range of trainval:  0 - 149\n",
      "Range of test:  0 - 49\n"
     ]
    }
   ],
   "source": [
    "print('Number of unique values on labels_index_trainval dataset', len(np.unique(labels_index_trainval)))\n",
    "print('Number of unique values on labels_index_test dataset', len(np.unique(labels_index_test)))\n",
    "\n",
    "train_array_range = np.ptp(labels_index_trainval)\n",
    "print('Range of trainval: ', np.min(labels_index_trainval), '-' , train_array_range)\n",
    "test_array_range = np.ptp(labels_index_test)\n",
    "print('Range of test: ',np.min(labels_index_test), '-' ,test_array_range)"
   ]
  },
  {
   "cell_type": "markdown",
   "metadata": {
    "id": "rpd67geQhQis"
   },
   "source": [
    "To make our model work with unseen labels, we will be using what's known as the **attribute** or **signature** matrix. This matrix has values for 312 attributes of each of the 200 labels.\n",
    "\n",
    "3. Create signature matrices for the training and test sets. Follow the example shown for `trainval_sig` to create `test_sig`."
   ]
  },
  {
   "cell_type": "code",
   "execution_count": 47,
   "metadata": {
    "colab": {
     "base_uri": "https://localhost:8080/"
    },
    "id": "whj-bUEhhQit",
    "outputId": "b9c308d0-bafc-43bb-8ae1-35baf7ca7394"
   },
   "outputs": [],
   "source": [
    "signature = att_splits['att']\n",
    "trainval_sig = signature[:, unique_trainval_labels]\n",
    "test_sig = signature[:, unique_test_labels]\n"
   ]
  },
  {
   "cell_type": "markdown",
   "metadata": {},
   "source": [
    "4. Verify the shapes of the two matrices. They should have a row for each attribute and a column for each label."
   ]
  },
  {
   "cell_type": "code",
   "execution_count": 48,
   "metadata": {},
   "outputs": [
    {
     "name": "stdout",
     "output_type": "stream",
     "text": [
      "(312, 150)\n",
      "(312, 50)\n"
     ]
    }
   ],
   "source": [
    "print(trainval_sig.shape)\n",
    "print(test_sig.shape)"
   ]
  },
  {
   "cell_type": "markdown",
   "metadata": {
    "id": "O9Q8qPu1hQi3"
   },
   "source": [
    "For our training set, we create **ground truth matrices** with dimensions `[number of datapoints] x [number of unique classes]`. Each value is 1 if the datapoint belongs to the class and 0 otherwise. So each row will have exactly one 1.\n",
    "\n",
    "5. Create the ground truth matrix for the trainval set. We initialize it to all zeros. Fill in 1's where they belong."
   ]
  },
  {
   "cell_type": "code",
   "execution_count": 49,
   "metadata": {
    "id": "IpcTiV_0hQi3"
   },
   "outputs": [],
   "source": [
    "gt_trainval = np.zeros((labels_trainval.shape[0], unique_trainval_labels.shape[0])).astype(int)\n",
    "gt_trainval[np.arange(len(labels_trainval)), np.squeeze(labels_index_trainval)] = 1"
   ]
  },
  {
   "cell_type": "markdown",
   "metadata": {
    "id": "AnQR7gyJhQi9"
   },
   "source": [
    "## Part 5: Build the Zero Shot Learning model\n",
    "\n",
    "We will be using the following formula for the zero shot learning model. First we calculate $V$ as follows.\n",
    "$$V = (X \\cdot X^T + \\alpha I_{\\texttt{n_features}})^{-1} \\cdot X \\cdot Y \\cdot S^T \\cdot (S \\cdot S^T + \\gamma I_{\\texttt{n_attributes}})^{-1}$$\n",
    "\n",
    "Here are the terms defined:\n",
    "\n",
    "* $X$: feature matrix (e.g. `trainval_features`)\n",
    "* $Y$: ground truth matrix (e.g. `gt_trainval`)\n",
    "* $S$: signature matrix (e.g. `trainval_sig`)\n",
    "* $alpha$: regularization parameter for $X$, since $X$ is wider than it is tall\n",
    "* $gamma$: regularization parameter for $S$, since $S$ is wider than it is tall\n",
    "\n",
    "After calculating $V$ from the training set, we are able to make predictions with a new test set using the following:\n",
    "\n",
    "$$\\hat{y} = \\textrm{argmax}(X_{\\texttt{test}}^T \\cdot V \\cdot S_{\\texttt{test}})$$\n",
    "\n",
    "For details on the derivation, please see the paper http://proceedings.mlr.press/v37/romera-paredes15.pdf\n",
    "\n",
    "Let's go through step by step how to build this model.\n",
    "\n",
    "1. Write the function `calculate_V` to calculate $V$ as defined above.\n",
    "\n",
    "    Notes:\n",
    "    - Use pseudoinverses rather than standard matrix inverses.\n",
    "    - Use $10^\\alpha$ as $\\alpha$. "
   ]
  },
  {
   "cell_type": "code",
   "execution_count": 50,
   "metadata": {},
   "outputs": [],
   "source": [
    "n_features = trainval_features.shape[0]\n",
    "n_attributes = trainval_sig.shape[0]\n",
    "\n",
    "def calculate_V(X, Y, S, alpha=0, gamma=0):\n",
    "    #Part 1\n",
    "    xxt_component = np.matmul(X, X.T)\n",
    "    alpha_component = alpha * np.identity(n_features)\n",
    "    inverse_part_1 = np.linalg.pinv(xxt_component + alpha_component)\n",
    "\n",
    "    ##Part 2\n",
    "\n",
    "    xy_component = np.matmul(X, Y)\n",
    "    xyst_component = np.matmul(xy_component, S.T)\n",
    "\n",
    "    ##Part 3\n",
    "\n",
    "    sst_component = np.matmul(S, S.T)\n",
    "    gamma_component = gamma * np.identity(n_attributes)\n",
    "    inverse_part_3 = np.linalg.pinv(sst_component + gamma_component)\n",
    "    part3_component = np.matmul(xyst_component, inverse_part_3 )\n",
    "\n",
    "    return np.matmul(inverse_part_1, part3_component)"
   ]
  },
  {
   "cell_type": "markdown",
   "metadata": {},
   "source": [
    "2. Verify that $V$ created using your `calculate_V()` function has the correct shape. It should have 2048 (number of features) rows and 312 (number of attributes) columns."
   ]
  },
  {
   "cell_type": "code",
   "execution_count": 51,
   "metadata": {},
   "outputs": [
    {
     "name": "stdout",
     "output_type": "stream",
     "text": [
      "(2048, 312)\n"
     ]
    }
   ],
   "source": [
    "V = calculate_V(trainval_features, gt_trainval, trainval_sig)\n",
    "V.shape == (n_features, n_attributes)\n",
    "print(V.shape)"
   ]
  },
  {
   "cell_type": "markdown",
   "metadata": {},
   "source": [
    "3. Write the function `calculate_predictions()` which finds the predictions according to\n",
    "\n",
    "    $$\\hat{y} = \\textrm{argmax}(X_{\\texttt{test}}^T \\cdot V \\cdot S_{\\texttt{test}})$$"
   ]
  },
  {
   "cell_type": "code",
   "execution_count": 52,
   "metadata": {},
   "outputs": [],
   "source": [
    "def calculate_predictions(V, X, S):\n",
    "    xtvs_component = np.matmul(np.matmul(X.T, V), S)\n",
    "    predictions_array = np.array([np.argmax(pred) for pred in xtvs_component])\n",
    "    return predictions_array"
   ]
  },
  {
   "cell_type": "markdown",
   "metadata": {},
   "source": [
    "4. Look at the first 10 predictions and compare them to the first ten values in `labels_index_test`."
   ]
  },
  {
   "cell_type": "code",
   "execution_count": 53,
   "metadata": {},
   "outputs": [
    {
     "name": "stdout",
     "output_type": "stream",
     "text": [
      "10\n",
      "Predicted label= 30\n",
      "Actual Label= 151\n",
      "Predicted label= 28\n",
      "Actual Label= 151\n",
      "Predicted label= 0\n",
      "Actual Label= 151\n",
      "Predicted label= 8\n",
      "Actual Label= 151\n",
      "Predicted label= 0\n",
      "Actual Label= 151\n",
      "Predicted label= 28\n",
      "Actual Label= 151\n",
      "Predicted label= 20\n",
      "Actual Label= 151\n",
      "Predicted label= 28\n",
      "Actual Label= 151\n",
      "Predicted label= 8\n",
      "Actual Label= 151\n"
     ]
    }
   ],
   "source": [
    "pred = calculate_predictions(V, test_features, test_sig)\n",
    "print(pred[0])\n",
    "for i in range(1,10):\n",
    "    print('Predicted label=',pred[i])\n",
    "    print('Actual Label=',labels_test[i])"
   ]
  },
  {
   "cell_type": "markdown",
   "metadata": {},
   "source": [
    "5. Calculate the confusion matrix comparing the actual labels (`labels_index_test`) with the predictions (`pred`). Save it in the `cm` variable."
   ]
  },
  {
   "cell_type": "code",
   "execution_count": 54,
   "metadata": {
    "id": "eKR9GM-D3U_t",
    "outputId": "7183da1e-5081-4b31-dbfe-a8351195f1d4"
   },
   "outputs": [
    {
     "data": {
      "text/plain": "array([[ 6,  0,  1, ..., 10,  0,  1],\n       [ 6,  0,  0, ...,  1,  0,  0],\n       [ 2,  0,  8, ...,  0,  2,  0],\n       ...,\n       [ 1,  0,  0, ...,  3,  3,  0],\n       [ 1,  0,  1, ...,  3,  0,  0],\n       [ 5,  0,  0, ...,  2,  1, 29]])"
     },
     "execution_count": 54,
     "metadata": {},
     "output_type": "execute_result"
    }
   ],
   "source": [
    "from sklearn.metrics import confusion_matrix\n",
    "\n",
    "cm = confusion_matrix(labels_index_test,pred)\n",
    "cm"
   ]
  },
  {
   "cell_type": "markdown",
   "metadata": {},
   "source": [
    "6. Use the result and the `one_percent_accuracy()` function (defined below) to get the 1% accuracy for the zero shot learning model."
   ]
  },
  {
   "cell_type": "code",
   "execution_count": 55,
   "metadata": {},
   "outputs": [
    {
     "data": {
      "text/plain": "17.141315918403354"
     },
     "execution_count": 55,
     "metadata": {},
     "output_type": "execute_result"
    }
   ],
   "source": [
    "def one_percent_accuracy(cm):\n",
    "    cm = cm / cm.sum(axis=1)[:, np.newaxis]\n",
    "    cm = np.nan_to_num(cm, nan=0)\n",
    "    return np.mean(cm.diagonal())\n",
    "\n",
    "one_percent_accuracy(cm) * 100"
   ]
  },
  {
   "cell_type": "markdown",
   "metadata": {},
   "source": [
    "7. Use the `cm_heatmap()` function (defined below) to get a heatmap of the confusion matrix. What do you observe looking at it?"
   ]
  },
  {
   "cell_type": "code",
   "execution_count": 56,
   "metadata": {
    "id": "zOCEj_Zj3U_t",
    "outputId": "521af8a0-d58a-48d3-8f79-44d98b580f01"
   },
   "outputs": [
    {
     "data": {
      "text/plain": "<Figure size 1440x1008 with 2 Axes>",
      "image/png": "[encoded data removed]"
     },
     "metadata": {},
     "output_type": "display_data"
    }
   ],
   "source": [
    "import seaborn as sn\n",
    "import pandas as pd\n",
    "import matplotlib.pyplot as plt\n",
    "\n",
    "def cm_heatmap(cm):\n",
    "    df_cm = pd.DataFrame(cm, range(cm.shape[0]), range(cm.shape[1]))\n",
    "    sn.set(font_scale=1.4) # for label size\n",
    "    plt.figure(figsize=(20, 14))\n",
    "    sn.heatmap(df_cm,annot=True, annot_kws={\"size\": 8}) # font size\n",
    "\n",
    "cm_heatmap(cm)"
   ]
  },
  {
   "cell_type": "markdown",
   "metadata": {
    "id": "kEFE7o9jhQjS"
   },
   "source": [
    "## Part 6: Hyper-Parameter Tuning\n",
    "\n",
    "For hyper-parameter tuning, we will be training on the train set and validating on the test set. So first we need to setup and train and val sets (like we did with the trainval and test sets previously).\n",
    "\n",
    "1. Run the following code to setup the arrays we need for the train and val sets."
   ]
  },
  {
   "cell_type": "code",
   "execution_count": 57,
   "metadata": {},
   "outputs": [],
   "source": [
    "train_ind = att_splits['train_loc'].squeeze() - 1\n",
    "labels_train = labels[train_ind]\n",
    "\n",
    "val_ind = att_splits['val_loc'].squeeze() - 1\n",
    "labels_val = labels[val_ind]\n",
    "\n",
    "unique_train_labels = np.unique(labels_train)\n",
    "unique_val_labels = np.unique(labels_val)\n",
    "\n",
    "train_features = res101['features'][:, train_ind]\n",
    "val_features = res101['features'][:, val_ind]\n",
    "\n",
    "labels_index_train = np.zeros(labels_train.shape[0]).astype(int)\n",
    "for i, label in enumerate(unique_train_labels):\n",
    "    labels_index_train[labels_train == label] = i\n",
    "\n",
    "labels_index_val = np.zeros(labels_val.shape[0]).astype(int)\n",
    "for i, label in enumerate(unique_val_labels):\n",
    "    labels_index_val[labels_val == label] = i\n",
    "\n",
    "train_sig = signature[:, unique_train_labels]\n",
    "val_sig = signature[:, unique_val_labels]\n",
    "\n",
    "gt_train = np.zeros((labels_train.shape[0], unique_train_labels.shape[0])).astype(int)\n",
    "gt_train[np.arange(labels_train.shape[0]), labels_index_train] = 1"
   ]
  },
  {
   "cell_type": "markdown",
   "metadata": {},
   "source": [
    "2. Run the following snippet to obtain the best `alph1` and `gamm1`."
   ]
  },
  {
   "cell_type": "code",
   "execution_count": 58,
   "metadata": {
    "colab": {
     "base_uri": "https://localhost:8080/",
     "height": 240
    },
    "id": "yrYmi_IPhQjS",
    "outputId": "7925f224-f346-48eb-cd8b-f1b0212bf70c"
   },
   "outputs": [
    {
     "name": "stdout",
     "output_type": "stream",
     "text": [
      "Avg=0.0106, alpha=-3, gamma=-3\n",
      "Avg=0.0345, alpha=-3, gamma=-2\n",
      "Avg=0.0373, alpha=-3, gamma=-1\n",
      "Avg=0.1534, alpha=-3, gamma=0\n",
      "Avg=0.3937, alpha=-3, gamma=1\n",
      "Avg=0.3942, alpha=-3, gamma=2\n",
      "Avg=0.3893, alpha=-3, gamma=3\n",
      "Avg=0.0119, alpha=-2, gamma=-3\n",
      "Avg=0.0338, alpha=-2, gamma=-2\n",
      "Avg=0.0377, alpha=-2, gamma=-1\n",
      "Avg=0.1599, alpha=-2, gamma=0\n",
      "Avg=0.3997, alpha=-2, gamma=1\n",
      "Avg=0.3986, alpha=-2, gamma=2\n",
      "Avg=0.3989, alpha=-2, gamma=3\n",
      "Avg=0.0119, alpha=-1, gamma=-3\n",
      "Avg=0.0346, alpha=-1, gamma=-2\n",
      "Avg=0.0397, alpha=-1, gamma=-1\n",
      "Avg=0.1631, alpha=-1, gamma=0\n",
      "Avg=0.4060, alpha=-1, gamma=1\n",
      "Avg=0.4036, alpha=-1, gamma=2\n",
      "Avg=0.4028, alpha=-1, gamma=3\n",
      "Avg=0.0123, alpha=0, gamma=-3\n",
      "Avg=0.0359, alpha=0, gamma=-2\n",
      "Avg=0.0397, alpha=0, gamma=-1\n",
      "Avg=0.1670, alpha=0, gamma=0\n",
      "Avg=0.4093, alpha=0, gamma=1\n",
      "Avg=0.4109, alpha=0, gamma=2\n",
      "Avg=0.4073, alpha=0, gamma=3\n",
      "Avg=0.0119, alpha=1, gamma=-3\n",
      "Avg=0.0360, alpha=1, gamma=-2\n",
      "Avg=0.0393, alpha=1, gamma=-1\n",
      "Avg=0.1708, alpha=1, gamma=0\n",
      "Avg=0.4118, alpha=1, gamma=1\n",
      "Avg=0.4161, alpha=1, gamma=2\n",
      "Avg=0.4115, alpha=1, gamma=3\n",
      "Avg=0.0111, alpha=2, gamma=-3\n",
      "Avg=0.0368, alpha=2, gamma=-2\n",
      "Avg=0.0398, alpha=2, gamma=-1\n",
      "Avg=0.1746, alpha=2, gamma=0\n",
      "Avg=0.4151, alpha=2, gamma=1\n",
      "Avg=0.4211, alpha=2, gamma=2\n",
      "Avg=0.4155, alpha=2, gamma=3\n",
      "Avg=0.0107, alpha=3, gamma=-3\n",
      "Avg=0.0364, alpha=3, gamma=-2\n",
      "Avg=0.0398, alpha=3, gamma=-1\n",
      "Avg=0.1763, alpha=3, gamma=0\n",
      "Avg=0.4195, alpha=3, gamma=1\n",
      "Avg=0.4227, alpha=3, gamma=2\n",
      "Avg=0.4203, alpha=3, gamma=3\n",
      "Optimal Alpha: 3\n",
      "Optimal Gamma: 2\n",
      "Accuracy: 0.42274061267755414\n"
     ]
    }
   ],
   "source": [
    "accu = 0\n",
    "alph1 = None\n",
    "gamm1 = None\n",
    "for alpha in range(-3, 4):\n",
    "    for gamma in range(-3, 4):\n",
    "        V = calculate_V(train_features, gt_train, train_sig, alpha, gamma)\n",
    "        pred = calculate_predictions(V, val_features, val_sig)\n",
    "        cm = confusion_matrix(labels_index_val, pred)\n",
    "        cm = cm / cm.sum(axis=1)[:, np.newaxis]\n",
    "        avg = sum(cm.diagonal()) / unique_val_labels.shape[0]\n",
    "        print(f'Avg={avg:.4f}, alpha={alpha}, gamma={gamma}')\n",
    "\n",
    "        if avg > accu:\n",
    "            accu = avg\n",
    "            alph1 = alpha\n",
    "            gamm1 = gamma\n",
    "print('Optimal Alpha:', alph1)\n",
    "print('Optimal Gamma:', gamm1)\n",
    "print('Accuracy:', accu)"
   ]
  },
  {
   "cell_type": "markdown",
   "metadata": {},
   "source": [
    "3. Use the optimal values of `alph1` and `gamm1` to re-build the Zero Shot Learning model and report the 1% accuracy."
   ]
  },
  {
   "cell_type": "code",
   "execution_count": 59,
   "metadata": {},
   "outputs": [
    {
     "data": {
      "text/plain": "47.35520602643537"
     },
     "execution_count": 59,
     "metadata": {},
     "output_type": "execute_result"
    }
   ],
   "source": [
    "alpha = 3\n",
    "gamma = 2\n",
    "\n",
    "V = calculate_V(trainval_features, gt_trainval, trainval_sig, alpha, gamma)\n",
    "pred = calculate_predictions(V, test_features, test_sig)\n",
    "cm = confusion_matrix(labels_index_test,pred)\n",
    "one_percent_accuracy(cm) * 100"
   ]
  },
  {
   "cell_type": "code",
   "execution_count": 59,
   "outputs": [],
   "source": [],
   "metadata": {
    "collapsed": false,
    "pycharm": {
     "name": "#%%\n"
    }
   }
  }
 ],
 "metadata": {
  "colab": {
   "collapsed_sections": [
    "-bw006lcfixc",
    "q_actSwNhQiV",
    "q_B3YnWZhQic",
    "ZFLI_z7yhQih",
    "XWwYigQLK86b",
    "vHMKI2-mPNF-",
    "2NDeWf2whQik",
    "CKzhJdhYhQiq",
    "rpd67geQhQis",
    "vUGSbT-whQiv",
    "JXW87fPrZo6C",
    "UfTh5hG2Q1oT",
    "O9Q8qPu1hQi3",
    "AnQR7gyJhQi9",
    "UpRoKRHTTNPJ",
    "fRl8JaiVamW_",
    "LUd3qW1ZbDhm",
    "H357lH7OhQjB",
    "Uo8-xF4gc3vc"
   ],
   "name": "4_2_Zero_Shot_Learning_Assignment_SRC.ipynb",
   "provenance": []
  },
  "kernelspec": {
   "display_name": "Python 3",
   "language": "python",
   "name": "python3"
  },
  "language_info": {
   "codemirror_mode": {
    "name": "ipython",
    "version": 3
   },
   "file_extension": ".py",
   "mimetype": "text/x-python",
   "name": "python",
   "nbconvert_exporter": "python",
   "pygments_lexer": "ipython3",
   "version": "3.8.8"
  }
 },
 "nbformat": 4,
 "nbformat_minor": 1
}